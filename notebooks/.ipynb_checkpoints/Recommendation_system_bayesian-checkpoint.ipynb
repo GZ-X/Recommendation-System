{
 "cells": [
  {
   "cell_type": "code",
   "execution_count": 1,
   "metadata": {
    "collapsed": true
   },
   "outputs": [],
   "source": [
    "import pandas as pd\n",
    "import numpy as np\n",
    "import matplotlib.pyplot as plt\n",
    "%matplotlib inline"
   ]
  },
  {
   "cell_type": "code",
   "execution_count": 2,
   "metadata": {
    "collapsed": true
   },
   "outputs": [],
   "source": [
    "DATA_DIR = \"../gamedata/original_dataset/\"\n",
    "DATA_FILE = \"dd_event_schemas.csv\"\n",
    "GenreStats_DIR = \"../gamedata/genreStats/\"\n",
    "PlatformStats_DIR = \"../gamedata/platformStats/\"\n",
    "GenreScore_DIR = \"../gamedata/genreScore/\"\n",
    "PlatformScore_DIR = \"../gamedata/platformScore/\"\n",
    "WeightedScore_DIR = \"../gamedata/weightedScore/\""
   ]
  },
  {
   "cell_type": "code",
   "execution_count": 4,
   "metadata": {},
   "outputs": [],
   "source": [
    "dataset=pd.read_csv(DATA_DIR+DATA_FILE)#load original dataset"
   ]
  },
  {
   "cell_type": "code",
   "execution_count": 16,
   "metadata": {},
   "outputs": [
    {
     "data": {
      "text/plain": [
       "11189"
      ]
     },
     "execution_count": 16,
     "metadata": {},
     "output_type": "execute_result"
    }
   ],
   "source": [
    "# event = dataset.drop_duplicates(['eventname'])\n",
    "# event_amount = len(event)\n",
    "# feature_vect = [0]*event_amount\n",
    "# len(feature_vect)\n",
    "length=dataset['eventname'].value_counts().count()#Count the amount of all event\n",
    "length"
   ]
  },
  {
   "cell_type": "code",
   "execution_count": null,
   "metadata": {
    "collapsed": true
   },
   "outputs": [],
   "source": [
    "def get_feature_vector(dataset, vocabulary):\n",
    "    ''' \n",
    "    :param words \n",
    "    :type words: list of str\n",
    "    :param vocabulary\n",
    "    :type vocabulary: list of str\n",
    "    :return doc_vect\n",
    "    :type doc_vect: list of int\n",
    "    '''\n",
    "    feature_vect = [0]*event_amount\n",
    "    for word in words:\n",
    "        if word in vocabulary:\n",
    "            idx = vocabulary.index(word)\n",
    "            doc_vect[idx] = 1\n",
    "    return doc_vect"
   ]
  },
  {
   "cell_type": "code",
   "execution_count": null,
   "metadata": {
    "collapsed": true
   },
   "outputs": [],
   "source": []
  },
  {
   "cell_type": "code",
   "execution_count": null,
   "metadata": {
    "collapsed": true
   },
   "outputs": [],
   "source": []
  }
 ],
 "metadata": {
  "kernelspec": {
   "display_name": "Python 3",
   "language": "python",
   "name": "python3"
  },
  "language_info": {
   "codemirror_mode": {
    "name": "ipython",
    "version": 3
   },
   "file_extension": ".py",
   "mimetype": "text/x-python",
   "name": "python",
   "nbconvert_exporter": "python",
   "pygments_lexer": "ipython3",
   "version": "3.6.2"
  }
 },
 "nbformat": 4,
 "nbformat_minor": 2
}
