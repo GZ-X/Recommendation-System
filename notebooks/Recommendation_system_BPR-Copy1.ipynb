{
 "cells": [
  {
   "cell_type": "code",
   "execution_count": 1,
   "metadata": {
    "collapsed": true
   },
   "outputs": [],
   "source": [
    "#BPR\n",
    "import numpy\n",
    "import tensorflow as tf\n",
    "import os\n",
    "import random\n",
    "from collections import defaultdict\n",
    "import pandas as pd\n",
    "import matplotlib.pyplot as plt\n",
    "import multiprocessing\n",
    "from multiprocessing.dummy import Pool as ThreadPool \n",
    "import time\n",
    "from functools import partial\n",
    "from tqdm import tqdm\n",
    "%matplotlib inline"
   ]
  },
  {
   "cell_type": "code",
   "execution_count": 2,
   "metadata": {
    "collapsed": true
   },
   "outputs": [],
   "source": [
    "DATA_DIR = \"../gamedata/original_dataset/\"\n",
    "DATA_FILE = \"dd_event_schemas.csv\"\n",
    "DATA_FOR_BPR = \"data_for_BPR.csv\"\n",
    "SAVE_DIR = \"../gamedata/train_result/\""
   ]
  },
  {
   "cell_type": "code",
   "execution_count": 3,
   "metadata": {
    "collapsed": true
   },
   "outputs": [],
   "source": [
    "# #data preprocessing\n",
    "# data = pd.read_csv(DATA_DIR+DATA_FILE)\n",
    "# gameid = data['gameid'].drop_duplicates()\n",
    "# gameid_list = []\n",
    "# gameid_list = list(gameid)\n",
    "# gameid2newid = {old:new+1 for new, old in enumerate(gameid_list)}\n",
    "# data['new_game_id'] = data['gameid'].map(gameid2newid)\n",
    "\n",
    "# events = data['eventname'].drop_duplicates()\n",
    "# events_list = list(events)\n",
    "# events2id = {old:new+1 for new,old in enumerate(events_list)}\n",
    "# data['new_event_id'] = data['eventname'].map(events2id)"
   ]
  },
  {
   "cell_type": "code",
   "execution_count": null,
   "metadata": {
    "collapsed": true
   },
   "outputs": [],
   "source": [
    "#data.to_csv(DATA_DIR+'data_for_BPR.csv',index=False)"
   ]
  },
  {
   "cell_type": "code",
   "execution_count": null,
   "metadata": {
    "collapsed": true
   },
   "outputs": [],
   "source": [
    "#data=pd.read_csv(DATA_DIR+'data_for_BPR.csv')"
   ]
  },
  {
   "cell_type": "code",
   "execution_count": null,
   "metadata": {
    "collapsed": true
   },
   "outputs": [],
   "source": [
    "#data[data['new_game_id']==63]"
   ]
  },
  {
   "cell_type": "code",
   "execution_count": 4,
   "metadata": {},
   "outputs": [
    {
     "name": "stdout",
     "output_type": "stream",
     "text": [
      "game_count: 1108\n",
      "event_count: 11189\n"
     ]
    }
   ],
   "source": [
    "def load_data(data_path):\n",
    "    game_events = defaultdict(set)\n",
    "    game_count = -1\n",
    "    event_count = -1\n",
    "    with open(data_path,'r') as f:\n",
    "        header_line = next(f)\n",
    "        for line in f.readlines():\n",
    "            _, _, _, _, _, _, gameid, eventid = line.split(\",\")\n",
    "            gameid = int(gameid)\n",
    "            eventid = int(eventid)\n",
    "            #print(u,i)\n",
    "            game_events[gameid].add(eventid)\n",
    "            game_count = max(gameid, game_count)\n",
    "            event_count = max(eventid, event_count)\n",
    "    print (\"game_count:\", game_count)\n",
    "    print (\"event_count:\", event_count)\n",
    "    #return max_u_id, max_i_id, user_ratings\n",
    "    return game_count,event_count,game_events\n",
    "    \n",
    "\n",
    "#data_path = os.path.join('D:\\\\tmp\\\\ml-100k', 'u.data')\n",
    "#user_count, item_count, user_ratings = load_data(data_path)\n",
    "game_count,event_count,game_events_dict = load_data(DATA_DIR+DATA_FOR_BPR)"
   ]
  },
  {
   "cell_type": "code",
   "execution_count": 5,
   "metadata": {
    "collapsed": true
   },
   "outputs": [],
   "source": [
    "#\n",
    "def generate_test(game_events_dict):\n",
    "    user_test = dict()\n",
    "    for u, i_list in game_events_dict.items():\n",
    "        user_test[u] = random.sample(game_events_dict[u], 1)[0]\n",
    "    return user_test\n",
    "\n",
    "game_test_set = generate_test(game_events_dict)"
   ]
  },
  {
   "cell_type": "code",
   "execution_count": 6,
   "metadata": {
    "collapsed": true
   },
   "outputs": [],
   "source": [
    "#generate dataset for training\n",
    "def generate_train_batch(game_events_dict, game_test_set, event_count, batch_size):\n",
    "    t = []\n",
    "    \n",
    "    #print('generate batch..')\n",
    "    for b in range(batch_size):\n",
    "        break_flag1 = 0\n",
    "        break_flag2 = 0\n",
    "        u = random.sample(game_events_dict.keys(), 1)[0]\n",
    "        #print('u:',u)\n",
    "        i = random.sample(game_events_dict[u], 1)[0]\n",
    "        while i == game_test_set[u]:\n",
    "            break_flag1 += 1\n",
    "            i = random.sample(game_events_dict[u], 1)[0]\n",
    "            if break_flag1 == 20:\n",
    "                #game_events_dict.pop('u',None)\n",
    "                #game_test_set.pop('u',None)\n",
    "                break\n",
    "            #print('i:',i)\n",
    "        j = random.randint(1, event_count)\n",
    "        while j in game_events_dict[u]:\n",
    "            break_flag2 += 1\n",
    "            j = random.randint(1, event_count)\n",
    "            if break_flag2 == 20:\n",
    "                #game_events_dict.pop('u',None)\n",
    "                #game_test_set.pop('u',None)\n",
    "                break\n",
    "            #print('j:',j)\n",
    "        t.append([u, i, j])\n",
    "        #print(u,i,j)\n",
    "    #print('generate batch done!')\n",
    "    return numpy.asarray(t)\n",
    "\n",
    "#train_set = generate_train_batch(game_events_dict,game_test_set,event_count)"
   ]
  },
  {
   "cell_type": "code",
   "execution_count": 10,
   "metadata": {
    "collapsed": true
   },
   "outputs": [],
   "source": [
    "def generate_test_batch(game_events_dict, game_test_set, event_count):\n",
    "    for u in game_events_dict.keys():\n",
    "        t = []\n",
    "        i = game_test_set[u]\n",
    "        #for j in range(1, event_count+1):\n",
    "        for j in range(1, 501):\n",
    "            if not (j in game_events_dict[u]):\n",
    "                t.append([u, i, j])\n",
    "        yield numpy.asarray(t)"
   ]
  },
  {
   "cell_type": "code",
   "execution_count": 11,
   "metadata": {
    "collapsed": true
   },
   "outputs": [],
   "source": [
    "def bpr_mf(game_count, event_count, hidden_dim):\n",
    "    u = tf.placeholder(tf.int32, [None])\n",
    "    i = tf.placeholder(tf.int32, [None])\n",
    "    j = tf.placeholder(tf.int32, [None])\n",
    "\n",
    "    with tf.device(\"/cpu:0\"):\n",
    "        user_emb_w = tf.get_variable(\"user_emb_w\", [game_count+1, hidden_dim], \n",
    "                            initializer=tf.random_normal_initializer(0, 0.1))\n",
    "        item_emb_w = tf.get_variable(\"item_emb_w\", [event_count+1, hidden_dim], \n",
    "                                initializer=tf.random_normal_initializer(0, 0.1))\n",
    "        \n",
    "        u_emb = tf.nn.embedding_lookup(user_emb_w, u)\n",
    "        i_emb = tf.nn.embedding_lookup(item_emb_w, i)\n",
    "        j_emb = tf.nn.embedding_lookup(item_emb_w, j)\n",
    "    \n",
    "    # MF predict: u_i > u_j\n",
    "    x = tf.reduce_sum(tf.multiply(u_emb, (i_emb - j_emb)), 1, keepdims=True)\n",
    "    \n",
    "    # AUC for one user:\n",
    "    # reasonable iff all (u,i,j) pairs are from the same user\n",
    "    # \n",
    "    # average AUC = mean( auc for each user in test set)\n",
    "    mf_auc = tf.reduce_mean(tf.to_float(x > 0))\n",
    "    \n",
    "    l2_norm = tf.add_n([\n",
    "            tf.reduce_sum(tf.multiply(u_emb, u_emb)), \n",
    "            tf.reduce_sum(tf.multiply(i_emb, i_emb)),\n",
    "            tf.reduce_sum(tf.multiply(j_emb, j_emb))\n",
    "        ])\n",
    "    \n",
    "    regulation_rate = 0.0001\n",
    "    bprloss = regulation_rate * l2_norm - tf.reduce_mean(tf.log(tf.sigmoid(x)))\n",
    "    \n",
    "    train_op = tf.train.GradientDescentOptimizer(0.01).minimize(bprloss)\n",
    "    return u, i, j, mf_auc, bprloss, train_op"
   ]
  },
  {
   "cell_type": "code",
   "execution_count": 12,
   "metadata": {
    "scrolled": true
   },
   "outputs": [
    {
     "name": "stderr",
     "output_type": "stream",
     "text": [
      "\n",
      "  0%|          | 0/4999 [00:00<?, ?it/s]\u001b[A\n",
      "  0%|          | 5/4999 [00:00<01:40, 49.62it/s]"
     ]
    },
    {
     "name": "stdout",
     "output_type": "stream",
     "text": [
      "start epoch\n",
      "epoch:  1\n"
     ]
    },
    {
     "name": "stderr",
     "output_type": "stream",
     "text": [
      "\u001b[A\n",
      "  0%|          | 24/4999 [00:00<01:18, 63.66it/s]\u001b[A\n",
      "  1%|          | 40/4999 [00:00<01:03, 77.66it/s]\u001b[A\n",
      "  1%|          | 59/4999 [00:00<00:52, 94.07it/s]\u001b[A\n",
      "  2%|▏         | 79/4999 [00:00<00:44, 111.70it/s]\u001b[A\n",
      "  2%|▏         | 101/4999 [00:00<00:37, 130.88it/s]\u001b[A\n",
      "  2%|▏         | 122/4999 [00:00<00:33, 147.39it/s]\u001b[A\n",
      "  3%|▎         | 142/4999 [00:00<00:30, 159.91it/s]\u001b[A\n",
      "  3%|▎         | 163/4999 [00:00<00:28, 170.75it/s]\u001b[A\n",
      "  4%|▎         | 186/4999 [00:01<00:26, 182.97it/s]\u001b[A\n",
      "  4%|▍         | 208/4999 [00:01<00:25, 191.51it/s]\u001b[A\n",
      "  5%|▍         | 229/4999 [00:01<00:24, 196.30it/s]\u001b[A\n",
      "  5%|▌         | 250/4999 [00:01<00:23, 199.88it/s]\u001b[A\n",
      "  5%|▌         | 271/4999 [00:01<00:23, 199.74it/s]\u001b[A\n",
      "  6%|▌         | 293/4999 [00:01<00:23, 203.72it/s]\u001b[A\n",
      "100%|██████████| 4999/4999 [00:25<00:00, 196.48it/s]\n"
     ]
    },
    {
     "name": "stdout",
     "output_type": "stream",
     "text": [
      "bpr_loss:  0.7007177647744972\n",
      "_train_op\n"
     ]
    },
    {
     "name": "stderr",
     "output_type": "stream",
     "text": [
      "  0%|          | 23/4999 [00:00<00:22, 224.68it/s]"
     ]
    },
    {
     "name": "stdout",
     "output_type": "stream",
     "text": [
      "test_loss:  0.7205818876462723 test_auc:  0.5234339611757368\n",
      "\n",
      "epoch:  2\n"
     ]
    },
    {
     "name": "stderr",
     "output_type": "stream",
     "text": [
      "100%|██████████| 4999/4999 [00:25<00:00, 198.58it/s]\n"
     ]
    },
    {
     "name": "stdout",
     "output_type": "stream",
     "text": [
      "bpr_loss:  0.6999497409223628\n",
      "_train_op\n"
     ]
    },
    {
     "name": "stderr",
     "output_type": "stream",
     "text": [
      "  0%|          | 20/4999 [00:00<00:25, 193.33it/s]"
     ]
    },
    {
     "name": "stdout",
     "output_type": "stream",
     "text": [
      "test_loss:  0.7201979589591387 test_auc:  0.5248030779186875\n",
      "\n",
      "epoch:  3\n"
     ]
    },
    {
     "name": "stderr",
     "output_type": "stream",
     "text": [
      "100%|██████████| 4999/4999 [00:23<00:00, 209.07it/s]\n"
     ]
    },
    {
     "name": "stdout",
     "output_type": "stream",
     "text": [
      "bpr_loss:  0.6993014924548631\n",
      "_train_op\n"
     ]
    },
    {
     "name": "stderr",
     "output_type": "stream",
     "text": [
      "  0%|          | 22/4999 [00:00<00:22, 218.23it/s]"
     ]
    },
    {
     "name": "stdout",
     "output_type": "stream",
     "text": [
      "test_loss:  0.7199677403760731 test_auc:  0.5262230605188344\n",
      "\n",
      "epoch:  4\n"
     ]
    },
    {
     "name": "stderr",
     "output_type": "stream",
     "text": [
      "100%|██████████| 4999/4999 [00:23<00:00, 213.12it/s]\n"
     ]
    },
    {
     "name": "stdout",
     "output_type": "stream",
     "text": [
      "bpr_loss:  0.6986190350109588\n",
      "_train_op\n"
     ]
    },
    {
     "name": "stderr",
     "output_type": "stream",
     "text": [
      "  0%|          | 23/4999 [00:00<00:21, 226.34it/s]"
     ]
    },
    {
     "name": "stdout",
     "output_type": "stream",
     "text": [
      "test_loss:  0.7198501016796711 test_auc:  0.5280504674492706\n",
      "\n",
      "epoch:  5\n"
     ]
    },
    {
     "name": "stderr",
     "output_type": "stream",
     "text": [
      "100%|██████████| 4999/4999 [00:22<00:00, 223.62it/s]\n"
     ]
    },
    {
     "name": "stdout",
     "output_type": "stream",
     "text": [
      "bpr_loss:  0.6981650977092735\n",
      "_train_op\n"
     ]
    },
    {
     "name": "stderr",
     "output_type": "stream",
     "text": [
      "  0%|          | 23/4999 [00:00<00:22, 224.80it/s]"
     ]
    },
    {
     "name": "stdout",
     "output_type": "stream",
     "text": [
      "test_loss:  0.7198033946085493 test_auc:  0.5304028176684067\n",
      "\n",
      "epoch:  6\n"
     ]
    },
    {
     "name": "stderr",
     "output_type": "stream",
     "text": [
      "100%|██████████| 4999/4999 [00:22<00:00, 225.05it/s]\n"
     ]
    },
    {
     "name": "stdout",
     "output_type": "stream",
     "text": [
      "bpr_loss:  0.6974844386110689\n",
      "_train_op\n"
     ]
    },
    {
     "name": "stderr",
     "output_type": "stream",
     "text": [
      "  0%|          | 23/4999 [00:00<00:21, 226.95it/s]"
     ]
    },
    {
     "name": "stdout",
     "output_type": "stream",
     "text": [
      "test_loss:  0.7198332112941501 test_auc:  0.5329106752651438\n",
      "\n",
      "epoch:  7\n"
     ]
    },
    {
     "name": "stderr",
     "output_type": "stream",
     "text": [
      "100%|██████████| 4999/4999 [00:22<00:00, 224.84it/s]\n"
     ]
    },
    {
     "name": "stdout",
     "output_type": "stream",
     "text": [
      "bpr_loss:  0.6968127051504356\n",
      "_train_op\n"
     ]
    },
    {
     "name": "stderr",
     "output_type": "stream",
     "text": [
      "  0%|          | 23/4999 [00:00<00:22, 225.62it/s]"
     ]
    },
    {
     "name": "stdout",
     "output_type": "stream",
     "text": [
      "test_loss:  0.719909279139894 test_auc:  0.5359316676899636\n",
      "\n",
      "epoch:  8\n"
     ]
    },
    {
     "name": "stderr",
     "output_type": "stream",
     "text": [
      "100%|██████████| 4999/4999 [00:22<00:00, 224.55it/s]\n"
     ]
    },
    {
     "name": "stdout",
     "output_type": "stream",
     "text": [
      "bpr_loss:  0.696116811193259\n",
      "_train_op\n"
     ]
    },
    {
     "name": "stderr",
     "output_type": "stream",
     "text": [
      "  0%|          | 23/4999 [00:00<00:21, 227.44it/s]"
     ]
    },
    {
     "name": "stdout",
     "output_type": "stream",
     "text": [
      "test_loss:  0.7200189126850466 test_auc:  0.5396872270782562\n",
      "\n",
      "epoch:  9\n"
     ]
    },
    {
     "name": "stderr",
     "output_type": "stream",
     "text": [
      "100%|██████████| 4999/4999 [00:23<00:00, 215.05it/s]\n"
     ]
    },
    {
     "name": "stdout",
     "output_type": "stream",
     "text": [
      "bpr_loss:  0.6953998422188672\n",
      "_train_op\n"
     ]
    },
    {
     "name": "stderr",
     "output_type": "stream",
     "text": [
      "  0%|          | 23/4999 [00:00<00:21, 228.38it/s]"
     ]
    },
    {
     "name": "stdout",
     "output_type": "stream",
     "text": [
      "test_loss:  0.7201627177667101 test_auc:  0.5438794282486491\n",
      "\n",
      "epoch:  10\n"
     ]
    },
    {
     "name": "stderr",
     "output_type": "stream",
     "text": [
      "100%|██████████| 4999/4999 [00:22<00:00, 224.61it/s]\n"
     ]
    },
    {
     "name": "stdout",
     "output_type": "stream",
     "text": [
      "bpr_loss:  0.6944634249434993\n",
      "_train_op\n"
     ]
    },
    {
     "name": "stderr",
     "output_type": "stream",
     "text": [
      "  0%|          | 23/4999 [00:00<00:22, 225.45it/s]"
     ]
    },
    {
     "name": "stdout",
     "output_type": "stream",
     "text": [
      "test_loss:  0.720362067545364 test_auc:  0.549030016917342\n",
      "\n",
      "epoch:  11\n"
     ]
    },
    {
     "name": "stderr",
     "output_type": "stream",
     "text": [
      "100%|██████████| 4999/4999 [00:22<00:00, 224.49it/s]\n"
     ]
    },
    {
     "name": "stdout",
     "output_type": "stream",
     "text": [
      "bpr_loss:  0.6935627125553857\n",
      "_train_op\n"
     ]
    },
    {
     "name": "stderr",
     "output_type": "stream",
     "text": [
      "  0%|          | 23/4999 [00:00<00:21, 227.95it/s]"
     ]
    },
    {
     "name": "stdout",
     "output_type": "stream",
     "text": [
      "test_loss:  0.7205967208108317 test_auc:  0.5547487028109142\n",
      "\n",
      "epoch:  12\n"
     ]
    },
    {
     "name": "stderr",
     "output_type": "stream",
     "text": [
      "100%|██████████| 4999/4999 [00:22<00:00, 224.25it/s]\n"
     ]
    },
    {
     "name": "stdout",
     "output_type": "stream",
     "text": [
      "bpr_loss:  0.6924214618137823\n",
      "_train_op\n"
     ]
    },
    {
     "name": "stderr",
     "output_type": "stream",
     "text": [
      "  0%|          | 23/4999 [00:00<00:21, 226.61it/s]"
     ]
    },
    {
     "name": "stdout",
     "output_type": "stream",
     "text": [
      "test_loss:  0.7208731053430681 test_auc:  0.5612057131214575\n",
      "\n",
      "epoch:  13\n"
     ]
    },
    {
     "name": "stderr",
     "output_type": "stream",
     "text": [
      "100%|██████████| 4999/4999 [00:23<00:00, 214.39it/s]\n"
     ]
    },
    {
     "name": "stdout",
     "output_type": "stream",
     "text": [
      "bpr_loss:  0.6912170971815861\n",
      "_train_op\n"
     ]
    },
    {
     "name": "stderr",
     "output_type": "stream",
     "text": [
      "  0%|          | 18/4999 [00:00<00:28, 176.14it/s]"
     ]
    },
    {
     "name": "stdout",
     "output_type": "stream",
     "text": [
      "test_loss:  0.7212028714293607 test_auc:  0.5680331417282922\n",
      "\n",
      "epoch:  14\n"
     ]
    },
    {
     "name": "stderr",
     "output_type": "stream",
     "text": [
      "100%|██████████| 4999/4999 [00:24<00:00, 204.56it/s]\n"
     ]
    },
    {
     "name": "stdout",
     "output_type": "stream",
     "text": [
      "bpr_loss:  0.6897002524031379\n",
      "_train_op\n"
     ]
    },
    {
     "name": "stderr",
     "output_type": "stream",
     "text": [
      "  0%|          | 21/4999 [00:00<00:24, 204.87it/s]"
     ]
    },
    {
     "name": "stdout",
     "output_type": "stream",
     "text": [
      "test_loss:  0.7215622438097689 test_auc:  0.5755455002418992\n",
      "\n",
      "epoch:  15\n"
     ]
    },
    {
     "name": "stderr",
     "output_type": "stream",
     "text": [
      "100%|██████████| 4999/4999 [00:25<00:00, 193.57it/s]\n"
     ]
    },
    {
     "name": "stdout",
     "output_type": "stream",
     "text": [
      "bpr_loss:  0.6880558815138844\n",
      "_train_op\n"
     ]
    },
    {
     "name": "stderr",
     "output_type": "stream",
     "text": [
      "  0%|          | 23/4999 [00:00<00:22, 224.19it/s]"
     ]
    },
    {
     "name": "stdout",
     "output_type": "stream",
     "text": [
      "test_loss:  0.7219506936275571 test_auc:  0.583574318825242\n",
      "\n",
      "epoch:  16\n"
     ]
    },
    {
     "name": "stderr",
     "output_type": "stream",
     "text": [
      "100%|██████████| 4999/4999 [00:25<00:00, 192.98it/s]\n"
     ]
    },
    {
     "name": "stdout",
     "output_type": "stream",
     "text": [
      "bpr_loss:  0.6860774357954629\n",
      "_train_op\n"
     ]
    },
    {
     "name": "stderr",
     "output_type": "stream",
     "text": [
      "  0%|          | 23/4999 [00:00<00:21, 226.21it/s]"
     ]
    },
    {
     "name": "stdout",
     "output_type": "stream",
     "text": [
      "test_loss:  0.7223685794789008 test_auc:  0.5923337204172108\n",
      "\n",
      "epoch:  17\n"
     ]
    },
    {
     "name": "stderr",
     "output_type": "stream",
     "text": [
      "100%|██████████| 4999/4999 [00:25<00:00, 198.56it/s]\n"
     ]
    },
    {
     "name": "stdout",
     "output_type": "stream",
     "text": [
      "bpr_loss:  0.6837694971626772\n",
      "_train_op\n"
     ]
    },
    {
     "name": "stderr",
     "output_type": "stream",
     "text": [
      "  0%|          | 23/4999 [00:00<00:22, 225.36it/s]"
     ]
    },
    {
     "name": "stdout",
     "output_type": "stream",
     "text": [
      "test_loss:  0.7228351435506387 test_auc:  0.601476877808633\n",
      "\n",
      "epoch:  18\n"
     ]
    },
    {
     "name": "stderr",
     "output_type": "stream",
     "text": [
      "100%|██████████| 4999/4999 [00:25<00:00, 199.53it/s]\n"
     ]
    },
    {
     "name": "stdout",
     "output_type": "stream",
     "text": [
      "bpr_loss:  0.6812419805390331\n",
      "_train_op\n"
     ]
    },
    {
     "name": "stderr",
     "output_type": "stream",
     "text": [
      "  0%|          | 23/4999 [00:00<00:22, 224.29it/s]"
     ]
    },
    {
     "name": "stdout",
     "output_type": "stream",
     "text": [
      "test_loss:  0.7233264748047405 test_auc:  0.610687328459458\n",
      "\n",
      "epoch:  19\n"
     ]
    },
    {
     "name": "stderr",
     "output_type": "stream",
     "text": [
      "100%|██████████| 4999/4999 [00:24<00:00, 207.59it/s]\n"
     ]
    },
    {
     "name": "stdout",
     "output_type": "stream",
     "text": [
      "bpr_loss:  0.6783104815538418\n",
      "_train_op\n"
     ]
    },
    {
     "name": "stderr",
     "output_type": "stream",
     "text": [
      "  0%|          | 20/4999 [00:00<00:25, 194.77it/s]"
     ]
    },
    {
     "name": "stdout",
     "output_type": "stream",
     "text": [
      "test_loss:  0.7238465342065488 test_auc:  0.6208427640761162\n",
      "\n",
      "epoch:  20\n"
     ]
    },
    {
     "name": "stderr",
     "output_type": "stream",
     "text": [
      "100%|██████████| 4999/4999 [00:25<00:00, 198.31it/s]\n"
     ]
    },
    {
     "name": "stdout",
     "output_type": "stream",
     "text": [
      "bpr_loss:  0.6749992953536271\n",
      "_train_op\n"
     ]
    },
    {
     "name": "stderr",
     "output_type": "stream",
     "text": [
      "  0%|          | 23/4999 [00:00<00:22, 221.48it/s]"
     ]
    },
    {
     "name": "stdout",
     "output_type": "stream",
     "text": [
      "test_loss:  0.7243840073097484 test_auc:  0.6315557949939685\n",
      "\n",
      "epoch:  21\n"
     ]
    },
    {
     "name": "stderr",
     "output_type": "stream",
     "text": [
      "100%|██████████| 4999/4999 [00:25<00:00, 200.60it/s]\n"
     ]
    },
    {
     "name": "stdout",
     "output_type": "stream",
     "text": [
      "bpr_loss:  0.6713788733288726\n",
      "_train_op\n"
     ]
    },
    {
     "name": "stderr",
     "output_type": "stream",
     "text": [
      "  0%|          | 23/4999 [00:00<00:22, 217.02it/s]"
     ]
    },
    {
     "name": "stdout",
     "output_type": "stream",
     "text": [
      "test_loss:  0.7249247119745192 test_auc:  0.6421779974169158\n",
      "\n",
      "epoch:  22\n"
     ]
    },
    {
     "name": "stderr",
     "output_type": "stream",
     "text": [
      "100%|██████████| 4999/4999 [00:24<00:00, 206.36it/s]\n"
     ]
    },
    {
     "name": "stdout",
     "output_type": "stream",
     "text": [
      "bpr_loss:  0.667156310767311\n",
      "_train_op\n"
     ]
    },
    {
     "name": "stderr",
     "output_type": "stream",
     "text": [
      "  0%|          | 18/4999 [00:00<00:27, 179.35it/s]"
     ]
    },
    {
     "name": "stdout",
     "output_type": "stream",
     "text": [
      "test_loss:  0.7254868546763051 test_auc:  0.6524249350972345\n",
      "\n",
      "epoch:  23\n"
     ]
    },
    {
     "name": "stderr",
     "output_type": "stream",
     "text": [
      "100%|██████████| 4999/4999 [00:23<00:00, 208.74it/s]\n"
     ]
    },
    {
     "name": "stdout",
     "output_type": "stream",
     "text": [
      "bpr_loss:  0.6625503058027186\n",
      "_train_op\n"
     ]
    },
    {
     "name": "stderr",
     "output_type": "stream",
     "text": [
      "  0%|          | 16/4999 [00:00<00:31, 158.20it/s]"
     ]
    },
    {
     "name": "stdout",
     "output_type": "stream",
     "text": [
      "test_loss:  0.7260384510678074 test_auc:  0.6617928193882108\n",
      "\n",
      "epoch:  24\n"
     ]
    },
    {
     "name": "stderr",
     "output_type": "stream",
     "text": [
      "100%|██████████| 4999/4999 [00:23<00:00, 214.74it/s]\n"
     ]
    },
    {
     "name": "stdout",
     "output_type": "stream",
     "text": [
      "bpr_loss:  0.6577426969563873\n",
      "_train_op\n"
     ]
    },
    {
     "name": "stderr",
     "output_type": "stream",
     "text": [
      "  0%|          | 23/4999 [00:00<00:21, 227.77it/s]"
     ]
    },
    {
     "name": "stdout",
     "output_type": "stream",
     "text": [
      "test_loss:  0.7265565998932945 test_auc:  0.6703698955754084\n",
      "\n",
      "epoch:  25\n"
     ]
    },
    {
     "name": "stderr",
     "output_type": "stream",
     "text": [
      "100%|██████████| 4999/4999 [00:25<00:00, 158.73it/s]\n"
     ]
    },
    {
     "name": "stdout",
     "output_type": "stream",
     "text": [
      "bpr_loss:  0.6526617563278777\n",
      "_train_op\n"
     ]
    },
    {
     "name": "stderr",
     "output_type": "stream",
     "text": [
      "  0%|          | 16/4999 [00:00<00:31, 156.49it/s]"
     ]
    },
    {
     "name": "stdout",
     "output_type": "stream",
     "text": [
      "test_loss:  0.7270151378338088 test_auc:  0.6784493126206702\n",
      "\n",
      "epoch:  26\n"
     ]
    },
    {
     "name": "stderr",
     "output_type": "stream",
     "text": [
      "100%|██████████| 4999/4999 [00:25<00:00, 197.36it/s]\n"
     ]
    },
    {
     "name": "stdout",
     "output_type": "stream",
     "text": [
      "bpr_loss:  0.6472234859731727\n",
      "_train_op\n"
     ]
    },
    {
     "name": "stderr",
     "output_type": "stream",
     "text": [
      "  0%|          | 22/4999 [00:00<00:22, 219.18it/s]"
     ]
    },
    {
     "name": "stdout",
     "output_type": "stream",
     "text": [
      "test_loss:  0.727372083907093 test_auc:  0.6865140904303866\n",
      "\n",
      "epoch:  27\n"
     ]
    },
    {
     "name": "stderr",
     "output_type": "stream",
     "text": [
      "100%|██████████| 4999/4999 [00:25<00:00, 197.96it/s]\n"
     ]
    },
    {
     "name": "stdout",
     "output_type": "stream",
     "text": [
      "bpr_loss:  0.6416641856389276\n",
      "_train_op\n"
     ]
    },
    {
     "name": "stderr",
     "output_type": "stream",
     "text": [
      "  0%|          | 22/4999 [00:00<00:23, 214.81it/s]"
     ]
    },
    {
     "name": "stdout",
     "output_type": "stream",
     "text": [
      "test_loss:  0.727632004646618 test_auc:  0.6939885670670967\n",
      "\n",
      "epoch:  28\n"
     ]
    },
    {
     "name": "stderr",
     "output_type": "stream",
     "text": [
      "100%|██████████| 4999/4999 [00:22<00:00, 224.35it/s]\n"
     ]
    },
    {
     "name": "stdout",
     "output_type": "stream",
     "text": [
      "bpr_loss:  0.6356347787377834\n",
      "_train_op\n"
     ]
    },
    {
     "name": "stderr",
     "output_type": "stream",
     "text": [
      "  0%|          | 23/4999 [00:00<00:22, 224.62it/s]"
     ]
    },
    {
     "name": "stdout",
     "output_type": "stream",
     "text": [
      "test_loss:  0.7278136332327708 test_auc:  0.701344602671746\n",
      "\n",
      "epoch:  29\n"
     ]
    },
    {
     "name": "stderr",
     "output_type": "stream",
     "text": [
      "100%|██████████| 4999/4999 [00:21<00:00, 227.28it/s]\n"
     ]
    },
    {
     "name": "stdout",
     "output_type": "stream",
     "text": [
      "bpr_loss:  0.6296227294031347\n",
      "_train_op\n"
     ]
    },
    {
     "name": "stderr",
     "output_type": "stream",
     "text": [
      "  0%|          | 23/4999 [00:00<00:21, 228.29it/s]"
     ]
    },
    {
     "name": "stdout",
     "output_type": "stream",
     "text": [
      "test_loss:  0.7278387527173177 test_auc:  0.7089645046278892\n",
      "\n",
      "epoch:  30\n"
     ]
    },
    {
     "name": "stderr",
     "output_type": "stream",
     "text": [
      "100%|██████████| 4999/4999 [00:21<00:00, 228.18it/s]\n"
     ]
    },
    {
     "name": "stdout",
     "output_type": "stream",
     "text": [
      "bpr_loss:  0.6239451702462837\n",
      "_train_op\n"
     ]
    },
    {
     "name": "stderr",
     "output_type": "stream",
     "text": [
      "  0%|          | 23/4999 [00:00<00:21, 226.84it/s]"
     ]
    },
    {
     "name": "stdout",
     "output_type": "stream",
     "text": [
      "test_loss:  0.7277019200880175 test_auc:  0.7159348085355803\n",
      "\n",
      "epoch:  31\n"
     ]
    },
    {
     "name": "stderr",
     "output_type": "stream",
     "text": [
      "100%|██████████| 4999/4999 [00:22<00:00, 229.01it/s]\n"
     ]
    },
    {
     "name": "stdout",
     "output_type": "stream",
     "text": [
      "bpr_loss:  0.6176832160202831\n",
      "_train_op\n"
     ]
    },
    {
     "name": "stderr",
     "output_type": "stream",
     "text": [
      "  0%|          | 23/4999 [00:00<00:21, 226.71it/s]"
     ]
    },
    {
     "name": "stdout",
     "output_type": "stream",
     "text": [
      "test_loss:  0.7274239736235959 test_auc:  0.7222844512630102\n",
      "\n",
      "epoch:  32\n"
     ]
    },
    {
     "name": "stderr",
     "output_type": "stream",
     "text": [
      "100%|██████████| 4999/4999 [00:21<00:00, 228.09it/s]\n"
     ]
    },
    {
     "name": "stdout",
     "output_type": "stream",
     "text": [
      "bpr_loss:  0.6121056902453909\n",
      "_train_op\n"
     ]
    },
    {
     "name": "stderr",
     "output_type": "stream",
     "text": [
      "  0%|          | 23/4999 [00:00<00:22, 223.20it/s]"
     ]
    },
    {
     "name": "stdout",
     "output_type": "stream",
     "text": [
      "test_loss:  0.7269331171086549 test_auc:  0.7280061311695375\n",
      "\n",
      "epoch:  33\n"
     ]
    },
    {
     "name": "stderr",
     "output_type": "stream",
     "text": [
      "100%|██████████| 4999/4999 [00:21<00:00, 227.65it/s]\n"
     ]
    },
    {
     "name": "stdout",
     "output_type": "stream",
     "text": [
      "bpr_loss:  0.6058344127750798\n",
      "_train_op\n"
     ]
    },
    {
     "name": "stderr",
     "output_type": "stream",
     "text": [
      "  0%|          | 23/4999 [00:00<00:21, 228.39it/s]"
     ]
    },
    {
     "name": "stdout",
     "output_type": "stream",
     "text": [
      "test_loss:  0.7262740216423028 test_auc:  0.7327475304398451\n",
      "\n",
      "epoch:  34\n"
     ]
    },
    {
     "name": "stderr",
     "output_type": "stream",
     "text": [
      "100%|██████████| 4999/4999 [00:22<00:00, 226.25it/s]\n"
     ]
    },
    {
     "name": "stdout",
     "output_type": "stream",
     "text": [
      "bpr_loss:  0.5997873866622461\n",
      "_train_op\n"
     ]
    },
    {
     "name": "stderr",
     "output_type": "stream",
     "text": [
      "  0%|          | 23/4999 [00:00<00:22, 221.96it/s]"
     ]
    },
    {
     "name": "stdout",
     "output_type": "stream",
     "text": [
      "test_loss:  0.7254259455343877 test_auc:  0.7368184384187626\n",
      "\n",
      "epoch:  35\n"
     ]
    },
    {
     "name": "stderr",
     "output_type": "stream",
     "text": [
      "100%|██████████| 4999/4999 [00:21<00:00, 228.42it/s]\n"
     ]
    },
    {
     "name": "stdout",
     "output_type": "stream",
     "text": [
      "bpr_loss:  0.5940271649009634\n",
      "_train_op\n"
     ]
    },
    {
     "name": "stderr",
     "output_type": "stream",
     "text": [
      "  0%|          | 23/4999 [00:00<00:21, 228.31it/s]"
     ]
    },
    {
     "name": "stdout",
     "output_type": "stream",
     "text": [
      "test_loss:  0.724406519279368 test_auc:  0.7408281340543685\n",
      "\n",
      "epoch:  36\n"
     ]
    },
    {
     "name": "stderr",
     "output_type": "stream",
     "text": [
      "100%|██████████| 4999/4999 [00:21<00:00, 227.86it/s]\n"
     ]
    },
    {
     "name": "stdout",
     "output_type": "stream",
     "text": [
      "bpr_loss:  0.5880942892184089\n",
      "_train_op\n"
     ]
    },
    {
     "name": "stderr",
     "output_type": "stream",
     "text": [
      "  0%|          | 23/4999 [00:00<00:22, 224.24it/s]"
     ]
    },
    {
     "name": "stdout",
     "output_type": "stream",
     "text": [
      "test_loss:  0.7232542084765348 test_auc:  0.7450883867099733\n",
      "\n",
      "epoch:  37\n"
     ]
    },
    {
     "name": "stderr",
     "output_type": "stream",
     "text": [
      "100%|██████████| 4999/4999 [00:21<00:00, 228.17it/s]\n"
     ]
    },
    {
     "name": "stdout",
     "output_type": "stream",
     "text": [
      "bpr_loss:  0.5824907479178407\n",
      "_train_op\n"
     ]
    },
    {
     "name": "stderr",
     "output_type": "stream",
     "text": [
      "  0%|          | 23/4999 [00:00<00:21, 226.39it/s]"
     ]
    },
    {
     "name": "stdout",
     "output_type": "stream",
     "text": [
      "test_loss:  0.721934893608954 test_auc:  0.7492312926837724\n",
      "\n",
      "epoch:  38\n"
     ]
    },
    {
     "name": "stderr",
     "output_type": "stream",
     "text": [
      "100%|██████████| 4999/4999 [00:22<00:00, 224.89it/s]\n"
     ]
    },
    {
     "name": "stdout",
     "output_type": "stream",
     "text": [
      "bpr_loss:  0.5767891193824092\n",
      "_train_op\n"
     ]
    },
    {
     "name": "stderr",
     "output_type": "stream",
     "text": [
      "  0%|          | 23/4999 [00:00<00:22, 224.39it/s]"
     ]
    },
    {
     "name": "stdout",
     "output_type": "stream",
     "text": [
      "test_loss:  0.7204958828240096 test_auc:  0.7524825946481677\n",
      "\n",
      "epoch:  39\n"
     ]
    },
    {
     "name": "stderr",
     "output_type": "stream",
     "text": [
      "100%|██████████| 4999/4999 [00:21<00:00, 228.27it/s]\n"
     ]
    },
    {
     "name": "stdout",
     "output_type": "stream",
     "text": [
      "bpr_loss:  0.5711466853893812\n",
      "_train_op\n"
     ]
    },
    {
     "name": "stderr",
     "output_type": "stream",
     "text": [
      "  0%|          | 24/4999 [00:00<00:21, 231.85it/s]"
     ]
    },
    {
     "name": "stdout",
     "output_type": "stream",
     "text": [
      "test_loss:  0.7189564244680456 test_auc:  0.7555771185461742\n",
      "\n",
      "epoch:  40\n"
     ]
    },
    {
     "name": "stderr",
     "output_type": "stream",
     "text": [
      "100%|██████████| 4999/4999 [00:24<00:00, 202.70it/s]\n"
     ]
    },
    {
     "name": "stdout",
     "output_type": "stream",
     "text": [
      "bpr_loss:  0.5659042545427535\n",
      "_train_op\n"
     ]
    },
    {
     "name": "stderr",
     "output_type": "stream",
     "text": [
      "  0%|          | 23/4999 [00:00<00:22, 225.32it/s]"
     ]
    },
    {
     "name": "stdout",
     "output_type": "stream",
     "text": [
      "test_loss:  0.7173204864997296 test_auc:  0.758143903000872\n",
      "\n",
      "epoch:  41\n"
     ]
    },
    {
     "name": "stderr",
     "output_type": "stream",
     "text": [
      "100%|██████████| 4999/4999 [00:26<00:00, 190.35it/s]\n"
     ]
    },
    {
     "name": "stdout",
     "output_type": "stream",
     "text": [
      "bpr_loss:  0.5606259032711313\n",
      "_train_op\n"
     ]
    },
    {
     "name": "stderr",
     "output_type": "stream",
     "text": [
      "  0%|          | 22/4999 [00:00<00:22, 219.38it/s]"
     ]
    },
    {
     "name": "stdout",
     "output_type": "stream",
     "text": [
      "test_loss:  0.7156026002947604 test_auc:  0.7606673935558126\n",
      "\n",
      "epoch:  42\n"
     ]
    },
    {
     "name": "stderr",
     "output_type": "stream",
     "text": [
      "100%|██████████| 4999/4999 [00:24<00:00, 205.86it/s]\n"
     ]
    },
    {
     "name": "stdout",
     "output_type": "stream",
     "text": [
      "bpr_loss:  0.5550450226632946\n",
      "_train_op\n"
     ]
    },
    {
     "name": "stderr",
     "output_type": "stream",
     "text": [
      "  0%|          | 23/4999 [00:00<00:21, 226.33it/s]"
     ]
    },
    {
     "name": "stdout",
     "output_type": "stream",
     "text": [
      "test_loss:  0.7138276226845459 test_auc:  0.7631084121469937\n",
      "\n",
      "epoch:  43\n"
     ]
    },
    {
     "name": "stderr",
     "output_type": "stream",
     "text": [
      "100%|██████████| 4999/4999 [00:22<00:00, 217.56it/s]\n"
     ]
    },
    {
     "name": "stdout",
     "output_type": "stream",
     "text": [
      "bpr_loss:  0.549850754861618\n",
      "_train_op\n"
     ]
    },
    {
     "name": "stderr",
     "output_type": "stream",
     "text": [
      "  0%|          | 21/4999 [00:00<00:24, 200.76it/s]"
     ]
    },
    {
     "name": "stdout",
     "output_type": "stream",
     "text": [
      "test_loss:  0.7120190985258736 test_auc:  0.7654308368836863\n",
      "\n",
      "epoch:  44\n"
     ]
    },
    {
     "name": "stderr",
     "output_type": "stream",
     "text": [
      "100%|██████████| 4999/4999 [00:22<00:00, 218.50it/s]\n"
     ]
    },
    {
     "name": "stdout",
     "output_type": "stream",
     "text": [
      "bpr_loss:  0.5452260970175088\n",
      "_train_op\n"
     ]
    },
    {
     "name": "stderr",
     "output_type": "stream",
     "text": [
      "  0%|          | 23/4999 [00:00<00:22, 224.24it/s]"
     ]
    },
    {
     "name": "stdout",
     "output_type": "stream",
     "text": [
      "test_loss:  0.7101840023422069 test_auc:  0.767803243818249\n",
      "\n",
      "epoch:  45\n"
     ]
    },
    {
     "name": "stderr",
     "output_type": "stream",
     "text": [
      "100%|██████████| 4999/4999 [00:22<00:00, 220.43it/s]\n"
     ]
    },
    {
     "name": "stdout",
     "output_type": "stream",
     "text": [
      "bpr_loss:  0.5402029513966968\n",
      "_train_op\n"
     ]
    },
    {
     "name": "stderr",
     "output_type": "stream",
     "text": [
      "  0%|          | 23/4999 [00:00<00:21, 228.33it/s]"
     ]
    },
    {
     "name": "stdout",
     "output_type": "stream",
     "text": [
      "test_loss:  0.7083015928199575 test_auc:  0.7702297691389455\n",
      "\n",
      "epoch:  46\n"
     ]
    },
    {
     "name": "stderr",
     "output_type": "stream",
     "text": [
      "100%|██████████| 4999/4999 [00:25<00:00, 196.63it/s]\n"
     ]
    },
    {
     "name": "stdout",
     "output_type": "stream",
     "text": [
      "bpr_loss:  0.5357962645550064\n",
      "_train_op\n"
     ]
    },
    {
     "name": "stderr",
     "output_type": "stream",
     "text": [
      "  0%|          | 20/4999 [00:00<00:25, 197.27it/s]"
     ]
    },
    {
     "name": "stdout",
     "output_type": "stream",
     "text": [
      "test_loss:  0.7064371065972944 test_auc:  0.7721317592501432\n",
      "\n",
      "epoch:  47\n"
     ]
    },
    {
     "name": "stderr",
     "output_type": "stream",
     "text": [
      "100%|██████████| 4999/4999 [00:25<00:00, 198.06it/s]\n"
     ]
    },
    {
     "name": "stdout",
     "output_type": "stream",
     "text": [
      "bpr_loss:  0.5308207744811864\n",
      "_train_op\n"
     ]
    },
    {
     "name": "stderr",
     "output_type": "stream",
     "text": [
      "  0%|          | 23/4999 [00:00<00:21, 228.97it/s]"
     ]
    },
    {
     "name": "stdout",
     "output_type": "stream",
     "text": [
      "test_loss:  0.7045369718479335 test_auc:  0.7737274093209642\n",
      "\n",
      "epoch:  48\n"
     ]
    },
    {
     "name": "stderr",
     "output_type": "stream",
     "text": [
      "100%|██████████| 4999/4999 [00:24<00:00, 207.44it/s]\n"
     ]
    },
    {
     "name": "stdout",
     "output_type": "stream",
     "text": [
      "bpr_loss:  0.5262812633565913\n",
      "_train_op\n"
     ]
    },
    {
     "name": "stderr",
     "output_type": "stream",
     "text": [
      "  0%|          | 23/4999 [00:00<00:22, 225.43it/s]"
     ]
    },
    {
     "name": "stdout",
     "output_type": "stream",
     "text": [
      "test_loss:  0.7026430907447415 test_auc:  0.7751732485176364\n",
      "\n",
      "epoch:  49\n"
     ]
    },
    {
     "name": "stderr",
     "output_type": "stream",
     "text": [
      "100%|██████████| 4999/4999 [00:23<00:00, 213.22it/s]\n"
     ]
    },
    {
     "name": "stdout",
     "output_type": "stream",
     "text": [
      "bpr_loss:  0.5221228891132974\n",
      "_train_op\n"
     ]
    },
    {
     "name": "stderr",
     "output_type": "stream",
     "text": [
      "  0%|          | 23/4999 [00:00<00:22, 222.36it/s]"
     ]
    },
    {
     "name": "stdout",
     "output_type": "stream",
     "text": [
      "test_loss:  0.7007737496484487 test_auc:  0.7762879097766145\n",
      "\n",
      "epoch:  50\n"
     ]
    },
    {
     "name": "stderr",
     "output_type": "stream",
     "text": [
      "100%|██████████| 4999/4999 [00:22<00:00, 223.60it/s]\n"
     ]
    },
    {
     "name": "stdout",
     "output_type": "stream",
     "text": [
      "bpr_loss:  0.5175759975768061\n",
      "_train_op\n"
     ]
    },
    {
     "name": "stderr",
     "output_type": "stream",
     "text": [
      "  0%|          | 23/4999 [00:00<00:21, 228.02it/s]"
     ]
    },
    {
     "name": "stdout",
     "output_type": "stream",
     "text": [
      "test_loss:  0.6988928738161114 test_auc:  0.7773999313076635\n",
      "\n",
      "epoch:  51\n"
     ]
    },
    {
     "name": "stderr",
     "output_type": "stream",
     "text": [
      "100%|██████████| 4999/4999 [00:23<00:00, 210.53it/s]\n"
     ]
    },
    {
     "name": "stdout",
     "output_type": "stream",
     "text": [
      "bpr_loss:  0.5138422754448064\n",
      "_train_op\n"
     ]
    },
    {
     "name": "stderr",
     "output_type": "stream",
     "text": [
      "  0%|          | 21/4999 [00:00<00:23, 209.16it/s]"
     ]
    },
    {
     "name": "stdout",
     "output_type": "stream",
     "text": [
      "test_loss:  0.6970336907929893 test_auc:  0.7784940644250578\n",
      "\n",
      "epoch:  52\n"
     ]
    },
    {
     "name": "stderr",
     "output_type": "stream",
     "text": [
      "100%|██████████| 4999/4999 [00:26<00:00, 189.59it/s]\n"
     ]
    },
    {
     "name": "stdout",
     "output_type": "stream",
     "text": [
      "bpr_loss:  0.5094177707132518\n",
      "_train_op\n"
     ]
    },
    {
     "name": "stderr",
     "output_type": "stream",
     "text": [
      "  0%|          | 20/4999 [00:00<00:25, 198.16it/s]"
     ]
    },
    {
     "name": "stdout",
     "output_type": "stream",
     "text": [
      "test_loss:  0.6951959601163004 test_auc:  0.7794134446065907\n",
      "\n",
      "epoch:  53\n"
     ]
    },
    {
     "name": "stderr",
     "output_type": "stream",
     "text": [
      "100%|██████████| 4999/4999 [00:25<00:00, 199.96it/s]\n"
     ]
    },
    {
     "name": "stdout",
     "output_type": "stream",
     "text": [
      "bpr_loss:  0.505790935662728\n",
      "_train_op\n"
     ]
    },
    {
     "name": "stderr",
     "output_type": "stream",
     "text": [
      "  0%|          | 22/4999 [00:00<00:22, 216.85it/s]"
     ]
    },
    {
     "name": "stdout",
     "output_type": "stream",
     "text": [
      "test_loss:  0.6933894327132281 test_auc:  0.7801676622351518\n",
      "\n",
      "epoch:  54\n"
     ]
    },
    {
     "name": "stderr",
     "output_type": "stream",
     "text": [
      "100%|██████████| 4999/4999 [00:28<00:00, 178.11it/s]\n"
     ]
    },
    {
     "name": "stdout",
     "output_type": "stream",
     "text": [
      "bpr_loss:  0.5018579089944423\n",
      "_train_op\n"
     ]
    },
    {
     "name": "stderr",
     "output_type": "stream",
     "text": [
      "  0%|          | 23/4999 [00:00<00:22, 223.56it/s]"
     ]
    },
    {
     "name": "stdout",
     "output_type": "stream",
     "text": [
      "test_loss:  0.691608257699314 test_auc:  0.780913989643805\n",
      "\n",
      "epoch:  55\n"
     ]
    },
    {
     "name": "stderr",
     "output_type": "stream",
     "text": [
      "100%|██████████| 4999/4999 [00:23<00:00, 216.09it/s]\n"
     ]
    },
    {
     "name": "stdout",
     "output_type": "stream",
     "text": [
      "bpr_loss:  0.4976031180500245\n",
      "_train_op\n"
     ]
    },
    {
     "name": "stderr",
     "output_type": "stream",
     "text": [
      "  0%|          | 23/4999 [00:00<00:22, 223.91it/s]"
     ]
    },
    {
     "name": "stdout",
     "output_type": "stream",
     "text": [
      "test_loss:  0.6898560185617488 test_auc:  0.7814682258271178\n",
      "\n",
      "epoch:  56\n"
     ]
    },
    {
     "name": "stderr",
     "output_type": "stream",
     "text": [
      "100%|██████████| 4999/4999 [00:22<00:00, 221.01it/s]\n"
     ]
    },
    {
     "name": "stdout",
     "output_type": "stream",
     "text": [
      "bpr_loss:  0.49415400664218306\n",
      "_train_op\n"
     ]
    },
    {
     "name": "stderr",
     "output_type": "stream",
     "text": [
      "  0%|          | 23/4999 [00:00<00:21, 226.37it/s]"
     ]
    },
    {
     "name": "stdout",
     "output_type": "stream",
     "text": [
      "test_loss:  0.6881263543606235 test_auc:  0.7821066485346372\n",
      "\n",
      "epoch:  57\n"
     ]
    },
    {
     "name": "stderr",
     "output_type": "stream",
     "text": [
      "100%|██████████| 4999/4999 [00:22<00:00, 224.20it/s]\n"
     ]
    },
    {
     "name": "stdout",
     "output_type": "stream",
     "text": [
      "bpr_loss:  0.49117011302803776\n",
      "_train_op\n"
     ]
    },
    {
     "name": "stderr",
     "output_type": "stream",
     "text": [
      "  0%|          | 21/4999 [00:00<00:24, 205.31it/s]"
     ]
    },
    {
     "name": "stdout",
     "output_type": "stream",
     "text": [
      "test_loss:  0.6864376034224506 test_auc:  0.7826710460927768\n",
      "\n",
      "epoch:  58\n"
     ]
    },
    {
     "name": "stderr",
     "output_type": "stream",
     "text": [
      "100%|██████████| 4999/4999 [00:22<00:00, 223.01it/s]\n"
     ]
    },
    {
     "name": "stdout",
     "output_type": "stream",
     "text": [
      "bpr_loss:  0.4874875412556762\n",
      "_train_op\n"
     ]
    },
    {
     "name": "stderr",
     "output_type": "stream",
     "text": [
      "  0%|          | 23/4999 [00:00<00:21, 227.30it/s]"
     ]
    },
    {
     "name": "stdout",
     "output_type": "stream",
     "text": [
      "test_loss:  0.684752926526302 test_auc:  0.7831102657986684\n",
      "\n",
      "epoch:  59\n"
     ]
    },
    {
     "name": "stderr",
     "output_type": "stream",
     "text": [
      "100%|██████████| 4999/4999 [00:23<00:00, 212.84it/s]\n"
     ]
    },
    {
     "name": "stdout",
     "output_type": "stream",
     "text": [
      "bpr_loss:  0.48401704892608544\n",
      "_train_op\n"
     ]
    },
    {
     "name": "stderr",
     "output_type": "stream",
     "text": [
      "  0%|          | 8/4999 [00:00<01:05, 76.08it/s]"
     ]
    },
    {
     "name": "stdout",
     "output_type": "stream",
     "text": [
      "test_loss:  0.6831296190942238 test_auc:  0.7836859948552358\n",
      "\n",
      "epoch:  60\n"
     ]
    },
    {
     "name": "stderr",
     "output_type": "stream",
     "text": [
      "100%|██████████| 4999/4999 [00:24<00:00, 202.60it/s]\n"
     ]
    },
    {
     "name": "stdout",
     "output_type": "stream",
     "text": [
      "bpr_loss:  0.48119391989507637\n",
      "_train_op\n"
     ]
    },
    {
     "name": "stderr",
     "output_type": "stream",
     "text": [
      "  0%|          | 23/4999 [00:00<00:22, 224.82it/s]"
     ]
    },
    {
     "name": "stdout",
     "output_type": "stream",
     "text": [
      "test_loss:  0.6815017512074877 test_auc:  0.7842365176100049\n",
      "\n",
      "epoch:  61\n"
     ]
    },
    {
     "name": "stderr",
     "output_type": "stream",
     "text": [
      "100%|██████████| 4999/4999 [00:23<00:00, 212.06it/s]\n"
     ]
    },
    {
     "name": "stdout",
     "output_type": "stream",
     "text": [
      "bpr_loss:  0.47783055498519406\n",
      "_train_op\n"
     ]
    },
    {
     "name": "stderr",
     "output_type": "stream",
     "text": [
      "  0%|          | 22/4999 [00:00<00:22, 218.60it/s]"
     ]
    },
    {
     "name": "stdout",
     "output_type": "stream",
     "text": [
      "test_loss:  0.6799303873405129 test_auc:  0.7846070880096385\n",
      "\n",
      "epoch:  62\n"
     ]
    },
    {
     "name": "stderr",
     "output_type": "stream",
     "text": [
      "100%|██████████| 4999/4999 [00:23<00:00, 210.88it/s]\n"
     ]
    },
    {
     "name": "stdout",
     "output_type": "stream",
     "text": [
      "bpr_loss:  0.474404650703624\n",
      "_train_op\n"
     ]
    },
    {
     "name": "stderr",
     "output_type": "stream",
     "text": [
      "  0%|          | 22/4999 [00:00<00:23, 215.69it/s]"
     ]
    },
    {
     "name": "stdout",
     "output_type": "stream",
     "text": [
      "test_loss:  0.6783996881506934 test_auc:  0.7849392409966788\n",
      "\n",
      "epoch:  63\n"
     ]
    },
    {
     "name": "stderr",
     "output_type": "stream",
     "text": [
      "100%|██████████| 4999/4999 [00:24<00:00, 207.07it/s]\n"
     ]
    },
    {
     "name": "stdout",
     "output_type": "stream",
     "text": [
      "bpr_loss:  0.47199224550548996\n",
      "_train_op\n"
     ]
    },
    {
     "name": "stderr",
     "output_type": "stream",
     "text": [
      "  0%|          | 18/4999 [00:00<00:28, 172.21it/s]"
     ]
    },
    {
     "name": "stdout",
     "output_type": "stream",
     "text": [
      "test_loss:  0.6768977883060056 test_auc:  0.785271880998182\n",
      "\n",
      "epoch:  64\n"
     ]
    },
    {
     "name": "stderr",
     "output_type": "stream",
     "text": [
      "100%|██████████| 4999/4999 [00:24<00:00, 203.29it/s]\n"
     ]
    },
    {
     "name": "stdout",
     "output_type": "stream",
     "text": [
      "bpr_loss:  0.46864133735231506\n",
      "_train_op\n"
     ]
    },
    {
     "name": "stderr",
     "output_type": "stream",
     "text": [
      "  0%|          | 22/4999 [00:00<00:22, 217.44it/s]"
     ]
    },
    {
     "name": "stdout",
     "output_type": "stream",
     "text": [
      "test_loss:  0.6754429080533637 test_auc:  0.7856502967112485\n",
      "\n",
      "epoch:  65\n"
     ]
    },
    {
     "name": "stderr",
     "output_type": "stream",
     "text": [
      "100%|██████████| 4999/4999 [00:24<00:00, 201.29it/s]\n"
     ]
    },
    {
     "name": "stdout",
     "output_type": "stream",
     "text": [
      "bpr_loss:  0.4656545261689057\n",
      "_train_op\n"
     ]
    },
    {
     "name": "stderr",
     "output_type": "stream",
     "text": [
      "  0%|          | 20/4999 [00:00<00:24, 199.43it/s]"
     ]
    },
    {
     "name": "stdout",
     "output_type": "stream",
     "text": [
      "test_loss:  0.6740055052220606 test_auc:  0.7858975299449961\n",
      "\n",
      "epoch:  66\n"
     ]
    },
    {
     "name": "stderr",
     "output_type": "stream",
     "text": [
      "100%|██████████| 4999/4999 [00:22<00:00, 222.16it/s]\n"
     ]
    },
    {
     "name": "stdout",
     "output_type": "stream",
     "text": [
      "bpr_loss:  0.4629189632467853\n",
      "_train_op\n"
     ]
    },
    {
     "name": "stderr",
     "output_type": "stream",
     "text": [
      "  0%|          | 22/4999 [00:00<00:22, 218.61it/s]"
     ]
    },
    {
     "name": "stdout",
     "output_type": "stream",
     "text": [
      "test_loss:  0.6726107574219308 test_auc:  0.7860984667796904\n",
      "\n",
      "epoch:  67\n"
     ]
    },
    {
     "name": "stderr",
     "output_type": "stream",
     "text": [
      "100%|██████████| 4999/4999 [00:21<00:00, 227.24it/s]\n"
     ]
    },
    {
     "name": "stdout",
     "output_type": "stream",
     "text": [
      "bpr_loss:  0.4604005671651584\n",
      "_train_op\n"
     ]
    },
    {
     "name": "stderr",
     "output_type": "stream",
     "text": [
      "  0%|          | 23/4999 [00:00<00:22, 225.22it/s]"
     ]
    },
    {
     "name": "stdout",
     "output_type": "stream",
     "text": [
      "test_loss:  0.6712478906830726 test_auc:  0.7864224841286149\n",
      "\n",
      "epoch:  68\n"
     ]
    },
    {
     "name": "stderr",
     "output_type": "stream",
     "text": [
      "100%|██████████| 4999/4999 [00:21<00:00, 228.38it/s]\n"
     ]
    },
    {
     "name": "stdout",
     "output_type": "stream",
     "text": [
      "bpr_loss:  0.4573746666619243\n",
      "_train_op\n"
     ]
    },
    {
     "name": "stderr",
     "output_type": "stream",
     "text": [
      "  0%|          | 23/4999 [00:00<00:22, 224.95it/s]"
     ]
    },
    {
     "name": "stdout",
     "output_type": "stream",
     "text": [
      "test_loss:  0.6699392228027543 test_auc:  0.7866497058467603\n",
      "\n",
      "epoch:  69\n"
     ]
    },
    {
     "name": "stderr",
     "output_type": "stream",
     "text": [
      "100%|██████████| 4999/4999 [00:21<00:00, 228.27it/s]\n"
     ]
    },
    {
     "name": "stdout",
     "output_type": "stream",
     "text": [
      "bpr_loss:  0.45496222950930976\n",
      "_train_op\n"
     ]
    },
    {
     "name": "stderr",
     "output_type": "stream",
     "text": [
      "  0%|          | 23/4999 [00:00<00:21, 228.21it/s]"
     ]
    },
    {
     "name": "stdout",
     "output_type": "stream",
     "text": [
      "test_loss:  0.6686504368102077 test_auc:  0.7868003446372589\n",
      "\n",
      "epoch:  70\n"
     ]
    },
    {
     "name": "stderr",
     "output_type": "stream",
     "text": [
      "100%|██████████| 4999/4999 [00:21<00:00, 228.27it/s]\n"
     ]
    },
    {
     "name": "stdout",
     "output_type": "stream",
     "text": [
      "bpr_loss:  0.4523172399644304\n",
      "_train_op\n"
     ]
    },
    {
     "name": "stderr",
     "output_type": "stream",
     "text": [
      "  0%|          | 23/4999 [00:00<00:22, 223.12it/s]"
     ]
    },
    {
     "name": "stdout",
     "output_type": "stream",
     "text": [
      "test_loss:  0.667392482046401 test_auc:  0.7870456464887036\n",
      "\n",
      "epoch:  71\n"
     ]
    },
    {
     "name": "stderr",
     "output_type": "stream",
     "text": [
      "100%|██████████| 4999/4999 [00:22<00:00, 224.62it/s]\n"
     ]
    },
    {
     "name": "stdout",
     "output_type": "stream",
     "text": [
      "bpr_loss:  0.44986860377475196\n",
      "_train_op\n"
     ]
    },
    {
     "name": "stderr",
     "output_type": "stream",
     "text": [
      "  0%|          | 23/4999 [00:00<00:22, 220.93it/s]"
     ]
    },
    {
     "name": "stdout",
     "output_type": "stream",
     "text": [
      "test_loss:  0.6661695894728068 test_auc:  0.7872120074197374\n",
      "\n",
      "epoch:  72\n"
     ]
    },
    {
     "name": "stderr",
     "output_type": "stream",
     "text": [
      "100%|██████████| 4999/4999 [00:22<00:00, 227.95it/s]\n"
     ]
    },
    {
     "name": "stdout",
     "output_type": "stream",
     "text": [
      "bpr_loss:  0.447886634186569\n",
      "_train_op\n"
     ]
    },
    {
     "name": "stderr",
     "output_type": "stream",
     "text": [
      "  0%|          | 23/4999 [00:00<00:22, 224.98it/s]"
     ]
    },
    {
     "name": "stdout",
     "output_type": "stream",
     "text": [
      "test_loss:  0.6650045251319124 test_auc:  0.7873435436999291\n",
      "\n",
      "epoch:  73\n"
     ]
    },
    {
     "name": "stderr",
     "output_type": "stream",
     "text": [
      "100%|██████████| 4999/4999 [00:24<00:00, 200.34it/s]\n"
     ]
    },
    {
     "name": "stdout",
     "output_type": "stream",
     "text": [
      "bpr_loss:  0.4448746150375533\n",
      "_train_op\n"
     ]
    },
    {
     "name": "stderr",
     "output_type": "stream",
     "text": [
      "  0%|          | 21/4999 [00:00<00:23, 209.43it/s]"
     ]
    },
    {
     "name": "stdout",
     "output_type": "stream",
     "text": [
      "test_loss:  0.6638566254493562 test_auc:  0.7875106583441026\n",
      "\n",
      "epoch:  74\n"
     ]
    },
    {
     "name": "stderr",
     "output_type": "stream",
     "text": [
      "100%|██████████| 4999/4999 [00:22<00:00, 183.33it/s]\n"
     ]
    },
    {
     "name": "stdout",
     "output_type": "stream",
     "text": [
      "bpr_loss:  0.4425860326167082\n",
      "_train_op\n"
     ]
    },
    {
     "name": "stderr",
     "output_type": "stream",
     "text": [
      "  0%|          | 23/4999 [00:00<00:22, 221.78it/s]"
     ]
    },
    {
     "name": "stdout",
     "output_type": "stream",
     "text": [
      "test_loss:  0.6627297330150105 test_auc:  0.787634376087226\n",
      "\n",
      "epoch:  75\n"
     ]
    },
    {
     "name": "stderr",
     "output_type": "stream",
     "text": [
      "100%|██████████| 4999/4999 [00:22<00:00, 218.90it/s]\n"
     ]
    },
    {
     "name": "stdout",
     "output_type": "stream",
     "text": [
      "bpr_loss:  0.44031034722688744\n",
      "_train_op\n"
     ]
    },
    {
     "name": "stderr",
     "output_type": "stream",
     "text": [
      "  0%|          | 23/4999 [00:00<00:22, 224.57it/s]"
     ]
    },
    {
     "name": "stdout",
     "output_type": "stream",
     "text": [
      "test_loss:  0.6616400865172221 test_auc:  0.787719929083553\n",
      "\n",
      "epoch:  76\n"
     ]
    },
    {
     "name": "stderr",
     "output_type": "stream",
     "text": [
      "100%|██████████| 4999/4999 [00:22<00:00, 223.35it/s]\n"
     ]
    },
    {
     "name": "stdout",
     "output_type": "stream",
     "text": [
      "bpr_loss:  0.43830686381373984\n",
      "_train_op\n"
     ]
    },
    {
     "name": "stderr",
     "output_type": "stream",
     "text": [
      "  0%|          | 23/4999 [00:00<00:22, 224.17it/s]"
     ]
    },
    {
     "name": "stdout",
     "output_type": "stream",
     "text": [
      "test_loss:  0.660582498980128 test_auc:  0.7878547040632142\n",
      "\n",
      "epoch:  77\n"
     ]
    },
    {
     "name": "stderr",
     "output_type": "stream",
     "text": [
      "100%|██████████| 4999/4999 [00:24<00:00, 200.12it/s]\n"
     ]
    },
    {
     "name": "stdout",
     "output_type": "stream",
     "text": [
      "bpr_loss:  0.43540138225003133\n",
      "_train_op\n"
     ]
    },
    {
     "name": "stderr",
     "output_type": "stream",
     "text": [
      "  0%|          | 23/4999 [00:00<00:22, 224.20it/s]"
     ]
    },
    {
     "name": "stdout",
     "output_type": "stream",
     "text": [
      "test_loss:  0.6595733825534259 test_auc:  0.7879187057831993\n",
      "\n",
      "epoch:  78\n"
     ]
    },
    {
     "name": "stderr",
     "output_type": "stream",
     "text": [
      "100%|██████████| 4999/4999 [00:23<00:00, 212.20it/s]\n"
     ]
    },
    {
     "name": "stdout",
     "output_type": "stream",
     "text": [
      "bpr_loss:  0.43416242001890826\n",
      "_train_op\n"
     ]
    },
    {
     "name": "stderr",
     "output_type": "stream",
     "text": [
      "  0%|          | 17/4999 [00:00<00:29, 168.08it/s]"
     ]
    },
    {
     "name": "stdout",
     "output_type": "stream",
     "text": [
      "test_loss:  0.6585942236740236 test_auc:  0.7879145153746049\n",
      "\n",
      "epoch:  79\n"
     ]
    },
    {
     "name": "stderr",
     "output_type": "stream",
     "text": [
      "100%|██████████| 4999/4999 [00:23<00:00, 216.52it/s]\n"
     ]
    },
    {
     "name": "stdout",
     "output_type": "stream",
     "text": [
      "bpr_loss:  0.43192243525971885\n",
      "_train_op\n"
     ]
    },
    {
     "name": "stderr",
     "output_type": "stream",
     "text": [
      "  0%|          | 22/4999 [00:00<00:22, 218.37it/s]"
     ]
    },
    {
     "name": "stdout",
     "output_type": "stream",
     "text": [
      "test_loss:  0.6576265589693824 test_auc:  0.7879004374664237\n",
      "\n",
      "epoch:  80\n"
     ]
    },
    {
     "name": "stderr",
     "output_type": "stream",
     "text": [
      "100%|██████████| 4999/4999 [00:23<00:00, 211.89it/s]\n"
     ]
    },
    {
     "name": "stdout",
     "output_type": "stream",
     "text": [
      "bpr_loss:  0.4293065784895127\n",
      "_train_op\n"
     ]
    },
    {
     "name": "stderr",
     "output_type": "stream",
     "text": [
      "  0%|          | 22/4999 [00:00<00:23, 211.11it/s]"
     ]
    },
    {
     "name": "stdout",
     "output_type": "stream",
     "text": [
      "test_loss:  0.6567166021853578 test_auc:  0.7878827293813632\n",
      "\n",
      "epoch:  81\n"
     ]
    },
    {
     "name": "stderr",
     "output_type": "stream",
     "text": [
      "100%|██████████| 4999/4999 [00:24<00:00, 206.76it/s]\n"
     ]
    },
    {
     "name": "stdout",
     "output_type": "stream",
     "text": [
      "bpr_loss:  0.42786774376698267\n",
      "_train_op\n"
     ]
    },
    {
     "name": "stderr",
     "output_type": "stream",
     "text": [
      "  0%|          | 23/4999 [00:00<00:22, 221.99it/s]"
     ]
    },
    {
     "name": "stdout",
     "output_type": "stream",
     "text": [
      "test_loss:  0.6558361757909779 test_auc:  0.7879748699357834\n",
      "\n",
      "epoch:  82\n"
     ]
    },
    {
     "name": "stderr",
     "output_type": "stream",
     "text": [
      "100%|██████████| 4999/4999 [00:24<00:00, 208.25it/s]\n"
     ]
    },
    {
     "name": "stdout",
     "output_type": "stream",
     "text": [
      "bpr_loss:  0.42578254294624374\n",
      "_train_op\n"
     ]
    },
    {
     "name": "stderr",
     "output_type": "stream",
     "text": [
      "  0%|          | 23/4999 [00:00<00:22, 222.71it/s]"
     ]
    },
    {
     "name": "stdout",
     "output_type": "stream",
     "text": [
      "test_loss:  0.6549761876033532 test_auc:  0.7879687940537096\n",
      "\n",
      "epoch:  83\n"
     ]
    },
    {
     "name": "stderr",
     "output_type": "stream",
     "text": [
      "100%|██████████| 4999/4999 [00:23<00:00, 212.40it/s]\n"
     ]
    },
    {
     "name": "stdout",
     "output_type": "stream",
     "text": [
      "bpr_loss:  0.42418501305685063\n",
      "_train_op\n"
     ]
    },
    {
     "name": "stderr",
     "output_type": "stream",
     "text": [
      "  0%|          | 23/4999 [00:00<00:21, 229.03it/s]"
     ]
    },
    {
     "name": "stdout",
     "output_type": "stream",
     "text": [
      "test_loss:  0.6541259976016486 test_auc:  0.7880143944135386\n",
      "\n",
      "epoch:  84\n"
     ]
    },
    {
     "name": "stderr",
     "output_type": "stream",
     "text": [
      "100%|██████████| 4999/4999 [00:22<00:00, 218.68it/s]\n"
     ]
    },
    {
     "name": "stdout",
     "output_type": "stream",
     "text": [
      "bpr_loss:  0.4221762929482087\n",
      "_train_op\n"
     ]
    },
    {
     "name": "stderr",
     "output_type": "stream",
     "text": [
      "  0%|          | 20/4999 [00:00<00:24, 199.59it/s]"
     ]
    },
    {
     "name": "stdout",
     "output_type": "stream",
     "text": [
      "test_loss:  0.6533281005892082 test_auc:  0.7880431301126909\n",
      "\n",
      "epoch:  85\n"
     ]
    },
    {
     "name": "stderr",
     "output_type": "stream",
     "text": [
      "100%|██████████| 4999/4999 [00:22<00:00, 224.93it/s]\n"
     ]
    },
    {
     "name": "stdout",
     "output_type": "stream",
     "text": [
      "bpr_loss:  0.420286449862137\n",
      "_train_op\n"
     ]
    },
    {
     "name": "stderr",
     "output_type": "stream",
     "text": [
      "  0%|          | 22/4999 [00:00<00:23, 215.42it/s]"
     ]
    },
    {
     "name": "stdout",
     "output_type": "stream",
     "text": [
      "test_loss:  0.6525496269445127 test_auc:  0.7879190475953951\n",
      "\n",
      "epoch:  86\n"
     ]
    },
    {
     "name": "stderr",
     "output_type": "stream",
     "text": [
      "100%|██████████| 4999/4999 [00:23<00:00, 211.49it/s]\n"
     ]
    },
    {
     "name": "stdout",
     "output_type": "stream",
     "text": [
      "bpr_loss:  0.4186057446479416\n",
      "_train_op\n"
     ]
    },
    {
     "name": "stderr",
     "output_type": "stream",
     "text": [
      "  0%|          | 22/4999 [00:00<00:23, 216.01it/s]"
     ]
    },
    {
     "name": "stdout",
     "output_type": "stream",
     "text": [
      "test_loss:  0.6518056233706027 test_auc:  0.78784364173172\n",
      "\n",
      "epoch:  87\n"
     ]
    },
    {
     "name": "stderr",
     "output_type": "stream",
     "text": [
      "100%|██████████| 4999/4999 [00:23<00:00, 214.33it/s]\n"
     ]
    },
    {
     "name": "stdout",
     "output_type": "stream",
     "text": [
      "bpr_loss:  0.41688341423377295\n",
      "_train_op\n"
     ]
    },
    {
     "name": "stderr",
     "output_type": "stream",
     "text": [
      "  0%|          | 19/4999 [00:00<00:26, 188.42it/s]"
     ]
    },
    {
     "name": "stdout",
     "output_type": "stream",
     "text": [
      "test_loss:  0.6510893511804433 test_auc:  0.7878731981891507\n",
      "\n",
      "epoch:  88\n"
     ]
    },
    {
     "name": "stderr",
     "output_type": "stream",
     "text": [
      "100%|██████████| 4999/4999 [00:23<00:00, 214.57it/s]\n"
     ]
    },
    {
     "name": "stdout",
     "output_type": "stream",
     "text": [
      "bpr_loss:  0.41513266963323464\n",
      "_train_op\n"
     ]
    },
    {
     "name": "stderr",
     "output_type": "stream",
     "text": [
      "  0%|          | 23/4999 [00:00<00:22, 225.61it/s]"
     ]
    },
    {
     "name": "stdout",
     "output_type": "stream",
     "text": [
      "test_loss:  0.6504080080383521 test_auc:  0.7877531099945999\n",
      "\n",
      "epoch:  89\n"
     ]
    },
    {
     "name": "stderr",
     "output_type": "stream",
     "text": [
      "100%|██████████| 4999/4999 [00:27<00:00, 181.49it/s]\n"
     ]
    },
    {
     "name": "stdout",
     "output_type": "stream",
     "text": [
      "bpr_loss:  0.4134502799290613\n",
      "_train_op\n"
     ]
    },
    {
     "name": "stderr",
     "output_type": "stream",
     "text": [
      "  0%|          | 23/4999 [00:00<00:22, 220.23it/s]"
     ]
    },
    {
     "name": "stdout",
     "output_type": "stream",
     "text": [
      "test_loss:  0.6497400258852687 test_auc:  0.7877349149997241\n",
      "\n",
      "epoch:  90\n"
     ]
    },
    {
     "name": "stderr",
     "output_type": "stream",
     "text": [
      "100%|██████████| 4999/4999 [00:25<00:00, 195.39it/s]\n"
     ]
    },
    {
     "name": "stdout",
     "output_type": "stream",
     "text": [
      "bpr_loss:  0.4120040724672873\n",
      "_train_op\n"
     ]
    },
    {
     "name": "stderr",
     "output_type": "stream",
     "text": [
      "  0%|          | 22/4999 [00:00<00:22, 217.15it/s]"
     ]
    },
    {
     "name": "stdout",
     "output_type": "stream",
     "text": [
      "test_loss:  0.6491116110490978 test_auc:  0.7876524102801813\n",
      "\n",
      "epoch:  91\n"
     ]
    },
    {
     "name": "stderr",
     "output_type": "stream",
     "text": [
      "100%|██████████| 4999/4999 [00:25<00:00, 195.29it/s]\n"
     ]
    },
    {
     "name": "stdout",
     "output_type": "stream",
     "text": [
      "bpr_loss:  0.4098893252998191\n",
      "_train_op\n"
     ]
    },
    {
     "name": "stderr",
     "output_type": "stream",
     "text": [
      "  0%|          | 22/4999 [00:00<00:23, 210.70it/s]"
     ]
    },
    {
     "name": "stdout",
     "output_type": "stream",
     "text": [
      "test_loss:  0.6484849164363279 test_auc:  0.7876161571805591\n",
      "\n",
      "epoch:  92\n"
     ]
    },
    {
     "name": "stderr",
     "output_type": "stream",
     "text": [
      "100%|██████████| 4999/4999 [00:22<00:00, 217.72it/s]\n"
     ]
    },
    {
     "name": "stdout",
     "output_type": "stream",
     "text": [
      "bpr_loss:  0.40788167670360204\n",
      "_train_op\n"
     ]
    },
    {
     "name": "stderr",
     "output_type": "stream",
     "text": [
      "  0%|          | 21/4999 [00:00<00:24, 202.54it/s]"
     ]
    },
    {
     "name": "stdout",
     "output_type": "stream",
     "text": [
      "test_loss:  0.6478866907340955 test_auc:  0.7876057853520468\n",
      "\n",
      "epoch:  93\n"
     ]
    },
    {
     "name": "stderr",
     "output_type": "stream",
     "text": [
      "100%|██████████| 4999/4999 [00:23<00:00, 214.44it/s]\n"
     ]
    },
    {
     "name": "stdout",
     "output_type": "stream",
     "text": [
      "bpr_loss:  0.4070645106401556\n",
      "_train_op\n"
     ]
    },
    {
     "name": "stderr",
     "output_type": "stream",
     "text": [
      "  0%|          | 23/4999 [00:00<00:21, 227.71it/s]"
     ]
    },
    {
     "name": "stdout",
     "output_type": "stream",
     "text": [
      "test_loss:  0.6473071199677051 test_auc:  0.7875741283848061\n",
      "\n",
      "epoch:  94\n"
     ]
    },
    {
     "name": "stderr",
     "output_type": "stream",
     "text": [
      "100%|██████████| 4999/4999 [00:25<00:00, 195.78it/s]\n"
     ]
    },
    {
     "name": "stdout",
     "output_type": "stream",
     "text": [
      "bpr_loss:  0.4054057454497701\n",
      "_train_op\n"
     ]
    },
    {
     "name": "stderr",
     "output_type": "stream",
     "text": [
      "  0%|          | 23/4999 [00:00<00:22, 225.65it/s]"
     ]
    },
    {
     "name": "stdout",
     "output_type": "stream",
     "text": [
      "test_loss:  0.6467754487418956 test_auc:  0.7875443730404137\n",
      "\n",
      "epoch:  95\n"
     ]
    },
    {
     "name": "stderr",
     "output_type": "stream",
     "text": [
      "100%|██████████| 4999/4999 [00:23<00:00, 208.73it/s]\n"
     ]
    },
    {
     "name": "stdout",
     "output_type": "stream",
     "text": [
      "bpr_loss:  0.40436118749957917\n",
      "_train_op\n"
     ]
    },
    {
     "name": "stderr",
     "output_type": "stream",
     "text": [
      "  0%|          | 16/4999 [00:00<00:31, 156.84it/s]"
     ]
    },
    {
     "name": "stdout",
     "output_type": "stream",
     "text": [
      "test_loss:  0.6462262248358142 test_auc:  0.787520909245674\n",
      "\n",
      "epoch:  96\n"
     ]
    },
    {
     "name": "stderr",
     "output_type": "stream",
     "text": [
      "100%|██████████| 4999/4999 [00:23<00:00, 209.23it/s]\n"
     ]
    },
    {
     "name": "stdout",
     "output_type": "stream",
     "text": [
      "bpr_loss:  0.4027510313695372\n",
      "_train_op\n"
     ]
    },
    {
     "name": "stderr",
     "output_type": "stream",
     "text": [
      "  0%|          | 23/4999 [00:00<00:22, 224.83it/s]"
     ]
    },
    {
     "name": "stdout",
     "output_type": "stream",
     "text": [
      "test_loss:  0.6457227675600603 test_auc:  0.7874685467266233\n",
      "\n",
      "epoch:  97\n"
     ]
    },
    {
     "name": "stderr",
     "output_type": "stream",
     "text": [
      "100%|██████████| 4999/4999 [00:25<00:00, 199.46it/s]\n"
     ]
    },
    {
     "name": "stdout",
     "output_type": "stream",
     "text": [
      "bpr_loss:  0.4015175065271233\n",
      "_train_op\n"
     ]
    },
    {
     "name": "stderr",
     "output_type": "stream",
     "text": [
      "  0%|          | 23/4999 [00:00<00:22, 223.43it/s]"
     ]
    },
    {
     "name": "stdout",
     "output_type": "stream",
     "text": [
      "test_loss:  0.6452462595722736 test_auc:  0.7873619673706402\n",
      "\n",
      "epoch:  98\n"
     ]
    },
    {
     "name": "stderr",
     "output_type": "stream",
     "text": [
      "100%|██████████| 4999/4999 [00:26<00:00, 187.61it/s]\n"
     ]
    },
    {
     "name": "stdout",
     "output_type": "stream",
     "text": [
      "bpr_loss:  0.3996114421961522\n",
      "_train_op\n"
     ]
    },
    {
     "name": "stderr",
     "output_type": "stream",
     "text": [
      "  0%|          | 19/4999 [00:00<00:26, 186.92it/s]"
     ]
    },
    {
     "name": "stdout",
     "output_type": "stream",
     "text": [
      "test_loss:  0.644803004198126 test_auc:  0.7872804312240534\n",
      "\n",
      "epoch:  99\n"
     ]
    },
    {
     "name": "stderr",
     "output_type": "stream",
     "text": [
      "100%|██████████| 4999/4999 [00:26<00:00, 191.03it/s]\n"
     ]
    },
    {
     "name": "stdout",
     "output_type": "stream",
     "text": [
      "bpr_loss:  0.3984532572431883\n",
      "_train_op\n"
     ]
    },
    {
     "name": "stderr",
     "output_type": "stream",
     "text": [
      "  0%|          | 22/4999 [00:00<00:22, 216.89it/s]"
     ]
    },
    {
     "name": "stdout",
     "output_type": "stream",
     "text": [
      "test_loss:  0.6443427161780936 test_auc:  0.7872218031558924\n",
      "\n",
      "epoch:  100\n"
     ]
    },
    {
     "name": "stderr",
     "output_type": "stream",
     "text": [
      "100%|██████████| 4999/4999 [00:23<00:00, 208.89it/s]\n"
     ]
    },
    {
     "name": "stdout",
     "output_type": "stream",
     "text": [
      "bpr_loss:  0.39737753573358714\n",
      "_train_op\n",
      "test_loss:  0.6439241473747935 test_auc:  0.7870936349785755\n",
      "\n",
      "Variable:  user_emb_w:0\n",
      "Shape:  (1109, 20)\n",
      "[[ 0.13717215 -0.00894479  0.1064348  ...  0.10948678 -0.08258834\n",
      "   0.04392402]\n",
      " [ 0.12536527  0.21623893 -0.44520482 ...  0.03649102  0.42791945\n",
      "  -0.06447671]\n",
      " [ 0.16242956  0.0752534  -0.30374938 ... -0.16885716  0.40871626\n",
      "   0.5473106 ]\n",
      " ...\n",
      " [ 0.09247427  0.21443774 -0.41464174 ... -0.07634244  0.21161343\n",
      "   0.30089897]\n",
      " [ 0.20118609  0.23916088 -0.32743484 ...  0.06709398  0.25478318\n",
      "   0.20179431]\n",
      " [ 0.11073586  0.02372987  0.05191761 ...  0.18937714  0.08402411\n",
      "  -0.01127102]]\n",
      "Variable:  item_emb_w:0\n",
      "Shape:  (11190, 20)\n",
      "[[ 0.0131405   0.02842092 -0.09328394 ...  0.01052712 -0.05503642\n",
      "   0.02240199]\n",
      " [ 0.50951964  0.5788157  -0.7668364  ...  0.1881455   0.8428015\n",
      "   0.42268595]\n",
      " [ 0.48794967  0.68124795 -0.90599966 ...  0.07878713  0.6939764\n",
      "   0.680553  ]\n",
      " ...\n",
      " [ 0.12171526 -0.23565903  0.13592367 ...  0.22325248 -0.11451741\n",
      "   0.22476915]\n",
      " [ 0.14772017  0.06685518  0.0276162  ... -0.08782998  0.03104009\n",
      "   0.01835545]\n",
      " [-0.03119596 -0.02057862  0.02648784 ...  0.06242877 -0.07700699\n",
      "  -0.17436798]]\n",
      "all done\n"
     ]
    }
   ],
   "source": [
    "with tf.Graph().as_default(), tf.Session() as session:\n",
    "    u, i, j, mf_auc, bprloss, train_op = bpr_mf(game_count, event_count, 20)\n",
    "#     print(u, i, j, mf_auc, bprloss, train_op)\n",
    "    session.run(tf.global_variables_initializer())\n",
    "    saver = tf.train.Saver()\n",
    "    print('start epoch')\n",
    "    for epoch in range(1, 101):\n",
    "        print (\"epoch: \", epoch)\n",
    "        _batch_bprloss = 0\n",
    "        for k in tqdm(range(1, 5000)): # uniform samples from training set\n",
    "            uij = generate_train_batch(game_events_dict, game_test_set,event_count,batch_size=128)\n",
    "\n",
    "            _bprloss, _train_op = session.run([bprloss, train_op], \n",
    "                                feed_dict={u:uij[:,0], i:uij[:,1], j:uij[:,2]})\n",
    "            _batch_bprloss += _bprloss\n",
    "        \n",
    "        \n",
    "        print (\"bpr_loss: \", _batch_bprloss / k)\n",
    "        print (\"_train_op\")\n",
    "\n",
    "        games_count = 0\n",
    "        _auc_sum = 0.0\n",
    "        test_bprloss = 0.0\n",
    "        # each batch will return only one user's auc\n",
    "        for t_uij in generate_test_batch(game_events_dict, game_test_set, event_count):\n",
    "\n",
    "            _auc, _test_bprloss = session.run([mf_auc, bprloss],\n",
    "                                    feed_dict={u:t_uij[:,0], i:t_uij[:,1], j:t_uij[:,2]}\n",
    "                                )\n",
    "            games_count += 1\n",
    "            _auc_sum += _auc\n",
    "            test_bprloss += _test_bprloss\n",
    "#            print (\"test_loss: \", test_bprloss/games_count)\n",
    "        print (\"test_loss: \", test_bprloss/games_count, \"test_auc: \", _auc_sum/games_count)\n",
    "        print (\"\")\n",
    "    variable_names = [v.name for v in tf.trainable_variables()]\n",
    "    values = session.run(variable_names)\n",
    "    saver.save(session, SAVE_DIR)\n",
    "    for k,v in zip(variable_names, values):\n",
    "        print(\"Variable: \", k)\n",
    "        print(\"Shape: \", v.shape)\n",
    "        print(v)\n",
    "print('all done')"
   ]
  },
  {
   "cell_type": "code",
   "execution_count": 13,
   "metadata": {},
   "outputs": [
    {
     "name": "stdout",
     "output_type": "stream",
     "text": [
      "495\n",
      "128\n"
     ]
    }
   ],
   "source": [
    "print(len(t_uij))\n",
    "print(len(uij))"
   ]
  },
  {
   "cell_type": "code",
   "execution_count": 29,
   "metadata": {},
   "outputs": [
    {
     "data": {
      "text/plain": [
       "1.1672156"
      ]
     },
     "execution_count": 29,
     "metadata": {},
     "output_type": "execute_result"
    }
   ],
   "source": [
    "_test_bprloss"
   ]
  },
  {
   "cell_type": "code",
   "execution_count": null,
   "metadata": {
    "collapsed": true
   },
   "outputs": [],
   "source": [
    "saver.save(session, SAVE_DIR)"
   ]
  },
  {
   "cell_type": "code",
   "execution_count": 71,
   "metadata": {},
   "outputs": [
    {
     "name": "stdout",
     "output_type": "stream",
     "text": [
      "[[-0.02186481  2.421619    2.3348546  ... -0.14870542  0.01071435\n",
      "   0.04085217]]\n"
     ]
    }
   ],
   "source": [
    "session1 = tf.Session()\n",
    "u1_dim = tf.expand_dims(values[0][200], 0)\n",
    "u1_all = tf.matmul(u1_dim, values[1],transpose_b=True)\n",
    "result_1 = session1.run(u1_all)\n",
    "print (result_1)"
   ]
  },
  {
   "cell_type": "code",
   "execution_count": 72,
   "metadata": {
    "collapsed": true
   },
   "outputs": [],
   "source": [
    "data=pd.read_csv(DATA_DIR+'data_for_BPR.csv')"
   ]
  },
  {
   "cell_type": "code",
   "execution_count": 73,
   "metadata": {},
   "outputs": [
    {
     "name": "stdout",
     "output_type": "stream",
     "text": [
      "new recommedation ：\n",
      "1 2.421619 ['transaction']\n",
      "2 2.3348546 ['gameEnded']\n",
      "3 2.2810893 ['missionFailed']\n",
      "4 2.350466 ['newPlayer']\n",
      "5 2.408208 ['levelUp']\n",
      "8 1.4797173 ['social']\n",
      "9 2.3437192 ['clientDevice']\n",
      "10 2.3339155 ['missionCompleted']\n",
      "11 2.0723672 ['missionAbandoned']\n",
      "12 2.2987897 ['gameStarted']\n",
      "13 1.5776081 ['inviteSent']\n",
      "14 1.2136604 ['inviteReceived']\n",
      "15 2.3330386 ['missionStarted']\n",
      "16 1.641531 ['achievement']\n",
      "20 1.3275536 ['itemActioned']\n",
      "21 2.0999913 ['options']\n",
      "22 1.7021737 ['shopEntered']\n",
      "50 1.4089695 ['giftSent']\n",
      "82 2.0402346 ['notificationServices']\n",
      "139 1.5713735 ['socialConnect']\n",
      "143 1.167326 ['giftReceived']\n",
      "148 2.0753944 ['appsFlyerAttribution']\n",
      "150 1.4034182 ['tutorialStep']\n",
      "158 2.0732374 ['engageResponse']\n",
      "170 1.4192733 ['itemCollected']\n",
      "209 1.3456204 ['matchWon']\n",
      "211 1.3269429 ['matchLost']\n",
      "229 2.3392708 ['uiInteraction']\n",
      "359 1.7847396 ['matchStarted']\n",
      "531 1.9186443 ['adShow']\n",
      "532 1.7558193 ['adClosed']\n",
      "536 1.1789985 ['outOfGameSend']\n",
      "540 1.6750678 ['adRequest']\n",
      "545 1.1917777 ['featureUnlocked']\n",
      "547 2.175155 ['notificationOpened']\n",
      "736 1.1231325 ['tutorialStarted']\n",
      "1221 1.3205258 ['tutorialCompleted']\n",
      "1254 1.327685 ['boosterUsed']\n",
      "1419 1.1945145 ['taskCompleted']\n",
      "1606 1.4148784 ['matchSummary']\n"
     ]
    }
   ],
   "source": [
    "print(\"new recommedation ：\")\n",
    "p = numpy.squeeze(result_1)\n",
    "p[numpy.argsort(p)[:-40]] = 0\n",
    "for index in range(len(p)):\n",
    "    if p[index] != 0:\n",
    "        select = data[data['new_event_id']==index].drop_duplicates('eventname')\n",
    "  \n",
    "        print (index, p[index],select['eventname'].values)"
   ]
  },
  {
   "cell_type": "code",
   "execution_count": 67,
   "metadata": {},
   "outputs": [
    {
     "data": {
      "text/html": [
       "<div>\n",
       "<style scoped>\n",
       "    .dataframe tbody tr th:only-of-type {\n",
       "        vertical-align: middle;\n",
       "    }\n",
       "\n",
       "    .dataframe tbody tr th {\n",
       "        vertical-align: top;\n",
       "    }\n",
       "\n",
       "    .dataframe thead th {\n",
       "        text-align: right;\n",
       "    }\n",
       "</style>\n",
       "<table border=\"1\" class=\"dataframe\">\n",
       "  <thead>\n",
       "    <tr style=\"text-align: right;\">\n",
       "      <th></th>\n",
       "      <th>gameid</th>\n",
       "      <th>genre</th>\n",
       "      <th>platform</th>\n",
       "      <th>eventname</th>\n",
       "      <th>eventparameter</th>\n",
       "      <th>eventtype</th>\n",
       "      <th>new_game_id</th>\n",
       "      <th>new_event_id</th>\n",
       "    </tr>\n",
       "  </thead>\n",
       "  <tbody>\n",
       "    <tr>\n",
       "      <th>82191</th>\n",
       "      <td>2976</td>\n",
       "      <td>No genre</td>\n",
       "      <td>pc</td>\n",
       "      <td>increaseXP</td>\n",
       "      <td>playerCoins</td>\n",
       "      <td>custom</td>\n",
       "      <td>101</td>\n",
       "      <td>1112</td>\n",
       "    </tr>\n",
       "    <tr>\n",
       "      <th>82192</th>\n",
       "      <td>2976</td>\n",
       "      <td>No genre</td>\n",
       "      <td>pc</td>\n",
       "      <td>clientDevice</td>\n",
       "      <td>deviceType</td>\n",
       "      <td>standard</td>\n",
       "      <td>101</td>\n",
       "      <td>9</td>\n",
       "    </tr>\n",
       "    <tr>\n",
       "      <th>82196</th>\n",
       "      <td>2976</td>\n",
       "      <td>No genre</td>\n",
       "      <td>pc</td>\n",
       "      <td>gameStarted</td>\n",
       "      <td>userLocale</td>\n",
       "      <td>standard</td>\n",
       "      <td>101</td>\n",
       "      <td>12</td>\n",
       "    </tr>\n",
       "    <tr>\n",
       "      <th>82202</th>\n",
       "      <td>2976</td>\n",
       "      <td>No genre</td>\n",
       "      <td>pc</td>\n",
       "      <td>chatReceiveMessage</td>\n",
       "      <td>userScore</td>\n",
       "      <td>custom</td>\n",
       "      <td>101</td>\n",
       "      <td>1113</td>\n",
       "    </tr>\n",
       "    <tr>\n",
       "      <th>82203</th>\n",
       "      <td>2976</td>\n",
       "      <td>No genre</td>\n",
       "      <td>pc</td>\n",
       "      <td>stageUnlocked</td>\n",
       "      <td>userScore</td>\n",
       "      <td>custom</td>\n",
       "      <td>101</td>\n",
       "      <td>1114</td>\n",
       "    </tr>\n",
       "    <tr>\n",
       "      <th>82204</th>\n",
       "      <td>2976</td>\n",
       "      <td>No genre</td>\n",
       "      <td>pc</td>\n",
       "      <td>testAborted</td>\n",
       "      <td>userScore</td>\n",
       "      <td>custom</td>\n",
       "      <td>101</td>\n",
       "      <td>1115</td>\n",
       "    </tr>\n",
       "    <tr>\n",
       "      <th>82205</th>\n",
       "      <td>2976</td>\n",
       "      <td>No genre</td>\n",
       "      <td>pc</td>\n",
       "      <td>block100Build</td>\n",
       "      <td>userScore</td>\n",
       "      <td>custom</td>\n",
       "      <td>101</td>\n",
       "      <td>1116</td>\n",
       "    </tr>\n",
       "    <tr>\n",
       "      <th>82206</th>\n",
       "      <td>2976</td>\n",
       "      <td>No genre</td>\n",
       "      <td>pc</td>\n",
       "      <td>challengeTimeout</td>\n",
       "      <td>userScore</td>\n",
       "      <td>custom</td>\n",
       "      <td>101</td>\n",
       "      <td>1117</td>\n",
       "    </tr>\n",
       "    <tr>\n",
       "      <th>82207</th>\n",
       "      <td>2976</td>\n",
       "      <td>No genre</td>\n",
       "      <td>pc</td>\n",
       "      <td>toolDashUse</td>\n",
       "      <td>userScore</td>\n",
       "      <td>custom</td>\n",
       "      <td>101</td>\n",
       "      <td>1118</td>\n",
       "    </tr>\n",
       "    <tr>\n",
       "      <th>82208</th>\n",
       "      <td>2976</td>\n",
       "      <td>No genre</td>\n",
       "      <td>pc</td>\n",
       "      <td>timeTrialNewRecord</td>\n",
       "      <td>userScore</td>\n",
       "      <td>custom</td>\n",
       "      <td>101</td>\n",
       "      <td>1119</td>\n",
       "    </tr>\n",
       "    <tr>\n",
       "      <th>82209</th>\n",
       "      <td>2976</td>\n",
       "      <td>No genre</td>\n",
       "      <td>pc</td>\n",
       "      <td>challenged</td>\n",
       "      <td>userScore</td>\n",
       "      <td>custom</td>\n",
       "      <td>101</td>\n",
       "      <td>1120</td>\n",
       "    </tr>\n",
       "    <tr>\n",
       "      <th>82210</th>\n",
       "      <td>2976</td>\n",
       "      <td>No genre</td>\n",
       "      <td>pc</td>\n",
       "      <td>playerKillMachine</td>\n",
       "      <td>userScore</td>\n",
       "      <td>custom</td>\n",
       "      <td>101</td>\n",
       "      <td>1121</td>\n",
       "    </tr>\n",
       "    <tr>\n",
       "      <th>82211</th>\n",
       "      <td>2976</td>\n",
       "      <td>No genre</td>\n",
       "      <td>pc</td>\n",
       "      <td>statisticsView</td>\n",
       "      <td>playerCoins</td>\n",
       "      <td>custom</td>\n",
       "      <td>101</td>\n",
       "      <td>1122</td>\n",
       "    </tr>\n",
       "    <tr>\n",
       "      <th>82213</th>\n",
       "      <td>2976</td>\n",
       "      <td>No genre</td>\n",
       "      <td>pc</td>\n",
       "      <td>toolShoot10UseInActivity</td>\n",
       "      <td>userScore</td>\n",
       "      <td>custom</td>\n",
       "      <td>101</td>\n",
       "      <td>1123</td>\n",
       "    </tr>\n",
       "    <tr>\n",
       "      <th>82214</th>\n",
       "      <td>2976</td>\n",
       "      <td>No genre</td>\n",
       "      <td>pc</td>\n",
       "      <td>toolShieldUse</td>\n",
       "      <td>userScore</td>\n",
       "      <td>custom</td>\n",
       "      <td>101</td>\n",
       "      <td>1124</td>\n",
       "    </tr>\n",
       "    <tr>\n",
       "      <th>82215</th>\n",
       "      <td>2976</td>\n",
       "      <td>No genre</td>\n",
       "      <td>pc</td>\n",
       "      <td>battleFlipSideWithFlag</td>\n",
       "      <td>playerCoins</td>\n",
       "      <td>custom</td>\n",
       "      <td>101</td>\n",
       "      <td>1125</td>\n",
       "    </tr>\n",
       "    <tr>\n",
       "      <th>82216</th>\n",
       "      <td>2976</td>\n",
       "      <td>No genre</td>\n",
       "      <td>pc</td>\n",
       "      <td>playerKillBot</td>\n",
       "      <td>playerCoins</td>\n",
       "      <td>custom</td>\n",
       "      <td>101</td>\n",
       "      <td>1126</td>\n",
       "    </tr>\n",
       "    <tr>\n",
       "      <th>82217</th>\n",
       "      <td>2976</td>\n",
       "      <td>No genre</td>\n",
       "      <td>pc</td>\n",
       "      <td>stageAborted</td>\n",
       "      <td>userScore</td>\n",
       "      <td>custom</td>\n",
       "      <td>101</td>\n",
       "      <td>1127</td>\n",
       "    </tr>\n",
       "    <tr>\n",
       "      <th>82218</th>\n",
       "      <td>2976</td>\n",
       "      <td>No genre</td>\n",
       "      <td>pc</td>\n",
       "      <td>toolShoot100UseInActivity</td>\n",
       "      <td>userScore</td>\n",
       "      <td>custom</td>\n",
       "      <td>101</td>\n",
       "      <td>1128</td>\n",
       "    </tr>\n",
       "    <tr>\n",
       "      <th>82219</th>\n",
       "      <td>2976</td>\n",
       "      <td>No genre</td>\n",
       "      <td>pc</td>\n",
       "      <td>challengeAborted</td>\n",
       "      <td>playerMana</td>\n",
       "      <td>custom</td>\n",
       "      <td>101</td>\n",
       "      <td>1129</td>\n",
       "    </tr>\n",
       "    <tr>\n",
       "      <th>82220</th>\n",
       "      <td>2976</td>\n",
       "      <td>No genre</td>\n",
       "      <td>pc</td>\n",
       "      <td>activityStop</td>\n",
       "      <td>activityId</td>\n",
       "      <td>custom</td>\n",
       "      <td>101</td>\n",
       "      <td>1130</td>\n",
       "    </tr>\n",
       "    <tr>\n",
       "      <th>82221</th>\n",
       "      <td>2976</td>\n",
       "      <td>No genre</td>\n",
       "      <td>pc</td>\n",
       "      <td>activityStart</td>\n",
       "      <td>activityId</td>\n",
       "      <td>custom</td>\n",
       "      <td>101</td>\n",
       "      <td>1131</td>\n",
       "    </tr>\n",
       "    <tr>\n",
       "      <th>82226</th>\n",
       "      <td>2976</td>\n",
       "      <td>No genre</td>\n",
       "      <td>pc</td>\n",
       "      <td>timeTrialAbort</td>\n",
       "      <td>playerMana</td>\n",
       "      <td>custom</td>\n",
       "      <td>101</td>\n",
       "      <td>1132</td>\n",
       "    </tr>\n",
       "    <tr>\n",
       "      <th>82228</th>\n",
       "      <td>2976</td>\n",
       "      <td>No genre</td>\n",
       "      <td>pc</td>\n",
       "      <td>battleDefeat</td>\n",
       "      <td>playerMana</td>\n",
       "      <td>custom</td>\n",
       "      <td>101</td>\n",
       "      <td>1133</td>\n",
       "    </tr>\n",
       "    <tr>\n",
       "      <th>82229</th>\n",
       "      <td>2976</td>\n",
       "      <td>No genre</td>\n",
       "      <td>pc</td>\n",
       "      <td>stageStoped</td>\n",
       "      <td>playerMana</td>\n",
       "      <td>custom</td>\n",
       "      <td>101</td>\n",
       "      <td>1134</td>\n",
       "    </tr>\n",
       "    <tr>\n",
       "      <th>82231</th>\n",
       "      <td>2976</td>\n",
       "      <td>No genre</td>\n",
       "      <td>pc</td>\n",
       "      <td>error</td>\n",
       "      <td>playerMana</td>\n",
       "      <td>custom</td>\n",
       "      <td>101</td>\n",
       "      <td>534</td>\n",
       "    </tr>\n",
       "    <tr>\n",
       "      <th>82233</th>\n",
       "      <td>2976</td>\n",
       "      <td>No genre</td>\n",
       "      <td>pc</td>\n",
       "      <td>playerDeath</td>\n",
       "      <td>playerMana</td>\n",
       "      <td>custom</td>\n",
       "      <td>101</td>\n",
       "      <td>584</td>\n",
       "    </tr>\n",
       "    <tr>\n",
       "      <th>82234</th>\n",
       "      <td>2976</td>\n",
       "      <td>No genre</td>\n",
       "      <td>pc</td>\n",
       "      <td>battleAborted</td>\n",
       "      <td>playerMana</td>\n",
       "      <td>custom</td>\n",
       "      <td>101</td>\n",
       "      <td>1135</td>\n",
       "    </tr>\n",
       "    <tr>\n",
       "      <th>82235</th>\n",
       "      <td>2976</td>\n",
       "      <td>No genre</td>\n",
       "      <td>pc</td>\n",
       "      <td>battleOpponentLeave</td>\n",
       "      <td>playerMana</td>\n",
       "      <td>custom</td>\n",
       "      <td>101</td>\n",
       "      <td>1136</td>\n",
       "    </tr>\n",
       "    <tr>\n",
       "      <th>82236</th>\n",
       "      <td>2976</td>\n",
       "      <td>No genre</td>\n",
       "      <td>pc</td>\n",
       "      <td>timeTrialNoRecord</td>\n",
       "      <td>playerMana</td>\n",
       "      <td>custom</td>\n",
       "      <td>101</td>\n",
       "      <td>1137</td>\n",
       "    </tr>\n",
       "    <tr>\n",
       "      <th>...</th>\n",
       "      <td>...</td>\n",
       "      <td>...</td>\n",
       "      <td>...</td>\n",
       "      <td>...</td>\n",
       "      <td>...</td>\n",
       "      <td>...</td>\n",
       "      <td>...</td>\n",
       "      <td>...</td>\n",
       "    </tr>\n",
       "    <tr>\n",
       "      <th>82241</th>\n",
       "      <td>2976</td>\n",
       "      <td>No genre</td>\n",
       "      <td>pc</td>\n",
       "      <td>stageCompleted</td>\n",
       "      <td>playerMana</td>\n",
       "      <td>custom</td>\n",
       "      <td>101</td>\n",
       "      <td>1140</td>\n",
       "    </tr>\n",
       "    <tr>\n",
       "      <th>82242</th>\n",
       "      <td>2976</td>\n",
       "      <td>No genre</td>\n",
       "      <td>pc</td>\n",
       "      <td>challengeWin</td>\n",
       "      <td>playerMana</td>\n",
       "      <td>custom</td>\n",
       "      <td>101</td>\n",
       "      <td>1141</td>\n",
       "    </tr>\n",
       "    <tr>\n",
       "      <th>82243</th>\n",
       "      <td>2976</td>\n",
       "      <td>No genre</td>\n",
       "      <td>pc</td>\n",
       "      <td>battlePickupFlag</td>\n",
       "      <td>playerMana</td>\n",
       "      <td>custom</td>\n",
       "      <td>101</td>\n",
       "      <td>1142</td>\n",
       "    </tr>\n",
       "    <tr>\n",
       "      <th>82246</th>\n",
       "      <td>2976</td>\n",
       "      <td>No genre</td>\n",
       "      <td>pc</td>\n",
       "      <td>tool1000Use</td>\n",
       "      <td>playerCoins</td>\n",
       "      <td>custom</td>\n",
       "      <td>101</td>\n",
       "      <td>1143</td>\n",
       "    </tr>\n",
       "    <tr>\n",
       "      <th>82267</th>\n",
       "      <td>2976</td>\n",
       "      <td>No genre</td>\n",
       "      <td>pc</td>\n",
       "      <td>saveExplicit</td>\n",
       "      <td>playerCoins</td>\n",
       "      <td>custom</td>\n",
       "      <td>101</td>\n",
       "      <td>1144</td>\n",
       "    </tr>\n",
       "    <tr>\n",
       "      <th>82269</th>\n",
       "      <td>2976</td>\n",
       "      <td>No genre</td>\n",
       "      <td>pc</td>\n",
       "      <td>campaignCompleted</td>\n",
       "      <td>playerCoins</td>\n",
       "      <td>custom</td>\n",
       "      <td>101</td>\n",
       "      <td>1145</td>\n",
       "    </tr>\n",
       "    <tr>\n",
       "      <th>82270</th>\n",
       "      <td>2976</td>\n",
       "      <td>No genre</td>\n",
       "      <td>pc</td>\n",
       "      <td>toolUnlock</td>\n",
       "      <td>playerCoins</td>\n",
       "      <td>custom</td>\n",
       "      <td>101</td>\n",
       "      <td>1146</td>\n",
       "    </tr>\n",
       "    <tr>\n",
       "      <th>82271</th>\n",
       "      <td>2976</td>\n",
       "      <td>No genre</td>\n",
       "      <td>pc</td>\n",
       "      <td>blockPurshase</td>\n",
       "      <td>playerCoins</td>\n",
       "      <td>custom</td>\n",
       "      <td>101</td>\n",
       "      <td>1147</td>\n",
       "    </tr>\n",
       "    <tr>\n",
       "      <th>82277</th>\n",
       "      <td>2976</td>\n",
       "      <td>No genre</td>\n",
       "      <td>pc</td>\n",
       "      <td>levelUp</td>\n",
       "      <td>levelUpName</td>\n",
       "      <td>custom</td>\n",
       "      <td>101</td>\n",
       "      <td>5</td>\n",
       "    </tr>\n",
       "    <tr>\n",
       "      <th>82283</th>\n",
       "      <td>2976</td>\n",
       "      <td>No genre</td>\n",
       "      <td>pc</td>\n",
       "      <td>missionProposed</td>\n",
       "      <td>playerCoins</td>\n",
       "      <td>custom</td>\n",
       "      <td>101</td>\n",
       "      <td>1148</td>\n",
       "    </tr>\n",
       "    <tr>\n",
       "      <th>82285</th>\n",
       "      <td>2976</td>\n",
       "      <td>No genre</td>\n",
       "      <td>pc</td>\n",
       "      <td>testTimeout</td>\n",
       "      <td>playerCoins</td>\n",
       "      <td>custom</td>\n",
       "      <td>101</td>\n",
       "      <td>1149</td>\n",
       "    </tr>\n",
       "    <tr>\n",
       "      <th>82288</th>\n",
       "      <td>2976</td>\n",
       "      <td>No genre</td>\n",
       "      <td>pc</td>\n",
       "      <td>tool1Use</td>\n",
       "      <td>playerCoins</td>\n",
       "      <td>custom</td>\n",
       "      <td>101</td>\n",
       "      <td>1150</td>\n",
       "    </tr>\n",
       "    <tr>\n",
       "      <th>82290</th>\n",
       "      <td>2976</td>\n",
       "      <td>No genre</td>\n",
       "      <td>pc</td>\n",
       "      <td>block1Build</td>\n",
       "      <td>playerCoins</td>\n",
       "      <td>custom</td>\n",
       "      <td>101</td>\n",
       "      <td>1151</td>\n",
       "    </tr>\n",
       "    <tr>\n",
       "      <th>82291</th>\n",
       "      <td>2976</td>\n",
       "      <td>No genre</td>\n",
       "      <td>pc</td>\n",
       "      <td>battleStarted</td>\n",
       "      <td>playerCoins</td>\n",
       "      <td>custom</td>\n",
       "      <td>101</td>\n",
       "      <td>1152</td>\n",
       "    </tr>\n",
       "    <tr>\n",
       "      <th>82292</th>\n",
       "      <td>2976</td>\n",
       "      <td>No genre</td>\n",
       "      <td>pc</td>\n",
       "      <td>stageStarted</td>\n",
       "      <td>playerCoins</td>\n",
       "      <td>custom</td>\n",
       "      <td>101</td>\n",
       "      <td>1153</td>\n",
       "    </tr>\n",
       "    <tr>\n",
       "      <th>82297</th>\n",
       "      <td>2976</td>\n",
       "      <td>No genre</td>\n",
       "      <td>pc</td>\n",
       "      <td>challengeStarted</td>\n",
       "      <td>playerCoins</td>\n",
       "      <td>custom</td>\n",
       "      <td>101</td>\n",
       "      <td>1154</td>\n",
       "    </tr>\n",
       "    <tr>\n",
       "      <th>82298</th>\n",
       "      <td>2976</td>\n",
       "      <td>No genre</td>\n",
       "      <td>pc</td>\n",
       "      <td>missionSuceeded</td>\n",
       "      <td>playerCoins</td>\n",
       "      <td>custom</td>\n",
       "      <td>101</td>\n",
       "      <td>1155</td>\n",
       "    </tr>\n",
       "    <tr>\n",
       "      <th>82303</th>\n",
       "      <td>2976</td>\n",
       "      <td>No genre</td>\n",
       "      <td>pc</td>\n",
       "      <td>publishMap</td>\n",
       "      <td>playerCoins</td>\n",
       "      <td>custom</td>\n",
       "      <td>101</td>\n",
       "      <td>1156</td>\n",
       "    </tr>\n",
       "    <tr>\n",
       "      <th>82304</th>\n",
       "      <td>2976</td>\n",
       "      <td>No genre</td>\n",
       "      <td>pc</td>\n",
       "      <td>tool10Use</td>\n",
       "      <td>playerCoins</td>\n",
       "      <td>custom</td>\n",
       "      <td>101</td>\n",
       "      <td>1157</td>\n",
       "    </tr>\n",
       "    <tr>\n",
       "      <th>82314</th>\n",
       "      <td>2976</td>\n",
       "      <td>No genre</td>\n",
       "      <td>pc</td>\n",
       "      <td>guiButtonClick</td>\n",
       "      <td>playerCoins</td>\n",
       "      <td>custom</td>\n",
       "      <td>101</td>\n",
       "      <td>1158</td>\n",
       "    </tr>\n",
       "    <tr>\n",
       "      <th>82315</th>\n",
       "      <td>2976</td>\n",
       "      <td>No genre</td>\n",
       "      <td>pc</td>\n",
       "      <td>tool100Use</td>\n",
       "      <td>playerCoins</td>\n",
       "      <td>custom</td>\n",
       "      <td>101</td>\n",
       "      <td>1159</td>\n",
       "    </tr>\n",
       "    <tr>\n",
       "      <th>82322</th>\n",
       "      <td>2976</td>\n",
       "      <td>No genre</td>\n",
       "      <td>pc</td>\n",
       "      <td>testStarted</td>\n",
       "      <td>playerCoins</td>\n",
       "      <td>custom</td>\n",
       "      <td>101</td>\n",
       "      <td>1160</td>\n",
       "    </tr>\n",
       "    <tr>\n",
       "      <th>82323</th>\n",
       "      <td>2976</td>\n",
       "      <td>No genre</td>\n",
       "      <td>pc</td>\n",
       "      <td>blockUnlock</td>\n",
       "      <td>playerCoins</td>\n",
       "      <td>custom</td>\n",
       "      <td>101</td>\n",
       "      <td>1161</td>\n",
       "    </tr>\n",
       "    <tr>\n",
       "      <th>82324</th>\n",
       "      <td>2976</td>\n",
       "      <td>No genre</td>\n",
       "      <td>pc</td>\n",
       "      <td>timeTrialStart</td>\n",
       "      <td>playerCoins</td>\n",
       "      <td>custom</td>\n",
       "      <td>101</td>\n",
       "      <td>1162</td>\n",
       "    </tr>\n",
       "    <tr>\n",
       "      <th>82325</th>\n",
       "      <td>2976</td>\n",
       "      <td>No genre</td>\n",
       "      <td>pc</td>\n",
       "      <td>toolShoot1UseInActivity</td>\n",
       "      <td>playerCoins</td>\n",
       "      <td>custom</td>\n",
       "      <td>101</td>\n",
       "      <td>1163</td>\n",
       "    </tr>\n",
       "    <tr>\n",
       "      <th>82327</th>\n",
       "      <td>2976</td>\n",
       "      <td>No genre</td>\n",
       "      <td>pc</td>\n",
       "      <td>testCompleted</td>\n",
       "      <td>playerCoins</td>\n",
       "      <td>custom</td>\n",
       "      <td>101</td>\n",
       "      <td>1164</td>\n",
       "    </tr>\n",
       "    <tr>\n",
       "      <th>82384</th>\n",
       "      <td>2976</td>\n",
       "      <td>No genre</td>\n",
       "      <td>pc</td>\n",
       "      <td>newPlayer</td>\n",
       "      <td>uniqueTracking</td>\n",
       "      <td>standard</td>\n",
       "      <td>101</td>\n",
       "      <td>4</td>\n",
       "    </tr>\n",
       "    <tr>\n",
       "      <th>82397</th>\n",
       "      <td>2976</td>\n",
       "      <td>No genre</td>\n",
       "      <td>pc</td>\n",
       "      <td>toolTeleportUse</td>\n",
       "      <td>playTime</td>\n",
       "      <td>custom</td>\n",
       "      <td>101</td>\n",
       "      <td>1165</td>\n",
       "    </tr>\n",
       "    <tr>\n",
       "      <th>82420</th>\n",
       "      <td>2976</td>\n",
       "      <td>No genre</td>\n",
       "      <td>pc</td>\n",
       "      <td>block10Build</td>\n",
       "      <td>playTime</td>\n",
       "      <td>custom</td>\n",
       "      <td>101</td>\n",
       "      <td>1166</td>\n",
       "    </tr>\n",
       "    <tr>\n",
       "      <th>82427</th>\n",
       "      <td>2976</td>\n",
       "      <td>No genre</td>\n",
       "      <td>pc</td>\n",
       "      <td>chatSendMessage</td>\n",
       "      <td>playTime</td>\n",
       "      <td>custom</td>\n",
       "      <td>101</td>\n",
       "      <td>1167</td>\n",
       "    </tr>\n",
       "  </tbody>\n",
       "</table>\n",
       "<p>62 rows × 8 columns</p>\n",
       "</div>"
      ],
      "text/plain": [
       "       gameid     genre platform                  eventname  eventparameter  \\\n",
       "82191    2976  No genre       pc                 increaseXP     playerCoins   \n",
       "82192    2976  No genre       pc               clientDevice      deviceType   \n",
       "82196    2976  No genre       pc                gameStarted      userLocale   \n",
       "82202    2976  No genre       pc         chatReceiveMessage       userScore   \n",
       "82203    2976  No genre       pc              stageUnlocked       userScore   \n",
       "82204    2976  No genre       pc                testAborted       userScore   \n",
       "82205    2976  No genre       pc              block100Build       userScore   \n",
       "82206    2976  No genre       pc           challengeTimeout       userScore   \n",
       "82207    2976  No genre       pc                toolDashUse       userScore   \n",
       "82208    2976  No genre       pc         timeTrialNewRecord       userScore   \n",
       "82209    2976  No genre       pc                 challenged       userScore   \n",
       "82210    2976  No genre       pc          playerKillMachine       userScore   \n",
       "82211    2976  No genre       pc             statisticsView     playerCoins   \n",
       "82213    2976  No genre       pc   toolShoot10UseInActivity       userScore   \n",
       "82214    2976  No genre       pc              toolShieldUse       userScore   \n",
       "82215    2976  No genre       pc     battleFlipSideWithFlag     playerCoins   \n",
       "82216    2976  No genre       pc              playerKillBot     playerCoins   \n",
       "82217    2976  No genre       pc               stageAborted       userScore   \n",
       "82218    2976  No genre       pc  toolShoot100UseInActivity       userScore   \n",
       "82219    2976  No genre       pc           challengeAborted      playerMana   \n",
       "82220    2976  No genre       pc               activityStop      activityId   \n",
       "82221    2976  No genre       pc              activityStart      activityId   \n",
       "82226    2976  No genre       pc             timeTrialAbort      playerMana   \n",
       "82228    2976  No genre       pc               battleDefeat      playerMana   \n",
       "82229    2976  No genre       pc                stageStoped      playerMana   \n",
       "82231    2976  No genre       pc                      error      playerMana   \n",
       "82233    2976  No genre       pc                playerDeath      playerMana   \n",
       "82234    2976  No genre       pc              battleAborted      playerMana   \n",
       "82235    2976  No genre       pc        battleOpponentLeave      playerMana   \n",
       "82236    2976  No genre       pc          timeTrialNoRecord      playerMana   \n",
       "...       ...       ...      ...                        ...             ...   \n",
       "82241    2976  No genre       pc             stageCompleted      playerMana   \n",
       "82242    2976  No genre       pc               challengeWin      playerMana   \n",
       "82243    2976  No genre       pc           battlePickupFlag      playerMana   \n",
       "82246    2976  No genre       pc                tool1000Use     playerCoins   \n",
       "82267    2976  No genre       pc               saveExplicit     playerCoins   \n",
       "82269    2976  No genre       pc          campaignCompleted     playerCoins   \n",
       "82270    2976  No genre       pc                 toolUnlock     playerCoins   \n",
       "82271    2976  No genre       pc              blockPurshase     playerCoins   \n",
       "82277    2976  No genre       pc                    levelUp     levelUpName   \n",
       "82283    2976  No genre       pc            missionProposed     playerCoins   \n",
       "82285    2976  No genre       pc                testTimeout     playerCoins   \n",
       "82288    2976  No genre       pc                   tool1Use     playerCoins   \n",
       "82290    2976  No genre       pc                block1Build     playerCoins   \n",
       "82291    2976  No genre       pc              battleStarted     playerCoins   \n",
       "82292    2976  No genre       pc               stageStarted     playerCoins   \n",
       "82297    2976  No genre       pc           challengeStarted     playerCoins   \n",
       "82298    2976  No genre       pc            missionSuceeded     playerCoins   \n",
       "82303    2976  No genre       pc                 publishMap     playerCoins   \n",
       "82304    2976  No genre       pc                  tool10Use     playerCoins   \n",
       "82314    2976  No genre       pc             guiButtonClick     playerCoins   \n",
       "82315    2976  No genre       pc                 tool100Use     playerCoins   \n",
       "82322    2976  No genre       pc                testStarted     playerCoins   \n",
       "82323    2976  No genre       pc                blockUnlock     playerCoins   \n",
       "82324    2976  No genre       pc             timeTrialStart     playerCoins   \n",
       "82325    2976  No genre       pc    toolShoot1UseInActivity     playerCoins   \n",
       "82327    2976  No genre       pc              testCompleted     playerCoins   \n",
       "82384    2976  No genre       pc                  newPlayer  uniqueTracking   \n",
       "82397    2976  No genre       pc            toolTeleportUse        playTime   \n",
       "82420    2976  No genre       pc               block10Build        playTime   \n",
       "82427    2976  No genre       pc            chatSendMessage        playTime   \n",
       "\n",
       "      eventtype  new_game_id  new_event_id  \n",
       "82191    custom          101          1112  \n",
       "82192  standard          101             9  \n",
       "82196  standard          101            12  \n",
       "82202    custom          101          1113  \n",
       "82203    custom          101          1114  \n",
       "82204    custom          101          1115  \n",
       "82205    custom          101          1116  \n",
       "82206    custom          101          1117  \n",
       "82207    custom          101          1118  \n",
       "82208    custom          101          1119  \n",
       "82209    custom          101          1120  \n",
       "82210    custom          101          1121  \n",
       "82211    custom          101          1122  \n",
       "82213    custom          101          1123  \n",
       "82214    custom          101          1124  \n",
       "82215    custom          101          1125  \n",
       "82216    custom          101          1126  \n",
       "82217    custom          101          1127  \n",
       "82218    custom          101          1128  \n",
       "82219    custom          101          1129  \n",
       "82220    custom          101          1130  \n",
       "82221    custom          101          1131  \n",
       "82226    custom          101          1132  \n",
       "82228    custom          101          1133  \n",
       "82229    custom          101          1134  \n",
       "82231    custom          101           534  \n",
       "82233    custom          101           584  \n",
       "82234    custom          101          1135  \n",
       "82235    custom          101          1136  \n",
       "82236    custom          101          1137  \n",
       "...         ...          ...           ...  \n",
       "82241    custom          101          1140  \n",
       "82242    custom          101          1141  \n",
       "82243    custom          101          1142  \n",
       "82246    custom          101          1143  \n",
       "82267    custom          101          1144  \n",
       "82269    custom          101          1145  \n",
       "82270    custom          101          1146  \n",
       "82271    custom          101          1147  \n",
       "82277    custom          101             5  \n",
       "82283    custom          101          1148  \n",
       "82285    custom          101          1149  \n",
       "82288    custom          101          1150  \n",
       "82290    custom          101          1151  \n",
       "82291    custom          101          1152  \n",
       "82292    custom          101          1153  \n",
       "82297    custom          101          1154  \n",
       "82298    custom          101          1155  \n",
       "82303    custom          101          1156  \n",
       "82304    custom          101          1157  \n",
       "82314    custom          101          1158  \n",
       "82315    custom          101          1159  \n",
       "82322    custom          101          1160  \n",
       "82323    custom          101          1161  \n",
       "82324    custom          101          1162  \n",
       "82325    custom          101          1163  \n",
       "82327    custom          101          1164  \n",
       "82384  standard          101             4  \n",
       "82397    custom          101          1165  \n",
       "82420    custom          101          1166  \n",
       "82427    custom          101          1167  \n",
       "\n",
       "[62 rows x 8 columns]"
      ]
     },
     "execution_count": 67,
     "metadata": {},
     "output_type": "execute_result"
    }
   ],
   "source": [
    "data[data['new_event_id']==11118]\n",
    "data[data['new_game_id']==101].drop_duplicates('eventname')"
   ]
  },
  {
   "cell_type": "code",
   "execution_count": null,
   "metadata": {
    "collapsed": true
   },
   "outputs": [],
   "source": []
  }
 ],
 "metadata": {
  "kernelspec": {
   "display_name": "Python 3",
   "language": "python",
   "name": "python3"
  },
  "language_info": {
   "codemirror_mode": {
    "name": "ipython",
    "version": 3
   },
   "file_extension": ".py",
   "mimetype": "text/x-python",
   "name": "python",
   "nbconvert_exporter": "python",
   "pygments_lexer": "ipython3",
   "version": "3.6.2"
  }
 },
 "nbformat": 4,
 "nbformat_minor": 2
}
