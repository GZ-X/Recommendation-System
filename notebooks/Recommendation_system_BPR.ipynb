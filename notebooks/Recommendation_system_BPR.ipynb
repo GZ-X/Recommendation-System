{
 "cells": [
  {
   "cell_type": "code",
   "execution_count": 1,
   "metadata": {
    "collapsed": true
   },
   "outputs": [],
   "source": [
    "#BPR\n",
    "import numpy\n",
    "import tensorflow as tf\n",
    "import os\n",
    "import random\n",
    "from collections import defaultdict\n",
    "import pandas as pd\n",
    "import matplotlib.pyplot as plt\n",
    "import multiprocessing\n",
    "from multiprocessing.dummy import Pool as ThreadPool \n",
    "import time\n",
    "from functools import partial\n",
    "from tqdm import tqdm\n",
    "%matplotlib inline"
   ]
  },
  {
   "cell_type": "code",
   "execution_count": 2,
   "metadata": {
    "collapsed": true
   },
   "outputs": [],
   "source": [
    "DATA_DIR = \"../gamedata/original_dataset/\"\n",
    "DATA_FILE = \"dd_event_schemas.csv\"\n",
    "DATA_FOR_BPR = \"data_for_BPR.csv\"\n",
    "SAVE_DIR = \"../gamedata/train_result/\""
   ]
  },
  {
   "cell_type": "code",
   "execution_count": null,
   "metadata": {
    "collapsed": true
   },
   "outputs": [],
   "source": [
    "# #data preprocessing\n",
    "# data = pd.read_csv(DATA_DIR+DATA_FILE)\n",
    "# gameid = data['gameid'].drop_duplicates()\n",
    "# gameid_list = []\n",
    "# gameid_list = list(gameid)\n",
    "# gameid2newid = {old:new+1 for new, old in enumerate(gameid_list)}\n",
    "# data['new_game_id'] = data['gameid'].map(gameid2newid)\n",
    "\n",
    "# events = data['eventname'].drop_duplicates()\n",
    "# events_list = list(events)\n",
    "# events2id = {old:new+1 for new,old in enumerate(events_list)}\n",
    "# data['new_event_id'] = data['eventname'].map(events2id)"
   ]
  },
  {
   "cell_type": "code",
   "execution_count": null,
   "metadata": {
    "collapsed": true
   },
   "outputs": [],
   "source": [
    "#data.to_csv(DATA_DIR+'data_for_BPR.csv',index=False)"
   ]
  },
  {
   "cell_type": "code",
   "execution_count": null,
   "metadata": {
    "collapsed": true
   },
   "outputs": [],
   "source": [
    "#data=pd.read_csv(DATA_DIR+'data_for_BPR.csv')"
   ]
  },
  {
   "cell_type": "code",
   "execution_count": null,
   "metadata": {
    "collapsed": true
   },
   "outputs": [],
   "source": [
    "#data[data['new_game_id']==63]"
   ]
  },
  {
   "cell_type": "code",
   "execution_count": 3,
   "metadata": {},
   "outputs": [
    {
     "name": "stdout",
     "output_type": "stream",
     "text": [
      "game_count: 1108\n",
      "event_count: 11189\n"
     ]
    }
   ],
   "source": [
    "def load_data(data_path):\n",
    "    game_events = defaultdict(set)\n",
    "    game_count = -1\n",
    "    event_count = -1\n",
    "    with open(data_path,'r') as f:\n",
    "        header_line = next(f)\n",
    "        for line in f.readlines():\n",
    "            _, _, _, _, _, _, gameid, eventid = line.split(\",\")\n",
    "            gameid = int(gameid)\n",
    "            eventid = int(eventid)\n",
    "            #print(u,i)\n",
    "            game_events[gameid].add(eventid)\n",
    "            game_count = max(gameid, game_count)\n",
    "            event_count = max(eventid, event_count)\n",
    "    print (\"game_count:\", game_count)\n",
    "    print (\"event_count:\", event_count)\n",
    "    #return max_u_id, max_i_id, user_ratings\n",
    "    return game_count,event_count,game_events\n",
    "    \n",
    "\n",
    "#data_path = os.path.join('D:\\\\tmp\\\\ml-100k', 'u.data')\n",
    "#user_count, item_count, user_ratings = load_data(data_path)\n",
    "game_count,event_count,game_events_dict = load_data(DATA_DIR+DATA_FOR_BPR)"
   ]
  },
  {
   "cell_type": "code",
   "execution_count": 4,
   "metadata": {
    "collapsed": true
   },
   "outputs": [],
   "source": [
    "#\n",
    "def generate_test(game_events_dict):\n",
    "    user_test = dict()\n",
    "    for u, i_list in game_events_dict.items():\n",
    "        user_test[u] = random.sample(game_events_dict[u], 1)[0]\n",
    "    return user_test\n",
    "\n",
    "temp_dict = generate_test(game_events_dict)"
   ]
  },
  {
   "cell_type": "code",
   "execution_count": 50,
   "metadata": {
    "collapsed": true
   },
   "outputs": [],
   "source": [
    "#generate dataset for training\n",
    "def generate_train_batch(game_events_dict, temp_dict, event_count, batch_size):\n",
    "    t = []\n",
    "    \n",
    "    #print('generate batch..')\n",
    "    for b in range(batch_size):\n",
    "        break_flag1 = 0\n",
    "        break_flag2 = 0\n",
    "        u = random.sample(game_events_dict.keys(), 1)[0]\n",
    "        #print('u:',u)\n",
    "        i = random.sample(game_events_dict[u], 1)[0]\n",
    "        while i == temp_dict[u]:\n",
    "            break_flag1 += 1\n",
    "            i = random.sample(game_events_dict[u], 1)[0]\n",
    "            if break_flag1 == 20:\n",
    "                #game_events_dict.pop('u',None)\n",
    "                #temp_dict.pop('u',None)\n",
    "                break\n",
    "            #print('i:',i)\n",
    "        j = random.randint(1, event_count)\n",
    "        while j in game_events_dict[u]:\n",
    "            break_flag2 += 1\n",
    "            j = random.randint(1, event_count)\n",
    "            if break_flag2 == 20:\n",
    "                #game_events_dict.pop('u',None)\n",
    "                #temp_dict.pop('u',None)\n",
    "                break\n",
    "            #print('j:',j)\n",
    "        t.append([u, i, j])\n",
    "        #print(u,i,j)\n",
    "    #print('generate batch done!')\n",
    "    return numpy.asarray(t)\n",
    "\n",
    "#train_set = generate_train_batch(game_events_dict,temp_dict,event_count)"
   ]
  },
  {
   "cell_type": "code",
   "execution_count": 61,
   "metadata": {
    "collapsed": true
   },
   "outputs": [],
   "source": [
    "def generate_test_batch(game_events_dict, temp_dict, event_count):\n",
    "    for u in game_events_dict.keys():\n",
    "        t = []\n",
    "        i = temp_dict[u]\n",
    "        #for j in range(1, event_count+1):\n",
    "        for j in range(1, 1001):\n",
    "            if not (j in game_events_dict[u]):\n",
    "                t.append([u, i, j])\n",
    "        yield numpy.asarray(t)"
   ]
  },
  {
   "cell_type": "code",
   "execution_count": 46,
   "metadata": {
    "collapsed": true
   },
   "outputs": [],
   "source": [
    "def bpr_mf(game_count, event_count, hidden_dim):\n",
    "    u = tf.placeholder(tf.int32, [None])\n",
    "    i = tf.placeholder(tf.int32, [None])\n",
    "    j = tf.placeholder(tf.int32, [None])\n",
    "\n",
    "    with tf.device(\"/cpu:0\"):\n",
    "        user_emb_w = tf.get_variable(\"user_emb_w\", [game_count+1, hidden_dim], \n",
    "                            initializer=tf.random_normal_initializer(0, 0.1))\n",
    "        item_emb_w = tf.get_variable(\"item_emb_w\", [event_count+1, hidden_dim], \n",
    "                                initializer=tf.random_normal_initializer(0, 0.1))\n",
    "        \n",
    "        u_emb = tf.nn.embedding_lookup(user_emb_w, u)\n",
    "        i_emb = tf.nn.embedding_lookup(item_emb_w, i)\n",
    "        j_emb = tf.nn.embedding_lookup(item_emb_w, j)\n",
    "    \n",
    "    # MF predict: u_i > u_j\n",
    "    x = tf.reduce_sum(tf.multiply(u_emb, (i_emb - j_emb)), 1, keepdims=True)\n",
    "    \n",
    "    # AUC for one user:\n",
    "    # reasonable iff all (u,i,j) pairs are from the same user\n",
    "    # \n",
    "    # average AUC = mean( auc for each user in test set)\n",
    "    mf_auc = tf.reduce_mean(tf.to_float(x > 0))\n",
    "    \n",
    "    l2_norm = tf.add_n([\n",
    "            tf.reduce_sum(tf.multiply(u_emb, u_emb)), \n",
    "            tf.reduce_sum(tf.multiply(i_emb, i_emb)),\n",
    "            tf.reduce_sum(tf.multiply(j_emb, j_emb))\n",
    "        ])\n",
    "    \n",
    "    regulation_rate = 0.0001\n",
    "    bprloss = regulation_rate * l2_norm - tf.reduce_mean(tf.log(tf.sigmoid(x)))\n",
    "    \n",
    "    train_op = tf.train.GradientDescentOptimizer(0.01).minimize(bprloss)\n",
    "    return u, i, j, mf_auc, bprloss, train_op"
   ]
  },
  {
   "cell_type": "code",
   "execution_count": 84,
   "metadata": {
    "scrolled": true
   },
   "outputs": [
    {
     "name": "stderr",
     "output_type": "stream",
     "text": [
      "  0%|          | 1/4999 [00:00<08:45,  9.50it/s]"
     ]
    },
    {
     "name": "stdout",
     "output_type": "stream",
     "text": [
      "start epoch\n",
      "epoch:  1\n"
     ]
    },
    {
     "name": "stderr",
     "output_type": "stream",
     "text": [
      "100%|██████████| 4999/4999 [01:23<00:00, 59.59it/s]\n"
     ]
    },
    {
     "name": "stdout",
     "output_type": "stream",
     "text": [
      "bpr_loss:  0.7229769994888717\n",
      "_train_op\n",
      "test_loss:  0.7489471516239083 test_auc:  0.5111525780014906\n",
      "\n",
      "Variable:  user_emb_w:0\n",
      "Shape:  (1109, 20)\n",
      "[[ 0.03679958 -0.09989663  0.02503717 ... -0.07627834 -0.0605009\n",
      "  -0.03673812]\n",
      " [-0.04986278 -0.09031277 -0.0500199  ... -0.19825013  0.12151904\n",
      "   0.10557431]\n",
      " [ 0.00365524  0.14824083 -0.03527503 ...  0.01671001  0.11243264\n",
      "   0.06172235]\n",
      " ...\n",
      " [-0.00991808  0.08441954 -0.02329948 ... -0.17994705 -0.13385957\n",
      "  -0.0119026 ]\n",
      " [-0.06867337  0.03956933  0.06494844 ... -0.01831766  0.09859017\n",
      "  -0.16752434]\n",
      " [-0.16004193 -0.14453687 -0.03481292 ...  0.08316372  0.04111993\n",
      "   0.05761187]]\n",
      "Variable:  item_emb_w:0\n",
      "Shape:  (11190, 20)\n",
      "[[-0.19654194  0.09346362 -0.15887265 ...  0.04635011  0.04819652\n",
      "   0.00392018]\n",
      " [ 0.1684987  -0.05777324  0.05834768 ... -0.03552048 -0.12857795\n",
      "  -0.04508829]\n",
      " [ 0.02511788  0.19203483 -0.05736518 ... -0.09844682 -0.09532938\n",
      "  -0.10834677]\n",
      " ...\n",
      " [-0.05310225 -0.15992926 -0.16693182 ...  0.13361815  0.03638485\n",
      "  -0.06611024]\n",
      " [ 0.10583587  0.10532506  0.16023071 ...  0.01416377  0.20598763\n",
      "   0.09815867]\n",
      " [-0.08590738  0.10950617  0.00169976 ... -0.08270498  0.13721764\n",
      "  -0.03692935]]\n",
      "all done\n"
     ]
    }
   ],
   "source": [
    "with tf.Graph().as_default(), tf.Session() as session:\n",
    "    u, i, j, mf_auc, bprloss, train_op = bpr_mf(game_count, event_count, 20)\n",
    "#     print(u, i, j, mf_auc, bprloss, train_op)\n",
    "    session.run(tf.global_variables_initializer())\n",
    "    saver = tf.train.Saver()\n",
    "    print('start epoch')\n",
    "    for epoch in range(1, 2):\n",
    "        print (\"epoch: \", epoch)\n",
    "        _batch_bprloss = 0\n",
    "        for k in tqdm(range(1, 5000)): # uniform samples from training set\n",
    "            uij = generate_train_batch(game_events_dict, temp_dict,event_count,batch_size=512)\n",
    "\n",
    "            _bprloss, _train_op = session.run([bprloss, train_op], \n",
    "                                feed_dict={u:uij[:,0], i:uij[:,1], j:uij[:,2]})\n",
    "            _batch_bprloss += _bprloss\n",
    "        \n",
    "        \n",
    "        print (\"bpr_loss: \", _batch_bprloss / k)\n",
    "        print (\"_train_op\")\n",
    "\n",
    "        games_count = 0\n",
    "        _auc_sum = 0.0\n",
    "        test_bprloss = 0.0\n",
    "        # each batch will return only one user's auc\n",
    "        for t_uij in generate_test_batch(game_events_dict, temp_dict, event_count):\n",
    "\n",
    "            _auc, _test_bprloss = session.run([mf_auc, bprloss],\n",
    "                                    feed_dict={u:t_uij[:,0], i:t_uij[:,1], j:t_uij[:,2]}\n",
    "                                )\n",
    "            games_count += 1\n",
    "            _auc_sum += _auc\n",
    "            test_bprloss += _test_bprloss\n",
    "#            print (\"test_loss: \", test_bprloss/games_count)\n",
    "        print (\"test_loss: \", test_bprloss/games_count, \"test_auc: \", _auc_sum/games_count)\n",
    "        print (\"\")\n",
    "    variable_names = [v.name for v in tf.trainable_variables()]\n",
    "    values = session.run(variable_names)\n",
    "    saver.save(session, SAVE_DIR)\n",
    "    for k,v in zip(variable_names, values):\n",
    "        print(\"Variable: \", k)\n",
    "        print(\"Shape: \", v.shape)\n",
    "        print(v)\n",
    "print('all done')"
   ]
  },
  {
   "cell_type": "code",
   "execution_count": 58,
   "metadata": {},
   "outputs": [
    {
     "name": "stdout",
     "output_type": "stream",
     "text": [
      "11110\n",
      "50\n"
     ]
    }
   ],
   "source": [
    "print(len(t_uij))\n",
    "print(len(uij))"
   ]
  },
  {
   "cell_type": "code",
   "execution_count": 29,
   "metadata": {},
   "outputs": [
    {
     "data": {
      "text/plain": [
       "1.1672156"
      ]
     },
     "execution_count": 29,
     "metadata": {},
     "output_type": "execute_result"
    }
   ],
   "source": [
    "_test_bprloss"
   ]
  },
  {
   "cell_type": "code",
   "execution_count": null,
   "metadata": {
    "collapsed": true
   },
   "outputs": [],
   "source": []
  },
  {
   "cell_type": "code",
   "execution_count": null,
   "metadata": {
    "collapsed": true
   },
   "outputs": [],
   "source": [
    "saver.save(session, SAVE_DIR)"
   ]
  },
  {
   "cell_type": "code",
   "execution_count": 77,
   "metadata": {},
   "outputs": [
    {
     "name": "stdout",
     "output_type": "stream",
     "text": [
      "[[ 0.16464396  0.00183702 -0.02877046 ... -0.05436823  0.05229869\n",
      "  -0.07270078]]\n"
     ]
    }
   ],
   "source": [
    "session1 = tf.Session()\n",
    "u1_dim = tf.expand_dims(values[0][1], 0)\n",
    "u1_all = tf.matmul(u1_dim, values[1],transpose_b=True)\n",
    "result_1 = session1.run(u1_all)\n",
    "print (result_1)"
   ]
  },
  {
   "cell_type": "code",
   "execution_count": 83,
   "metadata": {},
   "outputs": [
    {
     "name": "stdout",
     "output_type": "stream",
     "text": [
      "new recommedation ：\n",
      "569 0.18474106 51023    black_market_buy_toy\n",
      "Name: eventname, dtype: object\n",
      "1090 0.20001167 78596    systemNetworkSlowImage\n",
      "Name: eventname, dtype: object\n",
      "2162 0.17544779 192626    enterMapView\n",
      "Name: eventname, dtype: object\n",
      "3380 0.17380595 299303    nameChanged\n",
      "Name: eventname, dtype: object\n",
      "5957 0.19109626 482335    starterPackPopupDisplayed\n",
      "Name: eventname, dtype: object\n",
      "6394 0.1952556 514548    beebreaker_activity_start\n",
      "Name: eventname, dtype: object\n",
      "6450 0.19272463 520913    addCrystal\n",
      "Name: eventname, dtype: object\n",
      "7890 0.17444888 642755    enemykilled\n",
      "Name: eventname, dtype: object\n",
      "8743 0.20903704 683869    appsFlyerConversionDataError\n",
      "Name: eventname, dtype: object\n",
      "10932 0.18367468 850277    hintMenuOpened\n",
      "Name: eventname, dtype: object\n"
     ]
    }
   ],
   "source": [
    "print(\"new recommedation ：\")\n",
    "p = numpy.squeeze(result_1)\n",
    "p[numpy.argsort(p)[:-10]] = 0\n",
    "for index in range(len(p)):\n",
    "    if p[index] != 0:\n",
    "        select = data[data['new_event_id']==index].drop_duplicates('eventname')\n",
    "  \n",
    "        print (index, p[index],select['eventname'])"
   ]
  },
  {
   "cell_type": "code",
   "execution_count": 65,
   "metadata": {
    "collapsed": true
   },
   "outputs": [],
   "source": [
    "data=pd.read_csv(DATA_DIR+'data_for_BPR.csv')"
   ]
  },
  {
   "cell_type": "code",
   "execution_count": 67,
   "metadata": {},
   "outputs": [
    {
     "data": {
      "text/html": [
       "<div>\n",
       "<style scoped>\n",
       "    .dataframe tbody tr th:only-of-type {\n",
       "        vertical-align: middle;\n",
       "    }\n",
       "\n",
       "    .dataframe tbody tr th {\n",
       "        vertical-align: top;\n",
       "    }\n",
       "\n",
       "    .dataframe thead th {\n",
       "        text-align: right;\n",
       "    }\n",
       "</style>\n",
       "<table border=\"1\" class=\"dataframe\">\n",
       "  <thead>\n",
       "    <tr style=\"text-align: right;\">\n",
       "      <th></th>\n",
       "      <th>gameid</th>\n",
       "      <th>genre</th>\n",
       "      <th>platform</th>\n",
       "      <th>eventname</th>\n",
       "      <th>eventparameter</th>\n",
       "      <th>eventtype</th>\n",
       "      <th>new_game_id</th>\n",
       "      <th>new_event_id</th>\n",
       "    </tr>\n",
       "  </thead>\n",
       "  <tbody>\n",
       "    <tr>\n",
       "      <th>0</th>\n",
       "      <td>3</td>\n",
       "      <td>No genre</td>\n",
       "      <td>ios</td>\n",
       "      <td>transaction</td>\n",
       "      <td>focus</td>\n",
       "      <td>custom</td>\n",
       "      <td>1</td>\n",
       "      <td>1</td>\n",
       "    </tr>\n",
       "    <tr>\n",
       "      <th>1</th>\n",
       "      <td>3</td>\n",
       "      <td>No genre</td>\n",
       "      <td>ios</td>\n",
       "      <td>gameEnded</td>\n",
       "      <td>attack</td>\n",
       "      <td>custom</td>\n",
       "      <td>1</td>\n",
       "      <td>2</td>\n",
       "    </tr>\n",
       "    <tr>\n",
       "      <th>2</th>\n",
       "      <td>3</td>\n",
       "      <td>No genre</td>\n",
       "      <td>ios</td>\n",
       "      <td>missionFailed</td>\n",
       "      <td>attack</td>\n",
       "      <td>custom</td>\n",
       "      <td>1</td>\n",
       "      <td>3</td>\n",
       "    </tr>\n",
       "    <tr>\n",
       "      <th>3</th>\n",
       "      <td>3</td>\n",
       "      <td>No genre</td>\n",
       "      <td>ios</td>\n",
       "      <td>newPlayer</td>\n",
       "      <td>attack</td>\n",
       "      <td>standard</td>\n",
       "      <td>1</td>\n",
       "      <td>4</td>\n",
       "    </tr>\n",
       "    <tr>\n",
       "      <th>4</th>\n",
       "      <td>3</td>\n",
       "      <td>No genre</td>\n",
       "      <td>ios</td>\n",
       "      <td>levelUp</td>\n",
       "      <td>attack</td>\n",
       "      <td>custom</td>\n",
       "      <td>1</td>\n",
       "      <td>5</td>\n",
       "    </tr>\n",
       "    <tr>\n",
       "      <th>5</th>\n",
       "      <td>3</td>\n",
       "      <td>No genre</td>\n",
       "      <td>ios</td>\n",
       "      <td>characterCreated</td>\n",
       "      <td>attack</td>\n",
       "      <td>custom</td>\n",
       "      <td>1</td>\n",
       "      <td>6</td>\n",
       "    </tr>\n",
       "    <tr>\n",
       "      <th>6</th>\n",
       "      <td>3</td>\n",
       "      <td>No genre</td>\n",
       "      <td>ios</td>\n",
       "      <td>guild</td>\n",
       "      <td>attack</td>\n",
       "      <td>custom</td>\n",
       "      <td>1</td>\n",
       "      <td>7</td>\n",
       "    </tr>\n",
       "    <tr>\n",
       "      <th>7</th>\n",
       "      <td>3</td>\n",
       "      <td>No genre</td>\n",
       "      <td>ios</td>\n",
       "      <td>social</td>\n",
       "      <td>attack</td>\n",
       "      <td>custom</td>\n",
       "      <td>1</td>\n",
       "      <td>8</td>\n",
       "    </tr>\n",
       "    <tr>\n",
       "      <th>9</th>\n",
       "      <td>3</td>\n",
       "      <td>No genre</td>\n",
       "      <td>ios</td>\n",
       "      <td>clientDevice</td>\n",
       "      <td>attack</td>\n",
       "      <td>standard</td>\n",
       "      <td>1</td>\n",
       "      <td>9</td>\n",
       "    </tr>\n",
       "    <tr>\n",
       "      <th>10</th>\n",
       "      <td>3</td>\n",
       "      <td>No genre</td>\n",
       "      <td>ios</td>\n",
       "      <td>missionCompleted</td>\n",
       "      <td>attack</td>\n",
       "      <td>custom</td>\n",
       "      <td>1</td>\n",
       "      <td>10</td>\n",
       "    </tr>\n",
       "    <tr>\n",
       "      <th>13</th>\n",
       "      <td>3</td>\n",
       "      <td>No genre</td>\n",
       "      <td>ios</td>\n",
       "      <td>missionAbandoned</td>\n",
       "      <td>missionSource</td>\n",
       "      <td>custom</td>\n",
       "      <td>1</td>\n",
       "      <td>11</td>\n",
       "    </tr>\n",
       "    <tr>\n",
       "      <th>28</th>\n",
       "      <td>3</td>\n",
       "      <td>No genre</td>\n",
       "      <td>ios</td>\n",
       "      <td>gameStarted</td>\n",
       "      <td>characterName</td>\n",
       "      <td>standard</td>\n",
       "      <td>1</td>\n",
       "      <td>12</td>\n",
       "    </tr>\n",
       "    <tr>\n",
       "      <th>30</th>\n",
       "      <td>3</td>\n",
       "      <td>No genre</td>\n",
       "      <td>ios</td>\n",
       "      <td>inviteSent</td>\n",
       "      <td>defence</td>\n",
       "      <td>custom</td>\n",
       "      <td>1</td>\n",
       "      <td>13</td>\n",
       "    </tr>\n",
       "    <tr>\n",
       "      <th>31</th>\n",
       "      <td>3</td>\n",
       "      <td>No genre</td>\n",
       "      <td>ios</td>\n",
       "      <td>inviteReceived</td>\n",
       "      <td>defence</td>\n",
       "      <td>custom</td>\n",
       "      <td>1</td>\n",
       "      <td>14</td>\n",
       "    </tr>\n",
       "    <tr>\n",
       "      <th>36</th>\n",
       "      <td>3</td>\n",
       "      <td>No genre</td>\n",
       "      <td>ios</td>\n",
       "      <td>missionStarted</td>\n",
       "      <td>defence</td>\n",
       "      <td>custom</td>\n",
       "      <td>1</td>\n",
       "      <td>15</td>\n",
       "    </tr>\n",
       "  </tbody>\n",
       "</table>\n",
       "</div>"
      ],
      "text/plain": [
       "    gameid     genre platform         eventname eventparameter eventtype  \\\n",
       "0        3  No genre      ios       transaction          focus    custom   \n",
       "1        3  No genre      ios         gameEnded         attack    custom   \n",
       "2        3  No genre      ios     missionFailed         attack    custom   \n",
       "3        3  No genre      ios         newPlayer         attack  standard   \n",
       "4        3  No genre      ios           levelUp         attack    custom   \n",
       "5        3  No genre      ios  characterCreated         attack    custom   \n",
       "6        3  No genre      ios             guild         attack    custom   \n",
       "7        3  No genre      ios            social         attack    custom   \n",
       "9        3  No genre      ios      clientDevice         attack  standard   \n",
       "10       3  No genre      ios  missionCompleted         attack    custom   \n",
       "13       3  No genre      ios  missionAbandoned  missionSource    custom   \n",
       "28       3  No genre      ios       gameStarted  characterName  standard   \n",
       "30       3  No genre      ios        inviteSent        defence    custom   \n",
       "31       3  No genre      ios    inviteReceived        defence    custom   \n",
       "36       3  No genre      ios    missionStarted        defence    custom   \n",
       "\n",
       "    new_game_id  new_event_id  \n",
       "0             1             1  \n",
       "1             1             2  \n",
       "2             1             3  \n",
       "3             1             4  \n",
       "4             1             5  \n",
       "5             1             6  \n",
       "6             1             7  \n",
       "7             1             8  \n",
       "9             1             9  \n",
       "10            1            10  \n",
       "13            1            11  \n",
       "28            1            12  \n",
       "30            1            13  \n",
       "31            1            14  \n",
       "36            1            15  "
      ]
     },
     "execution_count": 67,
     "metadata": {},
     "output_type": "execute_result"
    }
   ],
   "source": [
    "data[data['new_event_id']==11118]\n",
    "data[data['new_game_id']==1].drop_duplicates('eventname')"
   ]
  },
  {
   "cell_type": "code",
   "execution_count": null,
   "metadata": {
    "collapsed": true
   },
   "outputs": [],
   "source": []
  }
 ],
 "metadata": {
  "kernelspec": {
   "display_name": "Python 3",
   "language": "python",
   "name": "python3"
  },
  "language_info": {
   "codemirror_mode": {
    "name": "ipython",
    "version": 3
   },
   "file_extension": ".py",
   "mimetype": "text/x-python",
   "name": "python",
   "nbconvert_exporter": "python",
   "pygments_lexer": "ipython3",
   "version": "3.6.2"
  }
 },
 "nbformat": 4,
 "nbformat_minor": 2
}
