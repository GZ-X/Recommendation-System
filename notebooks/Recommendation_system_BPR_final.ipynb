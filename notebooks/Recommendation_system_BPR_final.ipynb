{
 "cells": [
  {
   "cell_type": "code",
   "execution_count": 2,
   "metadata": {
    "collapsed": true
   },
   "outputs": [],
   "source": [
    "#BPR\n",
    "import numpy\n",
    "import tensorflow as tf\n",
    "import os\n",
    "import random\n",
    "from collections import defaultdict\n",
    "import pandas as pd\n",
    "import matplotlib.pyplot as plt\n",
    "import multiprocessing\n",
    "from multiprocessing.dummy import Pool as ThreadPool \n",
    "import time\n",
    "from functools import partial\n",
    "from tqdm import tqdm\n",
    "%matplotlib inline"
   ]
  },
  {
   "cell_type": "code",
   "execution_count": 3,
   "metadata": {
    "collapsed": true
   },
   "outputs": [],
   "source": [
    "DATA_DIR = \"../gamedata/original_dataset/\"\n",
    "DATA_FILE = \"dd_event_schemas.csv\"\n",
    "DATA_FOR_BPR = \"data_for_BPR.csv\"\n",
    "SAVE_DIR = \"../gamedata/train_result/\""
   ]
  },
  {
   "cell_type": "code",
   "execution_count": 4,
   "metadata": {
    "collapsed": true
   },
   "outputs": [],
   "source": [
    "# #data preprocessing\n",
    "# data = pd.read_csv(DATA_DIR+DATA_FILE)\n",
    "# gameid = data['gameid'].drop_duplicates()\n",
    "# gameid_list = []\n",
    "# gameid_list = list(gameid)\n",
    "# gameid2newid = {old:new+1 for new, old in enumerate(gameid_list)}\n",
    "# data['new_game_id'] = data['gameid'].map(gameid2newid)\n",
    "\n",
    "# events = data['eventname'].drop_duplicates()\n",
    "# events_list = list(events)\n",
    "# events2id = {old:new+1 for new,old in enumerate(events_list)}\n",
    "# data['new_event_id'] = data['eventname'].map(events2id)"
   ]
  },
  {
   "cell_type": "code",
   "execution_count": null,
   "metadata": {
    "collapsed": true
   },
   "outputs": [],
   "source": [
    "#data.to_csv(DATA_DIR+'data_for_BPR.csv',index=False)"
   ]
  },
  {
   "cell_type": "code",
   "execution_count": null,
   "metadata": {
    "collapsed": true
   },
   "outputs": [],
   "source": [
    "#data=pd.read_csv(DATA_DIR+'data_for_BPR.csv')"
   ]
  },
  {
   "cell_type": "code",
   "execution_count": null,
   "metadata": {
    "collapsed": true
   },
   "outputs": [],
   "source": [
    "#data[data['new_game_id']==63]"
   ]
  },
  {
   "cell_type": "code",
   "execution_count": 5,
   "metadata": {},
   "outputs": [
    {
     "name": "stdout",
     "output_type": "stream",
     "text": [
      "game_count: 1108\n",
      "event_count: 11189\n"
     ]
    }
   ],
   "source": [
    "def load_data(data_path):\n",
    "    game_events = defaultdict(set)\n",
    "    game_count = -1\n",
    "    event_count = -1\n",
    "    with open(data_path,'r') as f:\n",
    "        header_line = next(f)\n",
    "        for line in f.readlines():\n",
    "            _, _, _, _, _, _, gameid, eventid = line.split(\",\")\n",
    "            gameid = int(gameid)\n",
    "            eventid = int(eventid)\n",
    "            #print(u,i)\n",
    "            game_events[gameid].add(eventid)\n",
    "            game_count = max(gameid, game_count)\n",
    "            event_count = max(eventid, event_count)\n",
    "    print (\"game_count:\", game_count)\n",
    "    print (\"event_count:\", event_count)\n",
    "    #return max_u_id, max_i_id, user_ratings\n",
    "    return game_count,event_count,game_events\n",
    "    \n",
    "\n",
    "#data_path = os.path.join('D:\\\\tmp\\\\ml-100k', 'u.data')\n",
    "#user_count, item_count, user_ratings = load_data(data_path)\n",
    "game_count,event_count,game_events_dict = load_data(DATA_DIR+DATA_FOR_BPR)"
   ]
  },
  {
   "cell_type": "code",
   "execution_count": 6,
   "metadata": {
    "collapsed": true
   },
   "outputs": [],
   "source": [
    "#\n",
    "def generate_temp(game_events_dict):\n",
    "    user_test = dict()\n",
    "    for u, i_list in game_events_dict.items():\n",
    "        user_test[u] = random.sample(game_events_dict[u], 1)[0]\n",
    "    return user_test\n",
    "\n",
    "temp_dict = generate_temp(game_events_dict)"
   ]
  },
  {
   "cell_type": "code",
   "execution_count": 7,
   "metadata": {
    "collapsed": true
   },
   "outputs": [],
   "source": [
    "#generate dataset for training\n",
    "def generate_train_batch(game_events_dict, temp_dict, event_count, batch_size):\n",
    "    t = []\n",
    "    \n",
    "    #print('generate batch..')\n",
    "    for b in range(batch_size):\n",
    "        break_flag1 = 0\n",
    "        break_flag2 = 0\n",
    "        u = random.sample(game_events_dict.keys(), 1)[0]\n",
    "        #print('u:',u)\n",
    "        i = random.sample(game_events_dict[u], 1)[0]\n",
    "        while i == temp_dict[u]:\n",
    "            break_flag1 += 1\n",
    "            i = random.sample(game_events_dict[u], 1)[0]\n",
    "            if break_flag1 == 20:\n",
    "                #game_events_dict.pop('u',None)\n",
    "                #temp_dict.pop('u',None)\n",
    "                break\n",
    "            #print('i:',i)\n",
    "        j = random.randint(1, event_count)\n",
    "        while j in game_events_dict[u]:\n",
    "            #break_flag2 += 1\n",
    "            j = random.randint(1, event_count)\n",
    "            #if break_flag2 == 20:\n",
    "                #game_events_dict.pop('u',None)\n",
    "                #temp_dict.pop('u',None)\n",
    "             #   break\n",
    "            #print('j:',j)\n",
    "        t.append([u, i, j])\n",
    "        #print(u,i,j)\n",
    "    #print('generate batch done!')\n",
    "    return numpy.asarray(t)\n",
    "\n",
    "#train_set = generate_train_batch(game_events_dict,temp_dict,event_count)"
   ]
  },
  {
   "cell_type": "code",
   "execution_count": 8,
   "metadata": {
    "collapsed": true
   },
   "outputs": [],
   "source": [
    "def generate_test_batch(game_events_dict, temp_dict, event_count):\n",
    "    for u in game_events_dict.keys():\n",
    "        t = []\n",
    "        i = temp_dict[u]\n",
    "        #for j in range(1, event_count+1):\n",
    "        for j in range(1, 1001):\n",
    "            if not (j in game_events_dict[u]):\n",
    "                t.append([u, i, j])\n",
    "        yield numpy.asarray(t)"
   ]
  },
  {
   "cell_type": "code",
   "execution_count": 9,
   "metadata": {
    "collapsed": true
   },
   "outputs": [],
   "source": [
    "def bpr_mf(game_count, event_count, hidden_dim):\n",
    "    u = tf.placeholder(tf.int32, [None])\n",
    "    i = tf.placeholder(tf.int32, [None])\n",
    "    j = tf.placeholder(tf.int32, [None])\n",
    "\n",
    "    with tf.device(\"/cpu:0\"):\n",
    "        user_emb_w = tf.get_variable(\"user_emb_w\", [game_count+1, hidden_dim], \n",
    "                            initializer=tf.random_normal_initializer(0, 0.1))\n",
    "        item_emb_h = tf.get_variable(\"item_emb_h\", [event_count+1, hidden_dim], \n",
    "                                initializer=tf.random_normal_initializer(0, 0.1))\n",
    "        \n",
    "        u_emb = tf.nn.embedding_lookup(user_emb_w, u)\n",
    "        i_emb = tf.nn.embedding_lookup(item_emb_h, i)\n",
    "        j_emb = tf.nn.embedding_lookup(item_emb_h, j)\n",
    "    \n",
    "    # MF predict: u_i > u_j\n",
    "    x = tf.reduce_sum(tf.multiply(u_emb, (i_emb - j_emb)), 1, keepdims=True)\n",
    "    loss1 = - tf.reduce_mean(tf.log(tf.sigmoid(x)))\n",
    "    # AUC for one user:\n",
    "    # reasonable iff all (u,i,j) pairs are from the same user\n",
    "    # \n",
    "    # average AUC = mean( auc for each user in test set)\n",
    "    mf_auc = tf.reduce_mean(tf.to_float(x > 0))\n",
    "    \n",
    "    regulation_rate = 0.0001\n",
    "    loss2 = regulation_rate * tf.add_n([\n",
    "            tf.reduce_sum(tf.multiply(u_emb, u_emb)), \n",
    "            tf.reduce_sum(tf.multiply(i_emb, i_emb)),\n",
    "            tf.reduce_sum(tf.multiply(j_emb, j_emb))\n",
    "        ])\n",
    "    \n",
    "    bprloss = loss1 + loss2\n",
    "    \n",
    "    train_op = tf.train.GradientDescentOptimizer(0.01).minimize(bprloss)\n",
    "    return u, i, j, mf_auc, bprloss, train_op"
   ]
  },
  {
   "cell_type": "code",
   "execution_count": 15,
   "metadata": {
    "scrolled": true
   },
   "outputs": [
    {
     "name": "stderr",
     "output_type": "stream",
     "text": [
      "\n",
      "  0%|          | 0/5000 [00:00<?, ?it/s]\u001b[A\n",
      "  0%|          | 2/5000 [00:00<04:22, 19.04it/s]"
     ]
    },
    {
     "name": "stdout",
     "output_type": "stream",
     "text": [
      "start epoch\n",
      "epoch:  1\n"
     ]
    },
    {
     "name": "stderr",
     "output_type": "stream",
     "text": [
      "\u001b[A\n",
      "  0%|          | 13/5000 [00:00<03:18, 25.07it/s]\u001b[A\n",
      "  0%|          | 22/5000 [00:00<02:36, 31.73it/s]\u001b[A\n",
      "  1%|          | 30/5000 [00:00<02:08, 38.56it/s]\u001b[A\n",
      "  1%|          | 39/5000 [00:00<01:47, 46.36it/s]\u001b[A\n",
      "  1%|          | 49/5000 [00:00<01:29, 55.02it/s]\u001b[A\n",
      "  1%|          | 60/5000 [00:00<01:16, 64.38it/s]\u001b[A\n",
      "  1%|▏         | 73/5000 [00:00<01:05, 75.20it/s]\u001b[A\n",
      "  2%|▏         | 85/5000 [00:00<00:58, 83.32it/s]\u001b[A\n",
      "  2%|▏         | 97/5000 [00:01<00:54, 90.68it/s]\u001b[A\n",
      "  2%|▏         | 108/5000 [00:01<00:57, 84.88it/s]\u001b[A\n",
      "  2%|▏         | 118/5000 [00:01<01:08, 71.38it/s]\u001b[A\n",
      "  3%|▎         | 128/5000 [00:01<01:03, 77.05it/s]\u001b[A\n",
      "  3%|▎         | 140/5000 [00:01<00:56, 85.81it/s]\u001b[A\n",
      "  3%|▎         | 151/5000 [00:01<00:52, 91.50it/s]\u001b[A\n",
      "  3%|▎         | 162/5000 [00:01<00:51, 94.47it/s]\u001b[A\n",
      "  3%|▎         | 174/5000 [00:01<00:48, 99.98it/s]\u001b[A\n",
      "  4%|▎         | 185/5000 [00:02<00:47, 101.60it/s]\u001b[A\n",
      "  4%|▍         | 196/5000 [00:02<00:48, 98.73it/s] \u001b[A\n",
      "  4%|▍         | 207/5000 [00:02<00:49, 97.11it/s]\u001b[A\n",
      "  4%|▍         | 217/5000 [00:02<00:49, 96.90it/s]\u001b[A\n",
      "  5%|▍         | 227/5000 [00:02<00:49, 96.42it/s]\u001b[A\n",
      "  5%|▍         | 237/5000 [00:02<01:17, 61.77it/s]\u001b[A\n",
      "  5%|▍         | 245/5000 [00:02<01:16, 62.20it/s]\u001b[A\n",
      "  5%|▌         | 253/5000 [00:03<01:17, 61.25it/s]\u001b[A\n",
      "  5%|▌         | 260/5000 [00:03<01:34, 49.97it/s]\u001b[A\n",
      "  5%|▌         | 267/5000 [00:03<01:27, 54.29it/s]\u001b[A\n",
      "  6%|▌         | 279/5000 [00:03<01:13, 64.41it/s]\u001b[A\n",
      "  6%|▌         | 290/5000 [00:03<01:04, 73.17it/s]\u001b[A\n",
      "  6%|▌         | 299/5000 [00:03<01:17, 60.28it/s]\u001b[A\n",
      "  6%|▌         | 307/5000 [00:03<01:24, 55.26it/s]\u001b[A\n",
      "  6%|▋         | 316/5000 [00:04<01:14, 62.47it/s]\u001b[A\n",
      "  7%|▋         | 327/5000 [00:04<01:05, 70.95it/s]\u001b[A\n",
      "  7%|▋         | 338/5000 [00:04<00:59, 77.77it/s]\u001b[A\n",
      "  7%|▋         | 347/5000 [00:04<01:11, 65.50it/s]\u001b[A\n",
      "  7%|▋         | 355/5000 [00:04<01:14, 62.63it/s]\u001b[A\n",
      "  7%|▋         | 366/5000 [00:04<01:04, 71.68it/s]\u001b[A\n",
      "  8%|▊         | 378/5000 [00:04<00:57, 80.52it/s]\u001b[A\n",
      "  8%|▊         | 388/5000 [00:04<01:08, 66.86it/s]\u001b[A\n",
      "  8%|▊         | 396/5000 [00:05<01:15, 61.37it/s]\u001b[A\n",
      "  8%|▊         | 404/5000 [00:05<01:21, 56.71it/s]\u001b[A\n",
      "  8%|▊         | 411/5000 [00:05<01:20, 56.67it/s]\u001b[A\n",
      "  8%|▊         | 418/5000 [00:05<01:18, 58.06it/s]\u001b[A\n",
      "  9%|▊         | 427/5000 [00:05<01:10, 64.69it/s]\u001b[A\n",
      "  9%|▉         | 438/5000 [00:05<01:02, 73.25it/s]\u001b[A\n",
      "  9%|▉         | 447/5000 [00:05<00:58, 77.41it/s]\u001b[A\n",
      "  9%|▉         | 457/5000 [00:05<00:54, 82.68it/s]\u001b[A\n",
      "  9%|▉         | 466/5000 [00:06<00:54, 83.25it/s]\u001b[A\n",
      " 10%|▉         | 476/5000 [00:06<00:53, 85.21it/s]\u001b[A\n",
      " 10%|▉         | 485/5000 [00:06<00:53, 84.56it/s]\u001b[A\n",
      " 10%|▉         | 496/5000 [00:06<00:50, 88.52it/s]\u001b[A\n",
      "100%|██████████| 5000/5000 [00:47<00:00, 106.05it/s]\n"
     ]
    },
    {
     "name": "stdout",
     "output_type": "stream",
     "text": [
      "bpr_loss:  0.7081053292393684\n",
      "_train_op\n"
     ]
    },
    {
     "name": "stderr",
     "output_type": "stream",
     "text": [
      "  0%|          | 9/5000 [00:00<00:57, 86.52it/s]"
     ]
    },
    {
     "name": "stdout",
     "output_type": "stream",
     "text": [
      "test_loss:  0.7500741519437369 test_auc:  0.4955796400708775\n",
      "\n",
      "epoch:  2\n"
     ]
    },
    {
     "name": "stderr",
     "output_type": "stream",
     "text": [
      "100%|██████████| 5000/5000 [00:45<00:00, 110.09it/s]\n"
     ]
    },
    {
     "name": "stdout",
     "output_type": "stream",
     "text": [
      "bpr_loss:  0.7070222402095795\n",
      "_train_op\n"
     ]
    },
    {
     "name": "stderr",
     "output_type": "stream",
     "text": [
      "  0%|          | 11/5000 [00:00<00:48, 103.73it/s]"
     ]
    },
    {
     "name": "stdout",
     "output_type": "stream",
     "text": [
      "test_loss:  0.7486290215154847 test_auc:  0.49696921373571235\n",
      "\n",
      "epoch:  3\n"
     ]
    },
    {
     "name": "stderr",
     "output_type": "stream",
     "text": [
      "100%|██████████| 5000/5000 [00:48<00:00, 103.28it/s]\n"
     ]
    },
    {
     "name": "stdout",
     "output_type": "stream",
     "text": [
      "bpr_loss:  0.7062429271817208\n",
      "_train_op\n"
     ]
    },
    {
     "name": "stderr",
     "output_type": "stream",
     "text": [
      "  0%|          | 9/5000 [00:00<00:57, 87.32it/s]"
     ]
    },
    {
     "name": "stdout",
     "output_type": "stream",
     "text": [
      "test_loss:  0.7477068661675126 test_auc:  0.49837858114342815\n",
      "\n",
      "epoch:  4\n"
     ]
    },
    {
     "name": "stderr",
     "output_type": "stream",
     "text": [
      "100%|██████████| 5000/5000 [00:45<00:00, 113.45it/s]\n"
     ]
    },
    {
     "name": "stdout",
     "output_type": "stream",
     "text": [
      "bpr_loss:  0.705574044585228\n",
      "_train_op\n"
     ]
    },
    {
     "name": "stderr",
     "output_type": "stream",
     "text": [
      "  0%|          | 12/5000 [00:00<00:44, 112.96it/s]"
     ]
    },
    {
     "name": "stdout",
     "output_type": "stream",
     "text": [
      "test_loss:  0.7471074765877603 test_auc:  0.49984263436446835\n",
      "\n",
      "epoch:  5\n"
     ]
    },
    {
     "name": "stderr",
     "output_type": "stream",
     "text": [
      "100%|██████████| 5000/5000 [00:44<00:00, 111.94it/s]\n"
     ]
    },
    {
     "name": "stdout",
     "output_type": "stream",
     "text": [
      "bpr_loss:  0.7050895071625709\n",
      "_train_op\n"
     ]
    },
    {
     "name": "stderr",
     "output_type": "stream",
     "text": [
      "  0%|          | 13/5000 [00:00<00:40, 122.97it/s]"
     ]
    },
    {
     "name": "stdout",
     "output_type": "stream",
     "text": [
      "test_loss:  0.7467061270983211 test_auc:  0.5012698912104618\n",
      "\n",
      "epoch:  6\n"
     ]
    },
    {
     "name": "stderr",
     "output_type": "stream",
     "text": [
      "100%|██████████| 5000/5000 [00:47<00:00, 105.32it/s]\n"
     ]
    },
    {
     "name": "stdout",
     "output_type": "stream",
     "text": [
      "bpr_loss:  0.7045989901900291\n",
      "_train_op\n"
     ]
    },
    {
     "name": "stderr",
     "output_type": "stream",
     "text": [
      "  0%|          | 8/5000 [00:00<01:03, 79.00it/s]"
     ]
    },
    {
     "name": "stdout",
     "output_type": "stream",
     "text": [
      "test_loss:  0.7464269507770503 test_auc:  0.5028296920142241\n",
      "\n",
      "epoch:  7\n"
     ]
    },
    {
     "name": "stderr",
     "output_type": "stream",
     "text": [
      "100%|██████████| 5000/5000 [00:44<00:00, 111.86it/s]\n"
     ]
    },
    {
     "name": "stdout",
     "output_type": "stream",
     "text": [
      "bpr_loss:  0.704144727396965\n",
      "_train_op\n"
     ]
    },
    {
     "name": "stderr",
     "output_type": "stream",
     "text": [
      "  0%|          | 13/5000 [00:00<00:40, 122.12it/s]"
     ]
    },
    {
     "name": "stdout",
     "output_type": "stream",
     "text": [
      "test_loss:  0.7462263077712662 test_auc:  0.5046432418706709\n",
      "\n",
      "epoch:  8\n"
     ]
    },
    {
     "name": "stderr",
     "output_type": "stream",
     "text": [
      "100%|██████████| 5000/5000 [00:47<00:00, 104.62it/s]\n"
     ]
    },
    {
     "name": "stdout",
     "output_type": "stream",
     "text": [
      "bpr_loss:  0.703664431488514\n",
      "_train_op\n"
     ]
    },
    {
     "name": "stderr",
     "output_type": "stream",
     "text": [
      "  0%|          | 12/5000 [00:00<00:41, 119.78it/s]"
     ]
    },
    {
     "name": "stdout",
     "output_type": "stream",
     "text": [
      "test_loss:  0.7461007298760466 test_auc:  0.5067952454824753\n",
      "\n",
      "epoch:  9\n"
     ]
    },
    {
     "name": "stderr",
     "output_type": "stream",
     "text": [
      "100%|██████████| 5000/5000 [00:44<00:00, 112.22it/s]\n"
     ]
    },
    {
     "name": "stdout",
     "output_type": "stream",
     "text": [
      "bpr_loss:  0.7032537241578102\n",
      "_train_op\n"
     ]
    },
    {
     "name": "stderr",
     "output_type": "stream",
     "text": [
      "  0%|          | 12/5000 [00:00<00:42, 118.11it/s]"
     ]
    },
    {
     "name": "stdout",
     "output_type": "stream",
     "text": [
      "test_loss:  0.74601448792628 test_auc:  0.5092598321992191\n",
      "\n",
      "epoch:  10\n"
     ]
    },
    {
     "name": "stderr",
     "output_type": "stream",
     "text": [
      "100%|██████████| 5000/5000 [00:43<00:00, 114.39it/s]\n"
     ]
    },
    {
     "name": "stdout",
     "output_type": "stream",
     "text": [
      "bpr_loss:  0.7027844355106354\n",
      "_train_op\n"
     ]
    },
    {
     "name": "stderr",
     "output_type": "stream",
     "text": [
      "  0%|          | 10/5000 [00:00<00:51, 96.90it/s]"
     ]
    },
    {
     "name": "stdout",
     "output_type": "stream",
     "text": [
      "test_loss:  0.7459676675632972 test_auc:  0.5119911566047193\n",
      "\n",
      "epoch:  11\n"
     ]
    },
    {
     "name": "stderr",
     "output_type": "stream",
     "text": [
      "100%|██████████| 5000/5000 [00:47<00:00, 105.49it/s]\n"
     ]
    },
    {
     "name": "stdout",
     "output_type": "stream",
     "text": [
      "bpr_loss:  0.7022656570196152\n",
      "_train_op\n"
     ]
    },
    {
     "name": "stderr",
     "output_type": "stream",
     "text": [
      "  0%|          | 13/5000 [00:00<00:41, 120.76it/s]"
     ]
    },
    {
     "name": "stdout",
     "output_type": "stream",
     "text": [
      "test_loss:  0.745970627568689 test_auc:  0.515218905360263\n",
      "\n",
      "epoch:  12\n"
     ]
    },
    {
     "name": "stderr",
     "output_type": "stream",
     "text": [
      "100%|██████████| 5000/5000 [00:44<00:00, 123.28it/s]\n"
     ]
    },
    {
     "name": "stdout",
     "output_type": "stream",
     "text": [
      "bpr_loss:  0.7018018072962761\n",
      "_train_op\n"
     ]
    },
    {
     "name": "stderr",
     "output_type": "stream",
     "text": [
      "  0%|          | 11/5000 [00:00<00:46, 108.12it/s]"
     ]
    },
    {
     "name": "stdout",
     "output_type": "stream",
     "text": [
      "test_loss:  0.746004964739407 test_auc:  0.5186128169983215\n",
      "\n",
      "epoch:  13\n"
     ]
    },
    {
     "name": "stderr",
     "output_type": "stream",
     "text": [
      "100%|██████████| 5000/5000 [00:42<00:00, 118.99it/s]\n"
     ]
    },
    {
     "name": "stdout",
     "output_type": "stream",
     "text": [
      "bpr_loss:  0.7012767881512642\n",
      "_train_op\n"
     ]
    },
    {
     "name": "stderr",
     "output_type": "stream",
     "text": [
      "  0%|          | 13/5000 [00:00<00:40, 122.35it/s]"
     ]
    },
    {
     "name": "stdout",
     "output_type": "stream",
     "text": [
      "test_loss:  0.7460798401694866 test_auc:  0.5226114742396507\n",
      "\n",
      "epoch:  14\n"
     ]
    },
    {
     "name": "stderr",
     "output_type": "stream",
     "text": [
      "100%|██████████| 5000/5000 [00:43<00:00, 114.38it/s]\n"
     ]
    },
    {
     "name": "stdout",
     "output_type": "stream",
     "text": [
      "bpr_loss:  0.7007152911901474\n",
      "_train_op\n"
     ]
    },
    {
     "name": "stderr",
     "output_type": "stream",
     "text": [
      "  0%|          | 13/5000 [00:00<00:40, 122.12it/s]"
     ]
    },
    {
     "name": "stdout",
     "output_type": "stream",
     "text": [
      "test_loss:  0.7461986700980672 test_auc:  0.5269717163833308\n",
      "\n",
      "epoch:  15\n"
     ]
    },
    {
     "name": "stderr",
     "output_type": "stream",
     "text": [
      "100%|██████████| 5000/5000 [00:42<00:00, 117.33it/s]\n"
     ]
    },
    {
     "name": "stdout",
     "output_type": "stream",
     "text": [
      "bpr_loss:  0.7000774330258369\n",
      "_train_op\n"
     ]
    },
    {
     "name": "stderr",
     "output_type": "stream",
     "text": [
      "  0%|          | 13/5000 [00:00<00:41, 120.93it/s]"
     ]
    },
    {
     "name": "stdout",
     "output_type": "stream",
     "text": [
      "test_loss:  0.7463683740434234 test_auc:  0.5317029377146345\n",
      "\n",
      "epoch:  16\n"
     ]
    },
    {
     "name": "stderr",
     "output_type": "stream",
     "text": [
      "100%|██████████| 5000/5000 [00:46<00:00, 110.65it/s]\n"
     ]
    },
    {
     "name": "stdout",
     "output_type": "stream",
     "text": [
      "bpr_loss:  0.6994197441458702\n",
      "_train_op\n"
     ]
    },
    {
     "name": "stderr",
     "output_type": "stream",
     "text": [
      "  0%|          | 10/5000 [00:00<00:50, 99.68it/s]"
     ]
    },
    {
     "name": "stdout",
     "output_type": "stream",
     "text": [
      "test_loss:  0.746567069193086 test_auc:  0.5373765514307868\n",
      "\n",
      "epoch:  17\n"
     ]
    },
    {
     "name": "stderr",
     "output_type": "stream",
     "text": [
      "100%|██████████| 5000/5000 [00:45<00:00, 109.46it/s]\n"
     ]
    },
    {
     "name": "stdout",
     "output_type": "stream",
     "text": [
      "bpr_loss:  0.6987181083083153\n",
      "_train_op\n"
     ]
    },
    {
     "name": "stderr",
     "output_type": "stream",
     "text": [
      "  0%|          | 13/5000 [00:00<00:40, 124.51it/s]"
     ]
    },
    {
     "name": "stdout",
     "output_type": "stream",
     "text": [
      "test_loss:  0.7468325746941653 test_auc:  0.5433844723280633\n",
      "\n",
      "epoch:  18\n"
     ]
    },
    {
     "name": "stderr",
     "output_type": "stream",
     "text": [
      "100%|██████████| 5000/5000 [00:45<00:00, 109.21it/s]\n"
     ]
    },
    {
     "name": "stdout",
     "output_type": "stream",
     "text": [
      "bpr_loss:  0.6979241644859314\n",
      "_train_op\n"
     ]
    },
    {
     "name": "stderr",
     "output_type": "stream",
     "text": [
      "  0%|          | 11/5000 [00:00<00:45, 109.53it/s]"
     ]
    },
    {
     "name": "stdout",
     "output_type": "stream",
     "text": [
      "test_loss:  0.7471660500399042 test_auc:  0.5498817172695778\n",
      "\n",
      "epoch:  19\n"
     ]
    },
    {
     "name": "stderr",
     "output_type": "stream",
     "text": [
      "100%|██████████| 5000/5000 [00:48<00:00, 104.00it/s]\n"
     ]
    },
    {
     "name": "stdout",
     "output_type": "stream",
     "text": [
      "bpr_loss:  0.6970341039419174\n",
      "_train_op\n"
     ]
    },
    {
     "name": "stderr",
     "output_type": "stream",
     "text": [
      "  0%|          | 10/5000 [00:00<00:50, 99.35it/s]"
     ]
    },
    {
     "name": "stdout",
     "output_type": "stream",
     "text": [
      "test_loss:  0.7475632700786694 test_auc:  0.5566517205073394\n",
      "\n",
      "epoch:  20\n"
     ]
    },
    {
     "name": "stderr",
     "output_type": "stream",
     "text": [
      "100%|██████████| 5000/5000 [00:42<00:00, 118.36it/s]\n"
     ]
    },
    {
     "name": "stdout",
     "output_type": "stream",
     "text": [
      "bpr_loss:  0.6960014147281647\n",
      "_train_op\n"
     ]
    },
    {
     "name": "stderr",
     "output_type": "stream",
     "text": [
      "  0%|          | 13/5000 [00:00<00:40, 123.83it/s]"
     ]
    },
    {
     "name": "stdout",
     "output_type": "stream",
     "text": [
      "test_loss:  0.7480368865418521 test_auc:  0.5638664548124762\n",
      "\n",
      "epoch:  21\n"
     ]
    },
    {
     "name": "stderr",
     "output_type": "stream",
     "text": [
      "100%|██████████| 5000/5000 [00:44<00:00, 112.54it/s]\n"
     ]
    },
    {
     "name": "stdout",
     "output_type": "stream",
     "text": [
      "bpr_loss:  0.6949247518062591\n",
      "_train_op\n"
     ]
    },
    {
     "name": "stderr",
     "output_type": "stream",
     "text": [
      "  0%|          | 10/5000 [00:00<00:54, 91.80it/s]"
     ]
    },
    {
     "name": "stdout",
     "output_type": "stream",
     "text": [
      "test_loss:  0.7485992183861749 test_auc:  0.5714240201743864\n",
      "\n",
      "epoch:  22\n"
     ]
    },
    {
     "name": "stderr",
     "output_type": "stream",
     "text": [
      "100%|██████████| 5000/5000 [00:43<00:00, 115.54it/s]\n"
     ]
    },
    {
     "name": "stdout",
     "output_type": "stream",
     "text": [
      "bpr_loss:  0.6937469648599625\n",
      "_train_op\n"
     ]
    },
    {
     "name": "stderr",
     "output_type": "stream",
     "text": [
      "  0%|          | 11/5000 [00:00<00:45, 109.79it/s]"
     ]
    },
    {
     "name": "stdout",
     "output_type": "stream",
     "text": [
      "test_loss:  0.7492523889464161 test_auc:  0.579032139815449\n",
      "\n",
      "epoch:  23\n"
     ]
    },
    {
     "name": "stderr",
     "output_type": "stream",
     "text": [
      "100%|██████████| 5000/5000 [00:46<00:00, 107.41it/s]\n"
     ]
    },
    {
     "name": "stdout",
     "output_type": "stream",
     "text": [
      "bpr_loss:  0.6924575518012047\n",
      "_train_op\n"
     ]
    },
    {
     "name": "stderr",
     "output_type": "stream",
     "text": [
      "  0%|          | 11/5000 [00:00<00:47, 105.76it/s]"
     ]
    },
    {
     "name": "stdout",
     "output_type": "stream",
     "text": [
      "test_loss:  0.7499711950871057 test_auc:  0.5869852833087146\n",
      "\n",
      "epoch:  24\n"
     ]
    },
    {
     "name": "stderr",
     "output_type": "stream",
     "text": [
      "100%|██████████| 5000/5000 [00:44<00:00, 111.38it/s]\n"
     ]
    },
    {
     "name": "stdout",
     "output_type": "stream",
     "text": [
      "bpr_loss:  0.6908964219808579\n",
      "_train_op\n"
     ]
    },
    {
     "name": "stderr",
     "output_type": "stream",
     "text": [
      "  0%|          | 12/5000 [00:00<00:45, 109.15it/s]"
     ]
    },
    {
     "name": "stdout",
     "output_type": "stream",
     "text": [
      "test_loss:  0.7508344026786756 test_auc:  0.5946279890597411\n",
      "\n",
      "epoch:  25\n"
     ]
    },
    {
     "name": "stderr",
     "output_type": "stream",
     "text": [
      "100%|██████████| 5000/5000 [00:50<00:00, 98.91it/s] \n"
     ]
    },
    {
     "name": "stdout",
     "output_type": "stream",
     "text": [
      "bpr_loss:  0.689163026201725\n",
      "_train_op\n"
     ]
    },
    {
     "name": "stderr",
     "output_type": "stream",
     "text": [
      "  0%|          | 10/5000 [00:00<00:51, 96.75it/s]"
     ]
    },
    {
     "name": "stdout",
     "output_type": "stream",
     "text": [
      "test_loss:  0.7518038804565526 test_auc:  0.6024743316523623\n",
      "\n",
      "epoch:  26\n"
     ]
    },
    {
     "name": "stderr",
     "output_type": "stream",
     "text": [
      "100%|██████████| 5000/5000 [00:45<00:00, 109.43it/s]\n"
     ]
    },
    {
     "name": "stdout",
     "output_type": "stream",
     "text": [
      "bpr_loss:  0.6872937586784362\n",
      "_train_op\n"
     ]
    },
    {
     "name": "stderr",
     "output_type": "stream",
     "text": [
      "  0%|          | 10/5000 [00:00<00:50, 99.11it/s]"
     ]
    },
    {
     "name": "stdout",
     "output_type": "stream",
     "text": [
      "test_loss:  0.7528644718956 test_auc:  0.6104318874903673\n",
      "\n",
      "epoch:  27\n"
     ]
    },
    {
     "name": "stderr",
     "output_type": "stream",
     "text": [
      "100%|██████████| 5000/5000 [00:48<00:00, 103.61it/s]\n"
     ]
    },
    {
     "name": "stdout",
     "output_type": "stream",
     "text": [
      "bpr_loss:  0.6853239283680915\n",
      "_train_op\n"
     ]
    },
    {
     "name": "stderr",
     "output_type": "stream",
     "text": [
      "  0%|          | 11/5000 [00:00<00:47, 104.92it/s]"
     ]
    },
    {
     "name": "stdout",
     "output_type": "stream",
     "text": [
      "test_loss:  0.7540501991441534 test_auc:  0.6181445307937192\n",
      "\n",
      "epoch:  28\n"
     ]
    },
    {
     "name": "stderr",
     "output_type": "stream",
     "text": [
      "100%|██████████| 5000/5000 [00:46<00:00, 107.28it/s]\n"
     ]
    },
    {
     "name": "stdout",
     "output_type": "stream",
     "text": [
      "bpr_loss:  0.6829639397144318\n",
      "_train_op\n"
     ]
    },
    {
     "name": "stderr",
     "output_type": "stream",
     "text": [
      "  0%|          | 11/5000 [00:00<00:47, 105.02it/s]"
     ]
    },
    {
     "name": "stdout",
     "output_type": "stream",
     "text": [
      "test_loss:  0.7553584579418713 test_auc:  0.6260127189981252\n",
      "\n",
      "epoch:  29\n"
     ]
    },
    {
     "name": "stderr",
     "output_type": "stream",
     "text": [
      "100%|██████████| 5000/5000 [00:46<00:00, 107.78it/s]\n"
     ]
    },
    {
     "name": "stdout",
     "output_type": "stream",
     "text": [
      "bpr_loss:  0.6804758245706558\n",
      "_train_op\n"
     ]
    },
    {
     "name": "stderr",
     "output_type": "stream",
     "text": [
      "  0%|          | 13/5000 [00:00<00:40, 121.69it/s]"
     ]
    },
    {
     "name": "stdout",
     "output_type": "stream",
     "text": [
      "test_loss:  0.7567936020637678 test_auc:  0.6340365537438274\n",
      "\n",
      "epoch:  30\n"
     ]
    },
    {
     "name": "stderr",
     "output_type": "stream",
     "text": [
      "100%|██████████| 5000/5000 [00:43<00:00, 114.72it/s]\n"
     ]
    },
    {
     "name": "stdout",
     "output_type": "stream",
     "text": [
      "bpr_loss:  0.6776633745670319\n",
      "_train_op\n"
     ]
    },
    {
     "name": "stderr",
     "output_type": "stream",
     "text": [
      "  0%|          | 12/5000 [00:00<00:41, 118.86it/s]"
     ]
    },
    {
     "name": "stdout",
     "output_type": "stream",
     "text": [
      "test_loss:  0.7583530105731117 test_auc:  0.6420811707861445\n",
      "\n",
      "epoch:  31\n"
     ]
    },
    {
     "name": "stderr",
     "output_type": "stream",
     "text": [
      "100%|██████████| 5000/5000 [00:44<00:00, 112.93it/s]\n"
     ]
    },
    {
     "name": "stdout",
     "output_type": "stream",
     "text": [
      "bpr_loss:  0.6747935111761093\n",
      "_train_op\n"
     ]
    },
    {
     "name": "stderr",
     "output_type": "stream",
     "text": [
      "  0%|          | 13/5000 [00:00<00:40, 123.00it/s]"
     ]
    },
    {
     "name": "stdout",
     "output_type": "stream",
     "text": [
      "test_loss:  0.7599778915570531 test_auc:  0.6499063976613144\n",
      "\n",
      "epoch:  32\n"
     ]
    },
    {
     "name": "stderr",
     "output_type": "stream",
     "text": [
      "100%|██████████| 5000/5000 [00:44<00:00, 111.94it/s]\n"
     ]
    },
    {
     "name": "stdout",
     "output_type": "stream",
     "text": [
      "bpr_loss:  0.6716625218510628\n",
      "_train_op\n"
     ]
    },
    {
     "name": "stderr",
     "output_type": "stream",
     "text": [
      "  0%|          | 12/5000 [00:00<00:41, 119.04it/s]"
     ]
    },
    {
     "name": "stdout",
     "output_type": "stream",
     "text": [
      "test_loss:  0.761653604490232 test_auc:  0.657904368555127\n",
      "\n",
      "epoch:  33\n"
     ]
    },
    {
     "name": "stderr",
     "output_type": "stream",
     "text": [
      "100%|██████████| 5000/5000 [00:43<00:00, 122.45it/s]\n"
     ]
    },
    {
     "name": "stdout",
     "output_type": "stream",
     "text": [
      "bpr_loss:  0.6682040227174759\n",
      "_train_op\n"
     ]
    },
    {
     "name": "stderr",
     "output_type": "stream",
     "text": [
      "  0%|          | 13/5000 [00:00<00:40, 123.82it/s]"
     ]
    },
    {
     "name": "stdout",
     "output_type": "stream",
     "text": [
      "test_loss:  0.7634017583157612 test_auc:  0.6657511918907035\n",
      "\n",
      "epoch:  34\n"
     ]
    },
    {
     "name": "stderr",
     "output_type": "stream",
     "text": [
      "100%|██████████| 5000/5000 [00:44<00:00, 111.71it/s]\n"
     ]
    },
    {
     "name": "stdout",
     "output_type": "stream",
     "text": [
      "bpr_loss:  0.6647431644082069\n",
      "_train_op\n"
     ]
    },
    {
     "name": "stderr",
     "output_type": "stream",
     "text": [
      "  0%|          | 12/5000 [00:00<00:43, 113.54it/s]"
     ]
    },
    {
     "name": "stdout",
     "output_type": "stream",
     "text": [
      "test_loss:  0.7651563789224797 test_auc:  0.6733804518402728\n",
      "\n",
      "epoch:  35\n"
     ]
    },
    {
     "name": "stderr",
     "output_type": "stream",
     "text": [
      "100%|██████████| 5000/5000 [00:46<00:00, 108.24it/s]\n"
     ]
    },
    {
     "name": "stdout",
     "output_type": "stream",
     "text": [
      "bpr_loss:  0.6609745149731636\n",
      "_train_op\n"
     ]
    },
    {
     "name": "stderr",
     "output_type": "stream",
     "text": [
      "  0%|          | 13/5000 [00:00<00:40, 123.37it/s]"
     ]
    },
    {
     "name": "stdout",
     "output_type": "stream",
     "text": [
      "test_loss:  0.7669158418686381 test_auc:  0.6808384519029621\n",
      "\n",
      "epoch:  36\n"
     ]
    },
    {
     "name": "stderr",
     "output_type": "stream",
     "text": [
      "100%|██████████| 5000/5000 [00:42<00:00, 117.80it/s]\n"
     ]
    },
    {
     "name": "stdout",
     "output_type": "stream",
     "text": [
      "bpr_loss:  0.6570717955827713\n",
      "_train_op\n"
     ]
    },
    {
     "name": "stderr",
     "output_type": "stream",
     "text": [
      "  0%|          | 13/5000 [00:00<00:41, 121.51it/s]"
     ]
    },
    {
     "name": "stdout",
     "output_type": "stream",
     "text": [
      "test_loss:  0.768626199087081 test_auc:  0.6879654622652286\n",
      "\n",
      "epoch:  37\n"
     ]
    },
    {
     "name": "stderr",
     "output_type": "stream",
     "text": [
      "100%|██████████| 5000/5000 [00:42<00:00, 118.70it/s]\n"
     ]
    },
    {
     "name": "stdout",
     "output_type": "stream",
     "text": [
      "bpr_loss:  0.6530164286851883\n",
      "_train_op\n"
     ]
    },
    {
     "name": "stderr",
     "output_type": "stream",
     "text": [
      "  0%|          | 13/5000 [00:00<00:40, 124.14it/s]"
     ]
    },
    {
     "name": "stdout",
     "output_type": "stream",
     "text": [
      "test_loss:  0.7702553087193182 test_auc:  0.6948209200226718\n",
      "\n",
      "epoch:  38\n"
     ]
    },
    {
     "name": "stderr",
     "output_type": "stream",
     "text": [
      "100%|██████████| 5000/5000 [00:42<00:00, 116.64it/s]\n"
     ]
    },
    {
     "name": "stdout",
     "output_type": "stream",
     "text": [
      "bpr_loss:  0.6488116951823235\n",
      "_train_op\n"
     ]
    },
    {
     "name": "stderr",
     "output_type": "stream",
     "text": [
      "  0%|          | 13/5000 [00:00<00:39, 125.02it/s]"
     ]
    },
    {
     "name": "stdout",
     "output_type": "stream",
     "text": [
      "test_loss:  0.7718054101893187 test_auc:  0.701254185073545\n",
      "\n",
      "epoch:  39\n"
     ]
    },
    {
     "name": "stderr",
     "output_type": "stream",
     "text": [
      "100%|██████████| 5000/5000 [00:41<00:00, 121.69it/s]\n"
     ]
    },
    {
     "name": "stdout",
     "output_type": "stream",
     "text": [
      "bpr_loss:  0.6445627222776413\n",
      "_train_op\n"
     ]
    },
    {
     "name": "stderr",
     "output_type": "stream",
     "text": [
      "  0%|          | 13/5000 [00:00<00:40, 123.70it/s]"
     ]
    },
    {
     "name": "stdout",
     "output_type": "stream",
     "text": [
      "test_loss:  0.7732242990271709 test_auc:  0.7074180971305744\n",
      "\n",
      "epoch:  40\n"
     ]
    },
    {
     "name": "stderr",
     "output_type": "stream",
     "text": [
      "100%|██████████| 5000/5000 [00:40<00:00, 123.98it/s]\n"
     ]
    },
    {
     "name": "stdout",
     "output_type": "stream",
     "text": [
      "bpr_loss:  0.6403338849663734\n",
      "_train_op\n"
     ]
    },
    {
     "name": "stderr",
     "output_type": "stream",
     "text": [
      "  0%|          | 13/5000 [00:00<00:40, 124.44it/s]"
     ]
    },
    {
     "name": "stdout",
     "output_type": "stream",
     "text": [
      "test_loss:  0.7744886499664844 test_auc:  0.7130943998250613\n",
      "\n",
      "epoch:  41\n"
     ]
    },
    {
     "name": "stderr",
     "output_type": "stream",
     "text": [
      "100%|██████████| 5000/5000 [00:40<00:00, 123.37it/s]\n"
     ]
    },
    {
     "name": "stdout",
     "output_type": "stream",
     "text": [
      "bpr_loss:  0.6358769009828568\n",
      "_train_op\n"
     ]
    },
    {
     "name": "stderr",
     "output_type": "stream",
     "text": [
      "  0%|          | 11/5000 [00:00<00:46, 107.45it/s]"
     ]
    },
    {
     "name": "stdout",
     "output_type": "stream",
     "text": [
      "test_loss:  0.7755907431298645 test_auc:  0.7186022962776386\n",
      "\n",
      "epoch:  42\n"
     ]
    },
    {
     "name": "stderr",
     "output_type": "stream",
     "text": [
      "100%|██████████| 5000/5000 [00:40<00:00, 122.26it/s]\n"
     ]
    },
    {
     "name": "stdout",
     "output_type": "stream",
     "text": [
      "bpr_loss:  0.631395015180111\n",
      "_train_op\n"
     ]
    },
    {
     "name": "stderr",
     "output_type": "stream",
     "text": [
      "  0%|          | 13/5000 [00:00<00:40, 121.71it/s]"
     ]
    },
    {
     "name": "stdout",
     "output_type": "stream",
     "text": [
      "test_loss:  0.7765603340920129 test_auc:  0.7237489008153907\n",
      "\n",
      "epoch:  43\n"
     ]
    },
    {
     "name": "stderr",
     "output_type": "stream",
     "text": [
      "100%|██████████| 5000/5000 [00:41<00:00, 120.26it/s]\n"
     ]
    },
    {
     "name": "stdout",
     "output_type": "stream",
     "text": [
      "bpr_loss:  0.6268502641320228\n",
      "_train_op\n"
     ]
    },
    {
     "name": "stderr",
     "output_type": "stream",
     "text": [
      "  0%|          | 11/5000 [00:00<00:47, 104.02it/s]"
     ]
    },
    {
     "name": "stdout",
     "output_type": "stream",
     "text": [
      "test_loss:  0.7774018634527599 test_auc:  0.7285542159895194\n",
      "\n",
      "epoch:  44\n"
     ]
    },
    {
     "name": "stderr",
     "output_type": "stream",
     "text": [
      "100%|██████████| 5000/5000 [00:41<00:00, 120.45it/s]\n"
     ]
    },
    {
     "name": "stdout",
     "output_type": "stream",
     "text": [
      "bpr_loss:  0.6225378515601158\n",
      "_train_op\n"
     ]
    },
    {
     "name": "stderr",
     "output_type": "stream",
     "text": [
      "  0%|          | 13/5000 [00:00<00:40, 122.39it/s]"
     ]
    },
    {
     "name": "stdout",
     "output_type": "stream",
     "text": [
      "test_loss:  0.7780422052429041 test_auc:  0.7330152128179245\n",
      "\n",
      "epoch:  45\n"
     ]
    },
    {
     "name": "stderr",
     "output_type": "stream",
     "text": [
      "100%|██████████| 5000/5000 [00:41<00:00, 121.09it/s]\n"
     ]
    },
    {
     "name": "stdout",
     "output_type": "stream",
     "text": [
      "bpr_loss:  0.6178530023574829\n",
      "_train_op\n"
     ]
    },
    {
     "name": "stderr",
     "output_type": "stream",
     "text": [
      "  0%|          | 13/5000 [00:00<00:39, 126.18it/s]"
     ]
    },
    {
     "name": "stdout",
     "output_type": "stream",
     "text": [
      "test_loss:  0.7785433402237909 test_auc:  0.7370558768092228\n",
      "\n",
      "epoch:  46\n"
     ]
    },
    {
     "name": "stderr",
     "output_type": "stream",
     "text": [
      "100%|██████████| 5000/5000 [00:40<00:00, 122.75it/s]\n"
     ]
    },
    {
     "name": "stdout",
     "output_type": "stream",
     "text": [
      "bpr_loss:  0.6132124143242836\n",
      "_train_op\n"
     ]
    },
    {
     "name": "stderr",
     "output_type": "stream",
     "text": [
      "  0%|          | 13/5000 [00:00<00:41, 120.68it/s]"
     ]
    },
    {
     "name": "stdout",
     "output_type": "stream",
     "text": [
      "test_loss:  0.778924311272504 test_auc:  0.7410320455892624\n",
      "\n",
      "epoch:  47\n"
     ]
    },
    {
     "name": "stderr",
     "output_type": "stream",
     "text": [
      "100%|██████████| 5000/5000 [00:40<00:00, 121.57it/s]\n"
     ]
    },
    {
     "name": "stdout",
     "output_type": "stream",
     "text": [
      "bpr_loss:  0.6087117530941963\n",
      "_train_op\n"
     ]
    },
    {
     "name": "stderr",
     "output_type": "stream",
     "text": [
      "  0%|          | 13/5000 [00:00<00:39, 126.94it/s]"
     ]
    },
    {
     "name": "stdout",
     "output_type": "stream",
     "text": [
      "test_loss:  0.7791800033099384 test_auc:  0.7450502037897787\n",
      "\n",
      "epoch:  48\n"
     ]
    },
    {
     "name": "stderr",
     "output_type": "stream",
     "text": [
      "100%|██████████| 5000/5000 [00:43<00:00, 114.94it/s]\n"
     ]
    },
    {
     "name": "stdout",
     "output_type": "stream",
     "text": [
      "bpr_loss:  0.6043399113774299\n",
      "_train_op\n"
     ]
    },
    {
     "name": "stderr",
     "output_type": "stream",
     "text": [
      "  0%|          | 12/5000 [00:00<00:42, 117.08it/s]"
     ]
    },
    {
     "name": "stdout",
     "output_type": "stream",
     "text": [
      "test_loss:  0.7792966830601331 test_auc:  0.7486927375695013\n",
      "\n",
      "epoch:  49\n"
     ]
    },
    {
     "name": "stderr",
     "output_type": "stream",
     "text": [
      "100%|██████████| 5000/5000 [00:46<00:00, 107.34it/s]\n"
     ]
    },
    {
     "name": "stdout",
     "output_type": "stream",
     "text": [
      "bpr_loss:  0.5999448666930198\n",
      "_train_op\n",
      "test_loss:  0.7793216589663433 test_auc:  0.7520449422409132\n",
      "\n",
      "Variable:  user_emb_w:0\n",
      "Shape:  (1109, 20)\n",
      "[[ 0.05830067 -0.00295763  0.05190116 ...  0.06574746  0.09969351\n",
      "  -0.00298007]\n",
      " [-0.21695228 -0.20029928 -0.18625809 ... -0.08553582  0.03449901\n",
      "   0.1126711 ]\n",
      " [-0.31716117 -0.03396694 -0.20031577 ... -0.02365614 -0.1485036\n",
      "   0.31633416]\n",
      " ...\n",
      " [-0.4682931  -0.06182167 -0.02212246 ... -0.19619422 -0.0826842\n",
      "   0.2599007 ]\n",
      " [-0.4096352   0.00085964 -0.10178143 ... -0.01351544 -0.04840218\n",
      "   0.1828796 ]\n",
      " [-0.03673025 -0.07660209  0.00765717 ... -0.1213785  -0.15822871\n",
      "  -0.04368144]]\n",
      "Variable:  item_emb_h:0\n",
      "Shape:  (11190, 20)\n",
      "[[-0.11044464 -0.14867076 -0.04434836 ... -0.06613176  0.04014793\n",
      "  -0.05602654]\n",
      " [-0.8217763  -0.24334729 -0.6060679  ... -0.20719723  0.04001906\n",
      "   0.79489255]\n",
      " [-0.8486124  -0.18778321 -0.21500416 ... -0.32323858 -0.09178767\n",
      "   0.4612147 ]\n",
      " ...\n",
      " [ 0.03947294 -0.08886343 -0.04621305 ... -0.07041252 -0.23210381\n",
      "   0.04478347]\n",
      " [ 0.07425845 -0.05107294  0.05491177 ... -0.1339163  -0.04003661\n",
      "   0.05391086]\n",
      " [-0.06215939  0.1532316   0.10244956 ... -0.00767286  0.0010591\n",
      "  -0.11151563]]\n",
      "all done\n"
     ]
    }
   ],
   "source": [
    "with tf.Graph().as_default(), tf.Session() as session:\n",
    "    u, i, j, mf_auc, bprloss, train_op = bpr_mf(game_count, event_count, 20)\n",
    "#     print(u, i, j, mf_auc, bprloss, train_op)\n",
    "    session.run(tf.global_variables_initializer())\n",
    "    saver = tf.train.Saver()\n",
    "    print('start epoch')\n",
    "    for epoch in range(1, 50):\n",
    "        print (\"epoch: \", epoch)\n",
    "        _batch_bprloss = 0\n",
    "        for k in tqdm(range(1, 5001)): # uniform samples from training set\n",
    "            uij = generate_train_batch(game_events_dict, temp_dict,event_count,batch_size=256)\n",
    "\n",
    "            _bprloss, _train_op = session.run([bprloss, train_op], \n",
    "                                feed_dict={u:uij[:,0], i:uij[:,1], j:uij[:,2]})\n",
    "            _batch_bprloss += _bprloss\n",
    "        \n",
    "        \n",
    "        print (\"bpr_loss: \", _batch_bprloss / k)\n",
    "        print (\"_train_op\")\n",
    "\n",
    "        games_count = 0\n",
    "        _auc_sum = 0.0\n",
    "        test_bprloss = 0.0\n",
    "        # each batch will,co return only one user's auc\n",
    "        for t_uij in generate_test_batch(game_events_dict, temp_dict, event_count):\n",
    "\n",
    "            _auc, _test_bprloss = session.run([mf_auc, bprloss],\n",
    "                                    feed_dict={u:t_uij[:,0], i:t_uij[:,1], j:t_uij[:,2]}\n",
    "                                )\n",
    "            games_count += 1\n",
    "            _auc_sum += _auc\n",
    "            test_bprloss += _test_bprloss\n",
    "#            print (\"test_loss: \", test_bprloss/games_count)\n",
    "        print (\"test_loss: \", test_bprloss/games_count, \"test_auc: \", _auc_sum/games_count)\n",
    "        print (\"\")\n",
    "    variable_names = [v.name for v in tf.trainable_variables()]\n",
    "    values = session.run(variable_names)\n",
    "    saver.save(session, SAVE_DIR)\n",
    "    for k,v in zip(variable_names, values):\n",
    "        print(\"Variable: \", k)\n",
    "        print(\"Shape: \", v.shape)\n",
    "        print(v)\n",
    "print('all done')"
   ]
  },
  {
   "cell_type": "code",
   "execution_count": null,
   "metadata": {
    "collapsed": true
   },
   "outputs": [],
   "source": [
    "print(len(t_uij))\n",
    "print(len(uij))"
   ]
  },
  {
   "cell_type": "code",
   "execution_count": null,
   "metadata": {
    "collapsed": true
   },
   "outputs": [],
   "source": [
    "_test_bprloss"
   ]
  },
  {
   "cell_type": "code",
   "execution_count": null,
   "metadata": {
    "collapsed": true
   },
   "outputs": [],
   "source": [
    "saver.save(session, SAVE_DIR)"
   ]
  },
  {
   "cell_type": "code",
   "execution_count": 41,
   "metadata": {},
   "outputs": [
    {
     "name": "stdout",
     "output_type": "stream",
     "text": [
      "[[ 0.02979778  0.73788947  0.5234919  ...  0.0113218  -0.02793861\n",
      "  -0.03773699]]\n"
     ]
    }
   ],
   "source": [
    "session1 = tf.Session()\n",
    "g1_dim = tf.expand_dims(values[0][1], 0)\n",
    "g1_all = tf.matmul(g1_dim, values[1],transpose_b=True)\n",
    "rating_g1 = session1.run(g1_all)\n",
    "print (rating_g1)"
   ]
  },
  {
   "cell_type": "code",
   "execution_count": 47,
   "metadata": {},
   "outputs": [
    {
     "name": "stdout",
     "output_type": "stream",
     "text": [
      "new recommedation ：\n",
      "1 0.73788947 ['transaction']\n",
      "2 0.5234919 ['gameEnded']\n",
      "3 0.46338135 ['missionFailed']\n",
      "4 0.82984567 ['newPlayer']\n",
      "5 0.45628858 ['levelUp']\n",
      "9 0.85176134 ['clientDevice']\n",
      "10 0.5557419 ['missionCompleted']\n",
      "12 0.85187244 ['gameStarted']\n",
      "15 0.607924 ['missionStarted']\n",
      "229 0.53310424 ['uiInteraction']\n"
     ]
    }
   ],
   "source": [
    "print(\"new recommedation ：\")\n",
    "p = numpy.squeeze(rating_g1)\n",
    "p[numpy.argsort(p)[:-10]] = 0\n",
    "\n",
    "for index in range(len(p)):\n",
    "    if p[index] != 0:\n",
    "        event_name = data[data['new_event_id']==index].drop_duplicates('eventname')\n",
    "  \n",
    "        print (index, p[index],event_name['eventname'].values)"
   ]
  },
  {
   "cell_type": "code",
   "execution_count": 39,
   "metadata": {
    "collapsed": true
   },
   "outputs": [],
   "source": [
    "data=pd.read_csv(DATA_DIR+'data_for_BPR.csv')"
   ]
  },
  {
   "cell_type": "code",
   "execution_count": 48,
   "metadata": {},
   "outputs": [
    {
     "name": "stdout",
     "output_type": "stream",
     "text": [
      "new recommedation ：\n",
      "1 0.73788947 ['transaction']\n",
      "2 0.5234919 ['gameEnded']\n",
      "3 0.46338135 ['missionFailed']\n",
      "4 0.82984567 ['newPlayer']\n",
      "5 0.45628858 ['levelUp']\n",
      "9 0.85176134 ['clientDevice']\n",
      "10 0.5557419 ['missionCompleted']\n",
      "12 0.85187244 ['gameStarted']\n",
      "15 0.607924 ['missionStarted']\n",
      "229 0.53310424 ['uiInteraction']\n"
     ]
    }
   ],
   "source": [
    "print(\"new recommedation ：\")\n",
    "p = numpy.squeeze(rating_g1)\n",
    "p[numpy.argsort(p)[:-10]] = 0\n",
    "\n",
    "\n",
    "for index in range(len(p)):\n",
    "    if p[index] != 0:\n",
    "        event_name = data[data['new_event_id']==index].drop_duplicates('eventname')\n",
    "  \n",
    "        print (index, p[index],event_name['eventname'].values)"
   ]
  },
  {
   "cell_type": "code",
   "execution_count": 40,
   "metadata": {},
   "outputs": [
    {
     "data": {
      "text/html": [
       "<div>\n",
       "<style scoped>\n",
       "    .dataframe tbody tr th:only-of-type {\n",
       "        vertical-align: middle;\n",
       "    }\n",
       "\n",
       "    .dataframe tbody tr th {\n",
       "        vertical-align: top;\n",
       "    }\n",
       "\n",
       "    .dataframe thead th {\n",
       "        text-align: right;\n",
       "    }\n",
       "</style>\n",
       "<table border=\"1\" class=\"dataframe\">\n",
       "  <thead>\n",
       "    <tr style=\"text-align: right;\">\n",
       "      <th></th>\n",
       "      <th>gameid</th>\n",
       "      <th>genre</th>\n",
       "      <th>platform</th>\n",
       "      <th>eventname</th>\n",
       "      <th>eventparameter</th>\n",
       "      <th>eventtype</th>\n",
       "      <th>new_game_id</th>\n",
       "      <th>new_event_id</th>\n",
       "    </tr>\n",
       "  </thead>\n",
       "  <tbody>\n",
       "    <tr>\n",
       "      <th>0</th>\n",
       "      <td>3</td>\n",
       "      <td>No genre</td>\n",
       "      <td>ios</td>\n",
       "      <td>transaction</td>\n",
       "      <td>focus</td>\n",
       "      <td>custom</td>\n",
       "      <td>1</td>\n",
       "      <td>1</td>\n",
       "    </tr>\n",
       "    <tr>\n",
       "      <th>1</th>\n",
       "      <td>3</td>\n",
       "      <td>No genre</td>\n",
       "      <td>ios</td>\n",
       "      <td>gameEnded</td>\n",
       "      <td>attack</td>\n",
       "      <td>custom</td>\n",
       "      <td>1</td>\n",
       "      <td>2</td>\n",
       "    </tr>\n",
       "    <tr>\n",
       "      <th>2</th>\n",
       "      <td>3</td>\n",
       "      <td>No genre</td>\n",
       "      <td>ios</td>\n",
       "      <td>missionFailed</td>\n",
       "      <td>attack</td>\n",
       "      <td>custom</td>\n",
       "      <td>1</td>\n",
       "      <td>3</td>\n",
       "    </tr>\n",
       "    <tr>\n",
       "      <th>3</th>\n",
       "      <td>3</td>\n",
       "      <td>No genre</td>\n",
       "      <td>ios</td>\n",
       "      <td>newPlayer</td>\n",
       "      <td>attack</td>\n",
       "      <td>standard</td>\n",
       "      <td>1</td>\n",
       "      <td>4</td>\n",
       "    </tr>\n",
       "    <tr>\n",
       "      <th>4</th>\n",
       "      <td>3</td>\n",
       "      <td>No genre</td>\n",
       "      <td>ios</td>\n",
       "      <td>levelUp</td>\n",
       "      <td>attack</td>\n",
       "      <td>custom</td>\n",
       "      <td>1</td>\n",
       "      <td>5</td>\n",
       "    </tr>\n",
       "    <tr>\n",
       "      <th>5</th>\n",
       "      <td>3</td>\n",
       "      <td>No genre</td>\n",
       "      <td>ios</td>\n",
       "      <td>characterCreated</td>\n",
       "      <td>attack</td>\n",
       "      <td>custom</td>\n",
       "      <td>1</td>\n",
       "      <td>6</td>\n",
       "    </tr>\n",
       "    <tr>\n",
       "      <th>6</th>\n",
       "      <td>3</td>\n",
       "      <td>No genre</td>\n",
       "      <td>ios</td>\n",
       "      <td>guild</td>\n",
       "      <td>attack</td>\n",
       "      <td>custom</td>\n",
       "      <td>1</td>\n",
       "      <td>7</td>\n",
       "    </tr>\n",
       "    <tr>\n",
       "      <th>7</th>\n",
       "      <td>3</td>\n",
       "      <td>No genre</td>\n",
       "      <td>ios</td>\n",
       "      <td>social</td>\n",
       "      <td>attack</td>\n",
       "      <td>custom</td>\n",
       "      <td>1</td>\n",
       "      <td>8</td>\n",
       "    </tr>\n",
       "    <tr>\n",
       "      <th>9</th>\n",
       "      <td>3</td>\n",
       "      <td>No genre</td>\n",
       "      <td>ios</td>\n",
       "      <td>clientDevice</td>\n",
       "      <td>attack</td>\n",
       "      <td>standard</td>\n",
       "      <td>1</td>\n",
       "      <td>9</td>\n",
       "    </tr>\n",
       "    <tr>\n",
       "      <th>10</th>\n",
       "      <td>3</td>\n",
       "      <td>No genre</td>\n",
       "      <td>ios</td>\n",
       "      <td>missionCompleted</td>\n",
       "      <td>attack</td>\n",
       "      <td>custom</td>\n",
       "      <td>1</td>\n",
       "      <td>10</td>\n",
       "    </tr>\n",
       "    <tr>\n",
       "      <th>13</th>\n",
       "      <td>3</td>\n",
       "      <td>No genre</td>\n",
       "      <td>ios</td>\n",
       "      <td>missionAbandoned</td>\n",
       "      <td>missionSource</td>\n",
       "      <td>custom</td>\n",
       "      <td>1</td>\n",
       "      <td>11</td>\n",
       "    </tr>\n",
       "    <tr>\n",
       "      <th>28</th>\n",
       "      <td>3</td>\n",
       "      <td>No genre</td>\n",
       "      <td>ios</td>\n",
       "      <td>gameStarted</td>\n",
       "      <td>characterName</td>\n",
       "      <td>standard</td>\n",
       "      <td>1</td>\n",
       "      <td>12</td>\n",
       "    </tr>\n",
       "    <tr>\n",
       "      <th>30</th>\n",
       "      <td>3</td>\n",
       "      <td>No genre</td>\n",
       "      <td>ios</td>\n",
       "      <td>inviteSent</td>\n",
       "      <td>defence</td>\n",
       "      <td>custom</td>\n",
       "      <td>1</td>\n",
       "      <td>13</td>\n",
       "    </tr>\n",
       "    <tr>\n",
       "      <th>31</th>\n",
       "      <td>3</td>\n",
       "      <td>No genre</td>\n",
       "      <td>ios</td>\n",
       "      <td>inviteReceived</td>\n",
       "      <td>defence</td>\n",
       "      <td>custom</td>\n",
       "      <td>1</td>\n",
       "      <td>14</td>\n",
       "    </tr>\n",
       "    <tr>\n",
       "      <th>36</th>\n",
       "      <td>3</td>\n",
       "      <td>No genre</td>\n",
       "      <td>ios</td>\n",
       "      <td>missionStarted</td>\n",
       "      <td>defence</td>\n",
       "      <td>custom</td>\n",
       "      <td>1</td>\n",
       "      <td>15</td>\n",
       "    </tr>\n",
       "  </tbody>\n",
       "</table>\n",
       "</div>"
      ],
      "text/plain": [
       "    gameid     genre platform         eventname eventparameter eventtype  \\\n",
       "0        3  No genre      ios       transaction          focus    custom   \n",
       "1        3  No genre      ios         gameEnded         attack    custom   \n",
       "2        3  No genre      ios     missionFailed         attack    custom   \n",
       "3        3  No genre      ios         newPlayer         attack  standard   \n",
       "4        3  No genre      ios           levelUp         attack    custom   \n",
       "5        3  No genre      ios  characterCreated         attack    custom   \n",
       "6        3  No genre      ios             guild         attack    custom   \n",
       "7        3  No genre      ios            social         attack    custom   \n",
       "9        3  No genre      ios      clientDevice         attack  standard   \n",
       "10       3  No genre      ios  missionCompleted         attack    custom   \n",
       "13       3  No genre      ios  missionAbandoned  missionSource    custom   \n",
       "28       3  No genre      ios       gameStarted  characterName  standard   \n",
       "30       3  No genre      ios        inviteSent        defence    custom   \n",
       "31       3  No genre      ios    inviteReceived        defence    custom   \n",
       "36       3  No genre      ios    missionStarted        defence    custom   \n",
       "\n",
       "    new_game_id  new_event_id  \n",
       "0             1             1  \n",
       "1             1             2  \n",
       "2             1             3  \n",
       "3             1             4  \n",
       "4             1             5  \n",
       "5             1             6  \n",
       "6             1             7  \n",
       "7             1             8  \n",
       "9             1             9  \n",
       "10            1            10  \n",
       "13            1            11  \n",
       "28            1            12  \n",
       "30            1            13  \n",
       "31            1            14  \n",
       "36            1            15  "
      ]
     },
     "execution_count": 40,
     "metadata": {},
     "output_type": "execute_result"
    }
   ],
   "source": [
    "data[data['new_event_id']==11118]\n",
    "data[data['new_game_id']==2].drop_duplicates('eventname')"
   ]
  },
  {
   "cell_type": "code",
   "execution_count": null,
   "metadata": {
    "collapsed": true
   },
   "outputs": [],
   "source": []
  }
 ],
 "metadata": {
  "kernelspec": {
   "display_name": "Python 3",
   "language": "python",
   "name": "python3"
  },
  "language_info": {
   "codemirror_mode": {
    "name": "ipython",
    "version": 3
   },
   "file_extension": ".py",
   "mimetype": "text/x-python",
   "name": "python",
   "nbconvert_exporter": "python",
   "pygments_lexer": "ipython3",
   "version": "3.6.2"
  }
 },
 "nbformat": 4,
 "nbformat_minor": 2
}
