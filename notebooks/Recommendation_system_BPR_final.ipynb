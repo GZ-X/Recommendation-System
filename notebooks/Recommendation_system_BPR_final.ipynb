{
 "cells": [
  {
   "cell_type": "code",
   "execution_count": 1,
   "metadata": {
    "collapsed": true
   },
   "outputs": [],
   "source": [
    "#Load the packages\n",
    "import numpy\n",
    "import tensorflow as tf\n",
    "import os\n",
    "import random\n",
    "from collections import defaultdict\n",
    "import pandas as pd\n",
    "import matplotlib.pyplot as plt\n",
    "import multiprocessing\n",
    "from multiprocessing.dummy import Pool as ThreadPool \n",
    "import time\n",
    "from functools import partial\n",
    "from tqdm import tqdm\n",
    "%matplotlib inline"
   ]
  },
  {
   "cell_type": "code",
   "execution_count": 2,
   "metadata": {
    "collapsed": true
   },
   "outputs": [],
   "source": [
    "DATA_DIR = \"../gamedata/original_dataset/\"\n",
    "DATA_FILE = \"dd_event_schemas.csv\"\n",
    "DATA_FOR_BPR = \"data_for_BPR.csv\"\n",
    "SAVE_DIR = \"../gamedata/train_result/\""
   ]
  },
  {
   "cell_type": "code",
   "execution_count": 3,
   "metadata": {},
   "outputs": [
    {
     "name": "stdout",
     "output_type": "stream",
     "text": [
      "game_count: 1108\n",
      "event_count: 11189\n"
     ]
    }
   ],
   "source": [
    "def process_data(data_path):\n",
    "    data = pd.read_csv(DATA_DIR+DATA_FILE)\n",
    "    gameid = data['gameid'].drop_duplicates()\n",
    "    gameid_list = []\n",
    "    gameid_list = list(gameid)\n",
    "    gameid2newid = {old:new+1 for new, old in enumerate(gameid_list)}\n",
    "    data['new_game_id'] = data['gameid'].map(gameid2newid)\n",
    "\n",
    "    events = data['eventname'].drop_duplicates()\n",
    "    events_list = list(events)\n",
    "    events2id = {old:new+1 for new,old in enumerate(events_list)}\n",
    "    data['new_event_id'] = data['eventname'].map(events2id)\n",
    "    \n",
    "    data.to_csv(DATA_DIR+'data_for_BPR.csv',index=False)\n",
    "    data=pd.read_csv(DATA_DIR+'data_for_BPR.csv')\n",
    "    \n",
    "    game_events = defaultdict(set)\n",
    "    game_count = -1\n",
    "    event_count = -1\n",
    "    with open(data_path,'r') as f:\n",
    "        header_line = next(f)\n",
    "        for line in f.readlines():\n",
    "            _, _, _, _, _, _, gameid, eventid = line.split(\",\")\n",
    "            gameid = int(gameid)\n",
    "            eventid = int(eventid)\n",
    "            #print(u,i)\n",
    "            game_events[gameid].add(eventid)\n",
    "            game_count = max(gameid, game_count)\n",
    "            event_count = max(eventid, event_count)\n",
    "    print (\"game_count:\", game_count)\n",
    "    print (\"event_count:\", event_count)\n",
    "    return game_count,event_count,game_events\n",
    "    \n",
    "\n",
    "#data_path = os.path.join('D:\\\\tmp\\\\ml-100k', 'u.data')\n",
    "#user_count, item_count, user_ratings = load_data(data_path)\n",
    "game_count,event_count,game_events_dict = process_data(DATA_DIR+DATA_FOR_BPR)"
   ]
  },
  {
   "cell_type": "code",
   "execution_count": 4,
   "metadata": {
    "collapsed": true
   },
   "outputs": [],
   "source": [
    "#genereate temp dict for later use\n",
    "def generate_temp(game_events_dict):\n",
    "    user_test = dict()\n",
    "    for u, i_list in game_events_dict.items():\n",
    "        user_test[u] = random.sample(game_events_dict[u], 1)[0]\n",
    "    return user_test\n",
    "\n",
    "temp_dict = generate_temp(game_events_dict)"
   ]
  },
  {
   "cell_type": "code",
   "execution_count": 5,
   "metadata": {
    "collapsed": true
   },
   "outputs": [],
   "source": [
    "#generate dataset for training\n",
    "def generate_train_batch(game_events_dict, temp_dict, event_count, batch_size):\n",
    "    t = []\n",
    "    \n",
    "    #print('generate batch..')\n",
    "    for b in range(batch_size):\n",
    "        break_flag1 = 0\n",
    "        break_flag2 = 0\n",
    "        u = random.sample(game_events_dict.keys(), 1)[0]\n",
    "        #print('u:',u)\n",
    "        i = random.sample(game_events_dict[u], 1)[0]\n",
    "        while i == temp_dict[u]:\n",
    "            break_flag1 += 1\n",
    "            i = random.sample(game_events_dict[u], 1)[0]\n",
    "            if break_flag1 == 20:\n",
    "                #game_events_dict.pop('u',None)\n",
    "                #temp_dict.pop('u',None)\n",
    "                break\n",
    "            #print('i:',i)\n",
    "        j = random.randint(1, event_count)\n",
    "        while j in game_events_dict[u]:\n",
    "            #break_flag2 += 1\n",
    "            j = random.randint(1, event_count)\n",
    "            #if break_flag2 == 20:\n",
    "                #game_events_dict.pop('u',None)\n",
    "                #temp_dict.pop('u',None)\n",
    "             #   break\n",
    "            #print('j:',j)\n",
    "        t.append([u, i, j])\n",
    "        #print(u,i,j)\n",
    "    #print('generate batch done!')\n",
    "    return numpy.asarray(t)\n",
    "\n",
    "#train_set = generate_train_batch(game_events_dict,temp_dict,event_count)"
   ]
  },
  {
   "cell_type": "code",
   "execution_count": 6,
   "metadata": {
    "collapsed": true
   },
   "outputs": [],
   "source": [
    "def generate_test_batch(game_events_dict, temp_dict, event_count):\n",
    "    for u in game_events_dict.keys():\n",
    "        t = []\n",
    "        i = temp_dict[u]\n",
    "        #for j in range(1, event_count+1):\n",
    "        for j in range(1, 1001):\n",
    "            if not (j in game_events_dict[u]):\n",
    "                t.append([u, i, j])\n",
    "        yield numpy.asarray(t)"
   ]
  },
  {
   "cell_type": "code",
   "execution_count": null,
   "metadata": {
    "collapsed": true
   },
   "outputs": [],
   "source": [
    "#Algorithm\n",
    "def bpr_mf(game_count, event_count, hidden_dim):\n",
    "    u = tf.placeholder(tf.int32, [None])\n",
    "    i = tf.placeholder(tf.int32, [None])\n",
    "    j = tf.placeholder(tf.int32, [None])\n",
    "    with tf.device(\"/cpu:0\"):\n",
    "        user_emb_w = tf.get_variable(\"user_emb_w\", [game_count+1, hidden_dim], \n",
    "                            initializer=tf.random_normal_initializer(0, 0.1))\n",
    "        item_emb_h = tf.get_variable(\"item_emb_h\", [event_count+1, hidden_dim], \n",
    "                                initializer=tf.random_normal_initializer(0, 0.1))\n",
    "        u_emb = tf.nn.embedding_lookup(user_emb_w, u)\n",
    "        i_emb = tf.nn.embedding_lookup(item_emb_h, i)\n",
    "        j_emb = tf.nn.embedding_lookup(item_emb_h, j)\n",
    "    \n",
    "    # MF predict: u_i > u_j\n",
    "    x = tf.reduce_sum(tf.multiply(u_emb, (i_emb - j_emb)), 1, keepdims=True)\n",
    "    loss1 = - tf.reduce_mean(tf.log(tf.sigmoid(x)))\n",
    "    # AUC for one user:\n",
    "    # reasonable iff all (u,i,j) pairs are from the same user\n",
    "    # \n",
    "    # average AUC = mean( auc for each user in test set)\n",
    "    mf_auc = tf.reduce_mean(tf.to_float(x > 0))\n",
    "    regulation_rate = 0.0001\n",
    "    loss2 = regulation_rate * tf.add_n([\n",
    "            tf.reduce_sum(tf.multiply(u_emb, u_emb)), \n",
    "            tf.reduce_sum(tf.multiply(i_emb, i_emb)),\n",
    "            tf.reduce_sum(tf.multiply(j_emb, j_emb))\n",
    "        ])\n",
    "    bprloss = loss1 + loss2\n",
    "    train_op = tf.train.GradientDescentOptimizer(0.01).minimize(bprloss)\n",
    "    return u, i, j, mf_auc, bprloss, train_op"
   ]
  },
  {
   "cell_type": "code",
   "execution_count": null,
   "metadata": {
    "scrolled": true
   },
   "outputs": [
    {
     "name": "stderr",
     "output_type": "stream",
     "text": [
      "  0%|          | 2/5000 [00:00<04:27, 18.68it/s]"
     ]
    },
    {
     "name": "stdout",
     "output_type": "stream",
     "text": [
      "start epoch\n",
      "epoch:  1\n"
     ]
    },
    {
     "name": "stderr",
     "output_type": "stream",
     "text": [
      "100%|██████████| 5000/5000 [00:46<00:00, 108.50it/s]\n"
     ]
    },
    {
     "name": "stdout",
     "output_type": "stream",
     "text": [
      "bpr_loss:  0.7083323358416558\n"
     ]
    },
    {
     "name": "stderr",
     "output_type": "stream",
     "text": [
      "  0%|          | 12/5000 [00:00<00:43, 115.97it/s]"
     ]
    },
    {
     "name": "stdout",
     "output_type": "stream",
     "text": [
      "test_loss:  0.7496982880662925 test_auc:  0.5041036438919765\n",
      "\n",
      "epoch:  2\n"
     ]
    },
    {
     "name": "stderr",
     "output_type": "stream",
     "text": [
      "100%|██████████| 5000/5000 [00:44<00:00, 113.59it/s]\n"
     ]
    },
    {
     "name": "stdout",
     "output_type": "stream",
     "text": [
      "bpr_loss:  0.7072573763012886\n"
     ]
    }
   ],
   "source": [
    "#Training session\n",
    "with tf.Graph().as_default(), tf.Session() as session:\n",
    "    u, i, j, mf_auc, bprloss, train_op = bpr_mf(game_count, event_count, 20)\n",
    "#     print(u, i, j, mf_auc, bprloss, train_op)\n",
    "    session.run(tf.global_variables_initializer())\n",
    "    saver = tf.train.Saver()\n",
    "    print('start epoch')\n",
    "    for epoch in range(1, 50):\n",
    "        print (\"epoch: \", epoch)\n",
    "        _batch_bprloss = 0\n",
    "        for k in tqdm(range(1, 5001)): # uniform samples from training set\n",
    "            uij = generate_train_batch(game_events_dict, temp_dict,event_count,batch_size=256)\n",
    "            _bprloss, _train_op = session.run([bprloss, train_op],feed_dict={u:uij[:,0], i:uij[:,1], j:uij[:,2]})\n",
    "            _batch_bprloss += _bprloss\n",
    "        print (\"bpr_loss: \", _batch_bprloss / k)\n",
    "\n",
    "        games_count = 0\n",
    "        _auc_sum = 0.0\n",
    "        test_bprloss = 0.0\n",
    "        # each batch will,co return only one user's auc\n",
    "        for t_uij in generate_test_batch(game_events_dict, temp_dict, event_count):\n",
    "            _auc, _test_bprloss = session.run([mf_auc, bprloss],feed_dict={u:t_uij[:,0], i:t_uij[:,1], j:t_uij[:,2]})\n",
    "            games_count += 1\n",
    "            _auc_sum += _auc\n",
    "            test_bprloss += _test_bprloss\n",
    "        print (\"test_loss: \", test_bprloss/games_count, \"test_auc: \", _auc_sum/games_count)\n",
    "        print (\"\")\n",
    "    variable_names = [v.name for v in tf.trainable_variables()]\n",
    "    values = session.run(variable_names)\n",
    "    saver.save(session, SAVE_DIR)\n",
    "    for k,v in zip(variable_names, values):\n",
    "        print(\"Variable: \", k)\n",
    "        print(\"Shape: \", v.shape)\n",
    "        print(v)\n",
    "print('all done')"
   ]
  },
  {
   "cell_type": "code",
   "execution_count": null,
   "metadata": {
    "collapsed": true
   },
   "outputs": [],
   "source": [
    "data=pd.read_csv(DATA_DIR+'data_for_BPR.csv')"
   ]
  },
  {
   "cell_type": "code",
   "execution_count": 37,
   "metadata": {
    "collapsed": true
   },
   "outputs": [],
   "source": [
    "#Recommend events for games\n",
    "def recommend(gameid):    \n",
    "    tempdata = data[data['gameid']==gameid]\n",
    "    new_game_id = tempdata['new_game_id'].drop_duplicates()\n",
    "    new_game_id = int(new_game_id)\n",
    "    print('the new id of game',gameid,'is:',new_game_id)\n",
    "    game_index = new_game_id - 1\n",
    "    session1 = tf.Session()\n",
    "    g1_dim = tf.expand_dims(values[0][game_index], 0)\n",
    "    g1_all = tf.matmul(g1_dim, values[1],transpose_b=True)\n",
    "    rating_g1 = session1.run(g1_all)\n",
    "    print ('rating vector is:',rating_g1)\n",
    "    print(\"new recommedations:\")\n",
    "    p = numpy.squeeze(rating_g1)\n",
    "    \n",
    "    p[numpy.argsort(p)[:-20]] = 0\n",
    "    for index in range(len(p)):\n",
    "        if p[index] != 0:\n",
    "            event_name = data[data['new_event_id']==index].drop_duplicates('eventname')\n",
    "            print (index, p[index],event_name['eventname'].values)  "
   ]
  },
  {
   "cell_type": "code",
   "execution_count": 38,
   "metadata": {},
   "outputs": [
    {
     "name": "stdout",
     "output_type": "stream",
     "text": [
      "the new id of game 59 is: 6\n",
      "rating vector is: [[ 0.00056908  0.28475577  0.12661853 ... -0.08589959  0.05925079\n",
      "  -0.05144139]]\n",
      "new recommedations:\n",
      "1 0.28475577 ['transaction']\n",
      "3 0.21875711 ['missionFailed']\n",
      "4 0.29840305 ['newPlayer']\n",
      "5 0.22287144 ['levelUp']\n",
      "9 0.25470904 ['clientDevice']\n",
      "10 0.23450017 ['missionCompleted']\n",
      "12 0.28952318 ['gameStarted']\n",
      "15 0.2659001 ['missionStarted']\n",
      "158 0.14379299 ['engageResponse']\n",
      "229 0.18501669 ['uiInteraction']\n",
      "540 0.15469907 ['adRequest']\n",
      "929 0.1313952 ['hexagonRemix']\n",
      "1893 0.14295721 ['playerSwiped']\n",
      "3052 0.13349694 ['leaderboardProgress']\n",
      "3291 0.14054212 ['starmapToShip']\n",
      "6257 0.13372383 ['weaponUpgraded']\n",
      "7662 0.13457422 ['open_pack_card_given']\n",
      "8940 0.14834107 ['heroEvolved']\n",
      "9702 0.13318123 ['pveResume']\n",
      "10754 0.16887203 ['qualityWarningPopupShown']\n"
     ]
    }
   ],
   "source": [
    "#Recommend events for game 59\n",
    "recommend(59)"
   ]
  },
  {
   "cell_type": "code",
   "execution_count": 39,
   "metadata": {},
   "outputs": [
    {
     "name": "stdout",
     "output_type": "stream",
     "text": [
      "the new id of game 3517 is: 164\n",
      "rating vector is: [[-0.02958678  0.1601882   0.16383761 ...  0.08742317  0.03531764\n",
      "  -0.01973129]]\n",
      "new recommedations:\n",
      "1 0.1601882 ['transaction']\n",
      "2 0.16383761 ['gameEnded']\n",
      "4 0.3220476 ['newPlayer']\n",
      "5 0.15975364 ['levelUp']\n",
      "9 0.28008744 ['clientDevice']\n",
      "10 0.19038443 ['missionCompleted']\n",
      "12 0.34213522 ['gameStarted']\n",
      "15 0.222442 ['missionStarted']\n",
      "473 0.161226 ['tutTurn3TargetClick']\n",
      "2331 0.19632903 ['takeHelm']\n",
      "3664 0.17196904 ['tutorial_select_node_four']\n",
      "5620 0.15742174 ['purchaseBucksShown']\n",
      "5955 0.16392037 ['tacticsScreenDisplayed']\n",
      "6150 0.16323766 ['userAction']\n",
      "6716 0.1577468 ['tutorialAnalyticsStarted']\n",
      "7955 0.15834884 ['levelRetry']\n",
      "8129 0.15641315 ['gup']\n",
      "8147 0.17845218 ['pvp']\n",
      "8965 0.17865223 ['levelfail']\n",
      "9873 0.17794976 ['ws_claimMonthlyCardReward']\n"
     ]
    }
   ],
   "source": [
    "#Recommend events for game 3517\n",
    "recommend(3517)"
   ]
  }
 ],
 "metadata": {
  "kernelspec": {
   "display_name": "Python 3",
   "language": "python",
   "name": "python3"
  },
  "language_info": {
   "codemirror_mode": {
    "name": "ipython",
    "version": 3
   },
   "file_extension": ".py",
   "mimetype": "text/x-python",
   "name": "python",
   "nbconvert_exporter": "python",
   "pygments_lexer": "ipython3",
   "version": "3.6.2"
  }
 },
 "nbformat": 4,
 "nbformat_minor": 2
}
