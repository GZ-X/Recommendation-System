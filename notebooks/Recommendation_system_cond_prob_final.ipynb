{
 "cells": [
  {
   "cell_type": "code",
   "execution_count": 1,
   "metadata": {
    "collapsed": true
   },
   "outputs": [],
   "source": [
    "#import python packages\n",
    "import pandas as pd\n",
    "import numpy as np\n",
    "import matplotlib.pyplot as plt\n",
    "import multiprocessing\n",
    "from multiprocessing.dummy import Pool as ThreadPool \n",
    "import time\n",
    "from functools import partial \n",
    "import os\n",
    "%matplotlib inline"
   ]
  },
  {
   "cell_type": "code",
   "execution_count": 2,
   "metadata": {
    "collapsed": true
   },
   "outputs": [],
   "source": [
    "#Define file directory and name\n",
    "DATA_DIR = \"../gamedata/original_dataset/\"\n",
    "DATA_FILE = \"dd_event_schemas.csv\""
   ]
  },
  {
   "cell_type": "code",
   "execution_count": 3,
   "metadata": {
    "collapsed": true
   },
   "outputs": [],
   "source": [
    "#Load original dataset\n",
    "dataset=pd.read_csv(DATA_DIR+DATA_FILE)"
   ]
  },
  {
   "cell_type": "code",
   "execution_count": 4,
   "metadata": {
    "collapsed": true,
    "scrolled": true
   },
   "outputs": [],
   "source": [
    "#Select a sub dataset where the genre equals to 'No genre' \n",
    "subdataset = dataset[dataset['genre']=='Poker']\n",
    "#List of all events in 'No genre' subdataset\n",
    "events = subdataset['eventname'].drop_duplicates()\n",
    "#Count the amount of all event\n",
    "#events_amount=events.count()\n",
    "#List of all gameid  in 'No genre' subdataset\n",
    "games = subdataset['gameid'].drop_duplicates()"
   ]
  },
  {
   "cell_type": "code",
   "execution_count": 5,
   "metadata": {
    "collapsed": true
   },
   "outputs": [],
   "source": [
    "eventsValueCount = subdataset['eventname'].value_counts()"
   ]
  },
  {
   "cell_type": "code",
   "execution_count": 6,
   "metadata": {
    "collapsed": true,
    "scrolled": true
   },
   "outputs": [],
   "source": [
    "eventsValueCount.to_csv(DATA_DIR+'eventsVocabulary.csv')"
   ]
  },
  {
   "cell_type": "code",
   "execution_count": 7,
   "metadata": {
    "collapsed": true
   },
   "outputs": [],
   "source": [
    "eventsValueCount = pd.read_csv(DATA_DIR+'eventsVocabulary.csv',names=['events','num'])"
   ]
  },
  {
   "cell_type": "code",
   "execution_count": 8,
   "metadata": {
    "collapsed": true
   },
   "outputs": [],
   "source": [
    "eventsVocabulary = eventsValueCount['events']"
   ]
  },
  {
   "cell_type": "code",
   "execution_count": 9,
   "metadata": {
    "collapsed": true
   },
   "outputs": [],
   "source": [
    "events = list(eventsVocabulary)"
   ]
  },
  {
   "cell_type": "code",
   "execution_count": 10,
   "metadata": {
    "collapsed": true
   },
   "outputs": [],
   "source": [
    "#Get all gameid in this genre\n",
    "def get_all_gameid(dataset):\n",
    "    AllGameId = dataset['gameid']\n",
    "    AllGameId = AllGameId.drop_duplicates()\n",
    "    \n",
    "    return AllGameId"
   ]
  },
  {
   "cell_type": "code",
   "execution_count": 11,
   "metadata": {
    "collapsed": true
   },
   "outputs": [],
   "source": [
    "#Get all events in this game\n",
    "def get_all_gameEvents(gameId,dataset):\n",
    "    findGame = dataset[dataset['gameid'] == gameId]\n",
    "    eventsInGame = findGame.drop_duplicates(['eventname'])\n",
    "    eventsList = eventsInGame['eventname']\n",
    "    \n",
    "    return eventsList"
   ]
  },
  {
   "cell_type": "code",
   "execution_count": 12,
   "metadata": {},
   "outputs": [
    {
     "data": {
      "text/plain": [
       "271"
      ]
     },
     "execution_count": 12,
     "metadata": {},
     "output_type": "execute_result"
    }
   ],
   "source": [
    "#Obtain all game id\n",
    "allGameId = get_all_gameid(subdataset)\n",
    "len(events)"
   ]
  },
  {
   "cell_type": "code",
   "execution_count": 13,
   "metadata": {
    "collapsed": true
   },
   "outputs": [],
   "source": [
    "#Extract features\n",
    "def get_feature_vector(gameId,eventsVocabulary,dataset):\n",
    "    ''' Map the presence of events to a vector\n",
    "    :param gameId\n",
    "    :type gameId: list of int\n",
    "    :param eventsVocabulary \n",
    "    :type eventsVocabulary : list of str\n",
    "    :param dataset\n",
    "    :type dataset: dataframe\n",
    "    :return feature_vect\n",
    "    :type feature_vect: list of int\n",
    "    '''\n",
    "    eventsList = get_all_gameEvents(gameId,dataset)\n",
    "    feature_vect = [0]*len(eventsVocabulary)\n",
    "    \n",
    "    for event in eventsList:\n",
    "        if event in eventsVocabulary:\n",
    "            idx = eventsVocabulary.index(event)\n",
    "            print(idx)\n",
    "            feature_vect[idx] = 1\n",
    "    return feature_vect      "
   ]
  },
  {
   "cell_type": "code",
   "execution_count": null,
   "metadata": {},
   "outputs": [],
   "source": [
    "#Get all feature vectors\n",
    "train_dataset = [get_feature_vector(gameId,events,subdataset) for gameId in allGameId]"
   ]
  },
  {
   "cell_type": "code",
   "execution_count": 15,
   "metadata": {},
   "outputs": [
    {
     "data": {
      "text/plain": [
       "pandas.core.frame.DataFrame"
      ]
     },
     "execution_count": 15,
     "metadata": {},
     "output_type": "execute_result"
    }
   ],
   "source": [
    "train_dataset = pd.DataFrame(train_dataset)\n",
    "type(train_dataset)"
   ]
  },
  {
   "cell_type": "code",
   "execution_count": 16,
   "metadata": {
    "collapsed": true
   },
   "outputs": [],
   "source": [
    "train_dataset_tmp = np.array(train_dataset)"
   ]
  },
  {
   "cell_type": "code",
   "execution_count": 17,
   "metadata": {
    "collapsed": true
   },
   "outputs": [],
   "source": [
    "#amount of each event\n",
    "num_events = np.sum(train_dataset,axis=0)"
   ]
  },
  {
   "cell_type": "code",
   "execution_count": 18,
   "metadata": {
    "collapsed": true
   },
   "outputs": [],
   "source": [
    "#Calculate P(ei|ej)\n",
    "def calculateProb(i):\n",
    "    eiej_tmp = pd.DataFrame()\n",
    "    arr1=[]\n",
    "    arr2=[]\n",
    "    #amount = num \n",
    "    #for i in amount:\n",
    "    arr1=[]\n",
    "    for j in range(len(events)):\n",
    "        if i==j:\n",
    "            p = 0.0\n",
    "        else:\n",
    "            eiej_tmp['i'] = train_dataset.iloc[:,i]\n",
    "            eiej_tmp['j'] = train_dataset.iloc[:,j]\n",
    "            eiej = eiej_tmp[(eiej_tmp['i']==1) & (eiej_tmp['j']==1)]\n",
    "            p = len(eiej)/np.sum(eiej_tmp['j'])\n",
    "            #print('p(e'+str(j)+'|e'+str(i)+ ')='+str(p) )\n",
    "        arr1.append(p)\n",
    "    print(arr1)\n",
    "    #arr2.append(arr1)\n",
    "    #print(i)\n",
    "    return arr1"
   ]
  },
  {
   "cell_type": "code",
   "execution_count": null,
   "metadata": {
    "scrolled": true
   },
   "outputs": [],
   "source": [
    "start = time.clock()\n",
    "amount = range(len(events))\n",
    "pool = ThreadPool(32) \n",
    "matrix = pool.map(calculateProb, amount)\n",
    "pool.close()\n",
    "pool.join()\n",
    "end = time.clock()"
   ]
  },
  {
   "cell_type": "code",
   "execution_count": 30,
   "metadata": {},
   "outputs": [
    {
     "name": "stdout",
     "output_type": "stream",
     "text": [
      "148.692996\n"
     ]
    }
   ],
   "source": [
    "#Time to create the probability matrix\n",
    "print(end-start)\n",
    "newmatrix = pd.DataFrame(matrix)"
   ]
  },
  {
   "cell_type": "code",
   "execution_count": 130,
   "metadata": {
    "collapsed": true
   },
   "outputs": [],
   "source": [
    "#Change input game by deleting or adding '#' below\n",
    "#input_events = get_all_gameEvents(59,subdataset)\n",
    "input_events = get_all_gameEvents(3517,subdataset)"
   ]
  },
  {
   "cell_type": "code",
   "execution_count": 131,
   "metadata": {
    "collapsed": true
   },
   "outputs": [],
   "source": [
    "#Write the matrix to a csv file\n",
    "newmatrix.to_csv(DATA_DIR+'probMatrix.csv',index=False)"
   ]
  },
  {
   "cell_type": "code",
   "execution_count": 19,
   "metadata": {
    "collapsed": true
   },
   "outputs": [],
   "source": [
    "#Recommend events\n",
    "def recommend(input_events):\n",
    "    probMatrix = pd.read_csv(DATA_DIR + 'probMatrix.csv')\n",
    "    new_feature=['NaN']*len(events)\n",
    "    predict_list =[]\n",
    "    for data in input_events:\n",
    "        if data in events:\n",
    "            idx = events.index(data)\n",
    "            new_feature[idx]=data\n",
    "            #print(data,idx)\n",
    "            find = probMatrix.iloc[idx]\n",
    "            #print(find)\n",
    "            findValue = find.idxmax()\n",
    "            findValue = int(findValue)\n",
    "            #find[findValue] = 0.0\n",
    "           # print(find[findValue])\n",
    "            if find[findValue]!=0:\n",
    "                new_feature[findValue]=events[findValue]\n",
    "                find[findValue]=0.0\n",
    "                if events[findValue] not in predict_list:\n",
    "                    predict_list.append(events[findValue])\n",
    "            findValue2 = find.idxmax()\n",
    "            findValue2 = int(findValue2)\n",
    "            if find[findValue2]!=0:\n",
    "                new_feature[findValue2]=events[findValue2]\n",
    "                find[findValue2]=0.0\n",
    "                if events[findValue2] not in predict_list:\n",
    "                    predict_list.append(events[findValue2])\n",
    "            findValue3 = find.idxmax()\n",
    "            findValue3 = int(findValue3)\n",
    "            if find[findValue3]!=0:\n",
    "                new_feature[findValue3]=events[findValue3]\n",
    "                find[findValue3]=0.0\n",
    "                if events[findValue3] not in predict_list:\n",
    "                    predict_list.append(events[findValue3])\n",
    "            print(data,idx,'--',events[findValue],findValue,'--',events[findValue2],findValue2,'--',events[findValue3],findValue3)\n",
    "    return predict_list"
   ]
  },
  {
   "cell_type": "code",
   "execution_count": 133,
   "metadata": {},
   "outputs": [
    {
     "data": {
      "text/plain": [
       "['playGame',\n",
       " 'revengePopupEvent',\n",
       " 'itemBought',\n",
       " 'transaction',\n",
       " 'levelUp',\n",
       " 'appsFlyerAttribution',\n",
       " 'itemCollected',\n",
       " 'outOfGameSend',\n",
       " 'uiInteraction',\n",
       " 'achievement',\n",
       " 'clientDevice']"
      ]
     },
     "execution_count": 133,
     "metadata": {},
     "output_type": "execute_result"
    }
   ],
   "source": [
    "#Recommend list 1\n",
    "predict_list1"
   ]
  },
  {
   "cell_type": "code",
   "execution_count": 134,
   "metadata": {},
   "outputs": [
    {
     "name": "stdout",
     "output_type": "stream",
     "text": [
      "number of input events: 70\n",
      "number of recommend list: 11\n"
     ]
    }
   ],
   "source": [
    "print('number of input events:',len(input_events))\n",
    "print('number of recommend list:',len(predict_list1))"
   ]
  },
  {
   "cell_type": "code",
   "execution_count": 126,
   "metadata": {
    "collapsed": true
   },
   "outputs": [],
   "source": [
    "#Events of game 59 after deleting 'gameStarted' \n",
    "events_after_delete1 = {'handSummary', 'achievement', 'missionCompleted',\n",
    "       'missionContinued', 'tableSearch', 'missionStarted',\n",
    "       'tableConnect', 'slotReward', 'rewardedItem',\n",
    "       'messageSent', 'rewardBundle', 'transaction', 'markerEvent',\n",
    "       'missionAbandoned', 'giftSent', 'videoPokerGameEnd', 'handAction',\n",
    "       'slotStart', 'videoPokerGameStart', 'rewardedMetric',\n",
    "       'missionFailed'}"
   ]
  },
  {
   "cell_type": "code",
   "execution_count": 127,
   "metadata": {},
   "outputs": [
    {
     "name": "stdout",
     "output_type": "stream",
     "text": [
      "rewardedItem 151 -- missionCompleted 91 -- missionContinued 121 -- missionAbandoned 122\n",
      "achievement 4 -- playGame 7 -- revengePopupEvent 9 -- itemBought 12\n",
      "missionContinued 121 -- missionCompleted 91 -- missionAbandoned 122 -- slotStart 123\n",
      "tableConnect 139 -- missionCompleted 91 -- missionContinued 121 -- missionAbandoned 122\n",
      "videoPokerGameStart 145 -- missionCompleted 91 -- missionContinued 121 -- missionAbandoned 122\n",
      "handAction 73 -- handSummary 10 -- giftSent 41 -- sendGridEmail 51\n",
      "handSummary 10 -- giftSent 41 -- sendGridEmail 51 -- giftReceived 64\n",
      "missionCompleted 91 -- missionContinued 121 -- missionAbandoned 122 -- slotStart 123\n",
      "tableSearch 154 -- missionCompleted 91 -- missionContinued 121 -- missionAbandoned 122\n",
      "messageSent 137 -- missionCompleted 91 -- missionContinued 121 -- missionAbandoned 122\n",
      "missionStarted 42 -- playGame 7 -- revengePopupEvent 9 -- itemBought 12\n",
      "rewardedMetric 136 -- missionCompleted 91 -- missionContinued 121 -- missionAbandoned 122\n",
      "giftSent 41 -- handSummary 10 -- sendGridEmail 51 -- giftReceived 64\n",
      "missionAbandoned 122 -- missionCompleted 91 -- missionContinued 121 -- slotStart 123\n",
      "rewardBundle 144 -- missionCompleted 91 -- missionContinued 121 -- missionAbandoned 122\n",
      "markerEvent 155 -- missionCompleted 91 -- missionContinued 121 -- missionAbandoned 122\n",
      "transaction 0 -- levelUp 1 -- appsFlyerAttribution 2 -- achievement 4\n",
      "videoPokerGameEnd 138 -- missionCompleted 91 -- missionContinued 121 -- missionAbandoned 122\n",
      "slotStart 123 -- missionCompleted 91 -- missionContinued 121 -- missionAbandoned 122\n",
      "slotReward 160 -- missionCompleted 91 -- missionContinued 121 -- missionAbandoned 122\n",
      "missionFailed 124 -- missionCompleted 91 -- missionContinued 121 -- missionAbandoned 122\n"
     ]
    }
   ],
   "source": [
    "predict_list2 = recommend(events_after_delete1)"
   ]
  },
  {
   "cell_type": "code",
   "execution_count": 128,
   "metadata": {},
   "outputs": [
    {
     "data": {
      "text/plain": [
       "['missionCompleted',\n",
       " 'missionContinued',\n",
       " 'missionAbandoned',\n",
       " 'playGame',\n",
       " 'revengePopupEvent',\n",
       " 'itemBought',\n",
       " 'slotStart',\n",
       " 'handSummary',\n",
       " 'giftSent',\n",
       " 'sendGridEmail',\n",
       " 'giftReceived',\n",
       " 'levelUp',\n",
       " 'appsFlyerAttribution',\n",
       " 'achievement']"
      ]
     },
     "execution_count": 128,
     "metadata": {},
     "output_type": "execute_result"
    }
   ],
   "source": [
    "predict_list2"
   ]
  },
  {
   "cell_type": "code",
   "execution_count": 129,
   "metadata": {},
   "outputs": [
    {
     "name": "stdout",
     "output_type": "stream",
     "text": [
      "number of input events: 22\n",
      "number of recommend list: 14\n"
     ]
    }
   ],
   "source": [
    "print('number of input events:',len(input_events))\n",
    "print('number of recommend list:',len(predict_list2))"
   ]
  },
  {
   "cell_type": "code",
   "execution_count": 117,
   "metadata": {
    "collapsed": true
   },
   "outputs": [],
   "source": [
    "#Events of game 3517 after deleting 'gameStarted' \n",
    "events_after_delete2 = {'tournamentPlayAgain', 'playerCreatedTournament',\n",
    "       'itemBought', 'piggyBank', 'levelUp', 'achievement',\n",
    "       'blackjackHandResult', 'blackjackAction', 'revengePopupEvent',\n",
    "       'leaveTeam', 'bonusSpin', 'inviteFriends', 'showScreen',\n",
    "       'clientDevice', 'updateEvent', 'transaction', 'featureUnlock',\n",
    "       'teamInvite', 'playerTournamentFinished', 'promoMessageEvent',\n",
    "       'unlockSaloon', 'uiInteraction', 'playerFriendJoinedTournament',\n",
    "       'teamChallengeEnded', 'referralClaimReward', 'playGame',\n",
    "       'tutorial', 'leaveGame', 'economyBalance', 'connectionHandeling',\n",
    "       'badgeWon', 'loading', 'playerTournamentStarted', 'gifting',\n",
    "       'doRebuy', 'missionClaimed', 'playerLeftTournament',\n",
    "       'appsFlyerAttribution', 'gameEnded', 'newPlayer',\n",
    "       'applicationAction', 'navigationEvent', 'missionStarted',\n",
    "       'chatEvent', 'privateGameAction', 'shareImage', 'missionPaused',\n",
    "       'claimCouponEvent', 'engageResponse', 'trophyWon', 'options',\n",
    "       'joinTeam', 'notificationServices', 'outOfGameSend',\n",
    "       'itemCollected', 'offerEvent', 'challengeStartEvent',\n",
    "       'challengeRewardClaimedEvent', 'mutePlayer', 'reportPlayer',\n",
    "       'notificationOpened', 'showNormalAd', 'referralAction',\n",
    "       'teamChallengeStarted', 'teamChallengeRewardClaimed', 'rateGame',\n",
    "       'teamRankChange', 'teamKick', 'createTeam'}"
   ]
  },
  {
   "cell_type": "code",
   "execution_count": 119,
   "metadata": {},
   "outputs": [
    {
     "name": "stdout",
     "output_type": "stream",
     "text": [
      "featureUnlock 37 -- playGame 7 -- revengePopupEvent 9 -- itemBought 12\n",
      "unlockSaloon 47 -- playGame 7 -- revengePopupEvent 9 -- itemBought 12\n",
      "achievement 4 -- playGame 7 -- revengePopupEvent 9 -- itemBought 12\n",
      "teamInvite 18 -- playGame 7 -- revengePopupEvent 9 -- itemBought 12\n",
      "claimCouponEvent 61 -- playGame 7 -- revengePopupEvent 9 -- itemBought 12\n",
      "piggyBank 48 -- playGame 7 -- revengePopupEvent 9 -- itemBought 12\n",
      "gifting 40 -- playGame 7 -- revengePopupEvent 9 -- itemBought 12\n",
      "referralAction 63 -- playGame 7 -- revengePopupEvent 9 -- itemBought 12\n",
      "updateEvent 81 -- playGame 7 -- revengePopupEvent 9 -- itemBought 12\n",
      "doRebuy 24 -- playGame 7 -- revengePopupEvent 9 -- itemBought 12\n",
      "notificationServices 86 -- levelUp 1 -- outOfGameSend 5 -- playGame 7\n",
      "promoMessageEvent 31 -- playGame 7 -- revengePopupEvent 9 -- itemBought 12\n",
      "newPlayer 11 -- levelUp 1 -- appsFlyerAttribution 2 -- clientDevice 3\n",
      "itemCollected 14 -- playGame 7 -- revengePopupEvent 9 -- itemBought 12\n",
      "teamRankChange 23 -- playGame 7 -- revengePopupEvent 9 -- itemBought 12\n",
      "challengeRewardClaimedEvent 38 -- playGame 7 -- revengePopupEvent 9 -- itemBought 12\n",
      "trophyWon 15 -- playGame 7 -- revengePopupEvent 9 -- itemBought 12\n",
      "mutePlayer 62 -- playGame 7 -- revengePopupEvent 9 -- itemBought 12\n",
      "missionClaimed 49 -- playGame 7 -- revengePopupEvent 9 -- itemBought 12\n",
      "createTeam 35 -- playGame 7 -- revengePopupEvent 9 -- itemBought 12\n",
      "challengeStartEvent 60 -- playGame 7 -- revengePopupEvent 9 -- itemBought 12\n",
      "outOfGameSend 5 -- levelUp 1 -- playGame 7 -- uiInteraction 8\n",
      "blackjackAction 22 -- playGame 7 -- revengePopupEvent 9 -- itemBought 12\n",
      "leaveTeam 34 -- playGame 7 -- revengePopupEvent 9 -- itemBought 12\n",
      "referralClaimReward 56 -- playGame 7 -- revengePopupEvent 9 -- itemBought 12\n",
      "gameEnded 92 -- levelUp 1 -- outOfGameSend 5 -- playGame 7\n",
      "playerTournamentStarted 19 -- playGame 7 -- revengePopupEvent 9 -- itemBought 12\n",
      "teamChallengeStarted 83 -- playGame 7 -- revengePopupEvent 9 -- itemBought 12\n",
      "teamChallengeEnded 79 -- playGame 7 -- revengePopupEvent 9 -- itemBought 12\n",
      "teamKick 36 -- playGame 7 -- revengePopupEvent 9 -- itemBought 12\n",
      "bonusSpin 44 -- playGame 7 -- revengePopupEvent 9 -- itemBought 12\n",
      "offerEvent 46 -- playGame 7 -- revengePopupEvent 9 -- itemBought 12\n",
      "teamChallengeRewardClaimed 25 -- playGame 7 -- revengePopupEvent 9 -- itemBought 12\n",
      "playerCreatedTournament 27 -- playGame 7 -- revengePopupEvent 9 -- itemBought 12\n",
      "tutorial 32 -- playGame 7 -- revengePopupEvent 9 -- itemBought 12\n",
      "uiInteraction 8 -- playGame 7 -- revengePopupEvent 9 -- itemBought 12\n",
      "revengePopupEvent 9 -- playGame 7 -- itemBought 12 -- itemCollected 14\n",
      "playerFriendJoinedTournament 26 -- playGame 7 -- revengePopupEvent 9 -- itemBought 12\n",
      "badgeWon 45 -- playGame 7 -- revengePopupEvent 9 -- itemBought 12\n",
      "missionStarted 42 -- playGame 7 -- revengePopupEvent 9 -- itemBought 12\n",
      "tournamentPlayAgain 20 -- playGame 7 -- revengePopupEvent 9 -- itemBought 12\n",
      "shareImage 78 -- playGame 7 -- revengePopupEvent 9 -- itemBought 12\n",
      "showNormalAd 66 -- playGame 7 -- revengePopupEvent 9 -- itemBought 12\n",
      "playGame 7 -- revengePopupEvent 9 -- itemBought 12 -- itemCollected 14\n",
      "engageResponse 43 -- levelUp 1 -- outOfGameSend 5 -- playGame 7\n",
      "connectionHandeling 30 -- playGame 7 -- revengePopupEvent 9 -- itemBought 12\n",
      "notificationOpened 13 -- levelUp 1 -- outOfGameSend 5 -- playGame 7\n",
      "rateGame 65 -- playGame 7 -- revengePopupEvent 9 -- itemBought 12\n",
      "itemBought 12 -- playGame 7 -- revengePopupEvent 9 -- itemCollected 14\n",
      "showScreen 98 -- playGame 7 -- revengePopupEvent 9 -- itemBought 12\n",
      "playerTournamentFinished 21 -- playGame 7 -- revengePopupEvent 9 -- itemBought 12\n",
      "inviteFriends 54 -- playGame 7 -- revengePopupEvent 9 -- itemBought 12\n",
      "joinTeam 33 -- playGame 7 -- revengePopupEvent 9 -- itemBought 12\n",
      "blackjackHandResult 28 -- playGame 7 -- revengePopupEvent 9 -- itemBought 12\n",
      "options 77 -- playGame 7 -- uiInteraction 8 -- revengePopupEvent 9\n",
      "economyBalance 17 -- playGame 7 -- revengePopupEvent 9 -- itemBought 12\n",
      "transaction 0 -- levelUp 1 -- appsFlyerAttribution 2 -- achievement 4\n",
      "navigationEvent 39 -- playGame 7 -- revengePopupEvent 9 -- itemBought 12\n",
      "applicationAction 50 -- playGame 7 -- revengePopupEvent 9 -- itemBought 12\n",
      "appsFlyerAttribution 2 -- playGame 7 -- revengePopupEvent 9 -- itemBought 12\n",
      "clientDevice 3 -- levelUp 1 -- appsFlyerAttribution 2 -- outOfGameSend 5\n",
      "privateGameAction 52 -- playGame 7 -- revengePopupEvent 9 -- itemBought 12\n",
      "leaveGame 80 -- playGame 7 -- revengePopupEvent 9 -- itemBought 12\n",
      "reportPlayer 55 -- playGame 7 -- revengePopupEvent 9 -- itemBought 12\n",
      "missionPaused 57 -- playGame 7 -- revengePopupEvent 9 -- itemBought 12\n",
      "chatEvent 29 -- playGame 7 -- revengePopupEvent 9 -- itemBought 12\n",
      "loading 82 -- playGame 7 -- revengePopupEvent 9 -- itemBought 12\n",
      "playerLeftTournament 16 -- playGame 7 -- revengePopupEvent 9 -- itemBought 12\n",
      "levelUp 1 -- outOfGameSend 5 -- playGame 7 -- uiInteraction 8\n"
     ]
    }
   ],
   "source": [
    "predict_list3 = recommend(events_after_delete2)"
   ]
  },
  {
   "cell_type": "code",
   "execution_count": 102,
   "metadata": {},
   "outputs": [
    {
     "data": {
      "text/plain": [
       "['playGame',\n",
       " 'revengePopupEvent',\n",
       " 'itemBought',\n",
       " 'levelUp',\n",
       " 'outOfGameSend',\n",
       " 'appsFlyerAttribution',\n",
       " 'clientDevice',\n",
       " 'uiInteraction',\n",
       " 'itemCollected',\n",
       " 'achievement']"
      ]
     },
     "execution_count": 102,
     "metadata": {},
     "output_type": "execute_result"
    }
   ],
   "source": [
    "predict_list3"
   ]
  },
  {
   "cell_type": "code",
   "execution_count": 106,
   "metadata": {},
   "outputs": [
    {
     "name": "stdout",
     "output_type": "stream",
     "text": [
      "number of input events: 70\n",
      "number of recommend list: 10\n"
     ]
    }
   ],
   "source": [
    "print('number of input events:',len(input_events))\n",
    "print('number of recommend list:',len(predict_list3))"
   ]
  }
 ],
 "metadata": {
  "kernelspec": {
   "display_name": "Python 3",
   "language": "python",
   "name": "python3"
  },
  "language_info": {
   "codemirror_mode": {
    "name": "ipython",
    "version": 3
   },
   "file_extension": ".py",
   "mimetype": "text/x-python",
   "name": "python",
   "nbconvert_exporter": "python",
   "pygments_lexer": "ipython3",
   "version": "3.6.2"
  }
 },
 "nbformat": 4,
 "nbformat_minor": 2
}
